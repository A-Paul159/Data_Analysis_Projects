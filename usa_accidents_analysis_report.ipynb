{
  "cells": [
    {
      "cell_type": "code",
      "execution_count": 1,
      "metadata": {
        "colab": {
          "base_uri": "https://localhost:8080/"
        },
        "id": "G9SKwrStqh9C",
        "outputId": "a6cb9f40-024b-45c8-f9ee-07ed0221205a"
      },
      "outputs": [
        {
          "output_type": "stream",
          "name": "stdout",
          "text": [
            "\u001b[?25l\r\u001b[K     |████▊                           | 10 kB 19.0 MB/s eta 0:00:01\r\u001b[K     |█████████▌                      | 20 kB 12.3 MB/s eta 0:00:01\r\u001b[K     |██████████████▎                 | 30 kB 7.3 MB/s eta 0:00:01\r\u001b[K     |███████████████████             | 40 kB 6.6 MB/s eta 0:00:01\r\u001b[K     |███████████████████████▉        | 51 kB 4.3 MB/s eta 0:00:01\r\u001b[K     |████████████████████████████▋   | 61 kB 5.1 MB/s eta 0:00:01\r\u001b[K     |████████████████████████████████| 68 kB 2.0 MB/s \n",
            "\u001b[?25h  Building wheel for uuid (setup.py) ... \u001b[?25l\u001b[?25hdone\n"
          ]
        }
      ],
      "source": [
        "# Jovian Commit Essentials\n",
        "# Please retain and execute this cell without modifying the contents for `jovian.commit` to work\n",
        "!pip install jovian --upgrade -q\n",
        "import jovian\n",
        "jovian.set_project('usa-accidents-analysis-report')\n",
        "jovian.set_colab_id('1ompqPKffqlmQpzvy8eY3-gckM9nhK7H1')"
      ]
    },
    {
      "cell_type": "markdown",
      "metadata": {
        "id": "LTZY01Ynqh9H"
      },
      "source": [
        "# usa-accidents-analysis-report\n",
        "\n",
        "Use the \"Run\" button to execute the code."
      ]
    },
    {
      "cell_type": "code",
      "execution_count": 2,
      "metadata": {
        "id": "XBrSOxMwqh9J"
      },
      "outputs": [],
      "source": [
        "!pip install jovian --upgrade --quiet"
      ]
    },
    {
      "cell_type": "code",
      "execution_count": 3,
      "metadata": {
        "id": "Bngmq2H4qh9J"
      },
      "outputs": [],
      "source": [
        "import jovian"
      ]
    },
    {
      "cell_type": "code",
      "execution_count": 9,
      "metadata": {
        "colab": {
          "base_uri": "https://localhost:8080/",
          "height": 89
        },
        "id": "Oikfr47eqh9K",
        "outputId": "d25acff7-b468-48bc-e284-536baa3eed14"
      },
      "outputs": [
        {
          "output_type": "stream",
          "name": "stdout",
          "text": [
            "[jovian] Detected Colab notebook...\u001b[0m\n",
            "[jovian] Uploading colab notebook to Jovian...\u001b[0m\n",
            "Committed successfully! https://jovian.ai/paulbilg/usa-accidents-analysis-report\n"
          ]
        },
        {
          "output_type": "execute_result",
          "data": {
            "text/plain": [
              "'https://jovian.ai/paulbilg/usa-accidents-analysis-report'"
            ],
            "application/vnd.google.colaboratory.intrinsic+json": {
              "type": "string"
            }
          },
          "metadata": {},
          "execution_count": 9
        }
      ],
      "source": [
        "# Execute this to save new versions of the notebook\n",
        "jovian.commit(project=\"usa-accidents-analysis-report\")"
      ]
    },
    {
      "cell_type": "code",
      "source": [
        ""
      ],
      "metadata": {
        "id": "nt4eu4bhrT1c"
      },
      "execution_count": null,
      "outputs": []
    },
    {
      "cell_type": "markdown",
      "source": [
        "#USA Accidents Analysis Report"
      ],
      "metadata": {
        "id": "4KNT4h--rbe7"
      }
    },
    {
      "cell_type": "markdown",
      "source": [
        "- Kaggle\n",
        "- Contains information and analysis on US Car accidents\n",
        "- Can be used to predict/prevent accidents"
      ],
      "metadata": {
        "id": "MBJbGWu_7T3W"
      }
    },
    {
      "cell_type": "markdown",
      "source": [
        "##Data"
      ],
      "metadata": {
        "id": "cudtWcFQrirP"
      }
    },
    {
      "cell_type": "code",
      "source": [
        "pip install opendatasets --upgrade --quiet"
      ],
      "metadata": {
        "id": "MSdMX_corlto"
      },
      "execution_count": 11,
      "outputs": []
    },
    {
      "cell_type": "code",
      "source": [
        "import opendatasets as od\n",
        "dataset_url = 'https://www.kaggle.com/sobhanmoosavi/us-accidents'\n",
        "od.download(dataset_url)"
      ],
      "metadata": {
        "colab": {
          "base_uri": "https://localhost:8080/"
        },
        "id": "kVw5pmOMrlv4",
        "outputId": "a77e9eb9-b9e0-4693-8441-ac865c427556"
      },
      "execution_count": 12,
      "outputs": [
        {
          "output_type": "stream",
          "name": "stdout",
          "text": [
            "Please provide your Kaggle credentials to download this dataset. Learn more: http://bit.ly/kaggle-creds\n",
            "Your Kaggle username: paulbilg\n",
            "Your Kaggle Key: ··········\n",
            "Downloading us-accidents.zip to ./us-accidents\n"
          ]
        },
        {
          "output_type": "stream",
          "name": "stderr",
          "text": [
            "100%|██████████| 269M/269M [00:01<00:00, 244MB/s]\n"
          ]
        },
        {
          "output_type": "stream",
          "name": "stdout",
          "text": [
            "\n"
          ]
        }
      ]
    },
    {
      "cell_type": "code",
      "source": [
        "data_filename = 'us-accidents/US_Accidents_Dec21_updated.csv'"
      ],
      "metadata": {
        "id": "A8N7K8L28ouM"
      },
      "execution_count": 13,
      "outputs": []
    },
    {
      "cell_type": "markdown",
      "source": [
        "##Questions\n"
      ],
      "metadata": {
        "id": "DW1aoflp-lga"
      }
    },
    {
      "cell_type": "markdown",
      "source": [
        "- Are there more accidents in areas that are warmer or coler?\n",
        "- Which states/cities contians the highest acidents per capita?\n",
        "- Out of the top cities with the most accidents, how many of them belong to any certain state?\n",
        "- What time of day do most accidents occur?\n",
        "- What days/months do most of the accidents occur?\n",
        "- What is the yearly trend of accidents?\n",
        "-"
      ],
      "metadata": {
        "id": "Swqw2NhT-xnb"
      }
    },
    {
      "cell_type": "markdown",
      "source": [
        "##Data Cleaning"
      ],
      "metadata": {
        "id": "zf0BaQOJrmNv"
      }
    },
    {
      "cell_type": "code",
      "source": [
        "import pandas as pd"
      ],
      "metadata": {
        "id": "kotJICLhroKo"
      },
      "execution_count": 16,
      "outputs": []
    },
    {
      "cell_type": "code",
      "source": [
        "df = pd.read_csv(data_filename)"
      ],
      "metadata": {
        "id": "p6BYsV79roZE"
      },
      "execution_count": 17,
      "outputs": []
    },
    {
      "cell_type": "code",
      "source": [
        "df"
      ],
      "metadata": {
        "colab": {
          "base_uri": "https://localhost:8080/",
          "height": 939
        },
        "id": "rFKCh_jlrowJ",
        "outputId": "ac17a34d-e22b-4547-b1f4-b80f5091bfed"
      },
      "execution_count": 18,
      "outputs": [
        {
          "output_type": "execute_result",
          "data": {
            "text/plain": [
              "                ID  Severity           Start_Time             End_Time  \\\n",
              "0              A-1         3  2016-02-08 00:37:08  2016-02-08 06:37:08   \n",
              "1              A-2         2  2016-02-08 05:56:20  2016-02-08 11:56:20   \n",
              "2              A-3         2  2016-02-08 06:15:39  2016-02-08 12:15:39   \n",
              "3              A-4         2  2016-02-08 06:51:45  2016-02-08 12:51:45   \n",
              "4              A-5         3  2016-02-08 07:53:43  2016-02-08 13:53:43   \n",
              "...            ...       ...                  ...                  ...   \n",
              "2845337  A-2845338         2  2019-08-23 18:03:25  2019-08-23 18:32:01   \n",
              "2845338  A-2845339         2  2019-08-23 19:11:30  2019-08-23 19:38:23   \n",
              "2845339  A-2845340         2  2019-08-23 19:00:21  2019-08-23 19:28:49   \n",
              "2845340  A-2845341         2  2019-08-23 19:00:21  2019-08-23 19:29:42   \n",
              "2845341  A-2845342         2  2019-08-23 18:52:06  2019-08-23 19:21:31   \n",
              "\n",
              "         Start_Lat   Start_Lng    End_Lat     End_Lng  Distance(mi)  \\\n",
              "0        40.108910  -83.092860  40.112060  -83.031870         3.230   \n",
              "1        39.865420  -84.062800  39.865010  -84.048730         0.747   \n",
              "2        39.102660  -84.524680  39.102090  -84.523960         0.055   \n",
              "3        41.062130  -81.537840  41.062170  -81.535470         0.123   \n",
              "4        39.172393  -84.492792  39.170476  -84.501798         0.500   \n",
              "...            ...         ...        ...         ...           ...   \n",
              "2845337  34.002480 -117.379360  33.998880 -117.370940         0.543   \n",
              "2845338  32.766960 -117.148060  32.765550 -117.153630         0.338   \n",
              "2845339  33.775450 -117.847790  33.777400 -117.857270         0.561   \n",
              "2845340  33.992460 -118.403020  33.983110 -118.395650         0.772   \n",
              "2845341  34.133930 -117.230920  34.137360 -117.239340         0.537   \n",
              "\n",
              "                                               Description  ...  Roundabout  \\\n",
              "0        Between Sawmill Rd/Exit 20 and OH-315/Olentang...  ...       False   \n",
              "1                       At OH-4/OH-235/Exit 41 - Accident.  ...       False   \n",
              "2                         At I-71/US-50/Exit 1 - Accident.  ...       False   \n",
              "3                          At Dart Ave/Exit 21 - Accident.  ...       False   \n",
              "4                       At Mitchell Ave/Exit 6 - Accident.  ...       False   \n",
              "...                                                    ...  ...         ...   \n",
              "2845337                           At Market St - Accident.  ...       False   \n",
              "2845338    At Camino Del Rio/Mission Center Rd - Accident.  ...       False   \n",
              "2845339  At Glassell St/Grand Ave - Accident. in the ri...  ...       False   \n",
              "2845340     At CA-90/Marina Fwy/Jefferson Blvd - Accident.  ...       False   \n",
              "2845341              At Highland Ave/Arden Ave - Accident.  ...       False   \n",
              "\n",
              "        Station   Stop Traffic_Calming Traffic_Signal Turning_Loop  \\\n",
              "0         False  False           False          False        False   \n",
              "1         False  False           False          False        False   \n",
              "2         False  False           False          False        False   \n",
              "3         False  False           False          False        False   \n",
              "4         False  False           False          False        False   \n",
              "...         ...    ...             ...            ...          ...   \n",
              "2845337   False  False           False          False        False   \n",
              "2845338   False  False           False          False        False   \n",
              "2845339   False  False           False          False        False   \n",
              "2845340   False  False           False          False        False   \n",
              "2845341   False  False           False          False        False   \n",
              "\n",
              "        Sunrise_Sunset Civil_Twilight Nautical_Twilight Astronomical_Twilight  \n",
              "0                Night          Night             Night                 Night  \n",
              "1                Night          Night             Night                 Night  \n",
              "2                Night          Night             Night                   Day  \n",
              "3                Night          Night               Day                   Day  \n",
              "4                  Day            Day               Day                   Day  \n",
              "...                ...            ...               ...                   ...  \n",
              "2845337            Day            Day               Day                   Day  \n",
              "2845338            Day            Day               Day                   Day  \n",
              "2845339            Day            Day               Day                   Day  \n",
              "2845340            Day            Day               Day                   Day  \n",
              "2845341            Day            Day               Day                   Day  \n",
              "\n",
              "[2845342 rows x 47 columns]"
            ],
            "text/html": [
              "\n",
              "  <div id=\"df-967f095e-6eb0-41be-84bb-57b3a8a636c1\">\n",
              "    <div class=\"colab-df-container\">\n",
              "      <div>\n",
              "<style scoped>\n",
              "    .dataframe tbody tr th:only-of-type {\n",
              "        vertical-align: middle;\n",
              "    }\n",
              "\n",
              "    .dataframe tbody tr th {\n",
              "        vertical-align: top;\n",
              "    }\n",
              "\n",
              "    .dataframe thead th {\n",
              "        text-align: right;\n",
              "    }\n",
              "</style>\n",
              "<table border=\"1\" class=\"dataframe\">\n",
              "  <thead>\n",
              "    <tr style=\"text-align: right;\">\n",
              "      <th></th>\n",
              "      <th>ID</th>\n",
              "      <th>Severity</th>\n",
              "      <th>Start_Time</th>\n",
              "      <th>End_Time</th>\n",
              "      <th>Start_Lat</th>\n",
              "      <th>Start_Lng</th>\n",
              "      <th>End_Lat</th>\n",
              "      <th>End_Lng</th>\n",
              "      <th>Distance(mi)</th>\n",
              "      <th>Description</th>\n",
              "      <th>...</th>\n",
              "      <th>Roundabout</th>\n",
              "      <th>Station</th>\n",
              "      <th>Stop</th>\n",
              "      <th>Traffic_Calming</th>\n",
              "      <th>Traffic_Signal</th>\n",
              "      <th>Turning_Loop</th>\n",
              "      <th>Sunrise_Sunset</th>\n",
              "      <th>Civil_Twilight</th>\n",
              "      <th>Nautical_Twilight</th>\n",
              "      <th>Astronomical_Twilight</th>\n",
              "    </tr>\n",
              "  </thead>\n",
              "  <tbody>\n",
              "    <tr>\n",
              "      <th>0</th>\n",
              "      <td>A-1</td>\n",
              "      <td>3</td>\n",
              "      <td>2016-02-08 00:37:08</td>\n",
              "      <td>2016-02-08 06:37:08</td>\n",
              "      <td>40.108910</td>\n",
              "      <td>-83.092860</td>\n",
              "      <td>40.112060</td>\n",
              "      <td>-83.031870</td>\n",
              "      <td>3.230</td>\n",
              "      <td>Between Sawmill Rd/Exit 20 and OH-315/Olentang...</td>\n",
              "      <td>...</td>\n",
              "      <td>False</td>\n",
              "      <td>False</td>\n",
              "      <td>False</td>\n",
              "      <td>False</td>\n",
              "      <td>False</td>\n",
              "      <td>False</td>\n",
              "      <td>Night</td>\n",
              "      <td>Night</td>\n",
              "      <td>Night</td>\n",
              "      <td>Night</td>\n",
              "    </tr>\n",
              "    <tr>\n",
              "      <th>1</th>\n",
              "      <td>A-2</td>\n",
              "      <td>2</td>\n",
              "      <td>2016-02-08 05:56:20</td>\n",
              "      <td>2016-02-08 11:56:20</td>\n",
              "      <td>39.865420</td>\n",
              "      <td>-84.062800</td>\n",
              "      <td>39.865010</td>\n",
              "      <td>-84.048730</td>\n",
              "      <td>0.747</td>\n",
              "      <td>At OH-4/OH-235/Exit 41 - Accident.</td>\n",
              "      <td>...</td>\n",
              "      <td>False</td>\n",
              "      <td>False</td>\n",
              "      <td>False</td>\n",
              "      <td>False</td>\n",
              "      <td>False</td>\n",
              "      <td>False</td>\n",
              "      <td>Night</td>\n",
              "      <td>Night</td>\n",
              "      <td>Night</td>\n",
              "      <td>Night</td>\n",
              "    </tr>\n",
              "    <tr>\n",
              "      <th>2</th>\n",
              "      <td>A-3</td>\n",
              "      <td>2</td>\n",
              "      <td>2016-02-08 06:15:39</td>\n",
              "      <td>2016-02-08 12:15:39</td>\n",
              "      <td>39.102660</td>\n",
              "      <td>-84.524680</td>\n",
              "      <td>39.102090</td>\n",
              "      <td>-84.523960</td>\n",
              "      <td>0.055</td>\n",
              "      <td>At I-71/US-50/Exit 1 - Accident.</td>\n",
              "      <td>...</td>\n",
              "      <td>False</td>\n",
              "      <td>False</td>\n",
              "      <td>False</td>\n",
              "      <td>False</td>\n",
              "      <td>False</td>\n",
              "      <td>False</td>\n",
              "      <td>Night</td>\n",
              "      <td>Night</td>\n",
              "      <td>Night</td>\n",
              "      <td>Day</td>\n",
              "    </tr>\n",
              "    <tr>\n",
              "      <th>3</th>\n",
              "      <td>A-4</td>\n",
              "      <td>2</td>\n",
              "      <td>2016-02-08 06:51:45</td>\n",
              "      <td>2016-02-08 12:51:45</td>\n",
              "      <td>41.062130</td>\n",
              "      <td>-81.537840</td>\n",
              "      <td>41.062170</td>\n",
              "      <td>-81.535470</td>\n",
              "      <td>0.123</td>\n",
              "      <td>At Dart Ave/Exit 21 - Accident.</td>\n",
              "      <td>...</td>\n",
              "      <td>False</td>\n",
              "      <td>False</td>\n",
              "      <td>False</td>\n",
              "      <td>False</td>\n",
              "      <td>False</td>\n",
              "      <td>False</td>\n",
              "      <td>Night</td>\n",
              "      <td>Night</td>\n",
              "      <td>Day</td>\n",
              "      <td>Day</td>\n",
              "    </tr>\n",
              "    <tr>\n",
              "      <th>4</th>\n",
              "      <td>A-5</td>\n",
              "      <td>3</td>\n",
              "      <td>2016-02-08 07:53:43</td>\n",
              "      <td>2016-02-08 13:53:43</td>\n",
              "      <td>39.172393</td>\n",
              "      <td>-84.492792</td>\n",
              "      <td>39.170476</td>\n",
              "      <td>-84.501798</td>\n",
              "      <td>0.500</td>\n",
              "      <td>At Mitchell Ave/Exit 6 - Accident.</td>\n",
              "      <td>...</td>\n",
              "      <td>False</td>\n",
              "      <td>False</td>\n",
              "      <td>False</td>\n",
              "      <td>False</td>\n",
              "      <td>False</td>\n",
              "      <td>False</td>\n",
              "      <td>Day</td>\n",
              "      <td>Day</td>\n",
              "      <td>Day</td>\n",
              "      <td>Day</td>\n",
              "    </tr>\n",
              "    <tr>\n",
              "      <th>...</th>\n",
              "      <td>...</td>\n",
              "      <td>...</td>\n",
              "      <td>...</td>\n",
              "      <td>...</td>\n",
              "      <td>...</td>\n",
              "      <td>...</td>\n",
              "      <td>...</td>\n",
              "      <td>...</td>\n",
              "      <td>...</td>\n",
              "      <td>...</td>\n",
              "      <td>...</td>\n",
              "      <td>...</td>\n",
              "      <td>...</td>\n",
              "      <td>...</td>\n",
              "      <td>...</td>\n",
              "      <td>...</td>\n",
              "      <td>...</td>\n",
              "      <td>...</td>\n",
              "      <td>...</td>\n",
              "      <td>...</td>\n",
              "      <td>...</td>\n",
              "    </tr>\n",
              "    <tr>\n",
              "      <th>2845337</th>\n",
              "      <td>A-2845338</td>\n",
              "      <td>2</td>\n",
              "      <td>2019-08-23 18:03:25</td>\n",
              "      <td>2019-08-23 18:32:01</td>\n",
              "      <td>34.002480</td>\n",
              "      <td>-117.379360</td>\n",
              "      <td>33.998880</td>\n",
              "      <td>-117.370940</td>\n",
              "      <td>0.543</td>\n",
              "      <td>At Market St - Accident.</td>\n",
              "      <td>...</td>\n",
              "      <td>False</td>\n",
              "      <td>False</td>\n",
              "      <td>False</td>\n",
              "      <td>False</td>\n",
              "      <td>False</td>\n",
              "      <td>False</td>\n",
              "      <td>Day</td>\n",
              "      <td>Day</td>\n",
              "      <td>Day</td>\n",
              "      <td>Day</td>\n",
              "    </tr>\n",
              "    <tr>\n",
              "      <th>2845338</th>\n",
              "      <td>A-2845339</td>\n",
              "      <td>2</td>\n",
              "      <td>2019-08-23 19:11:30</td>\n",
              "      <td>2019-08-23 19:38:23</td>\n",
              "      <td>32.766960</td>\n",
              "      <td>-117.148060</td>\n",
              "      <td>32.765550</td>\n",
              "      <td>-117.153630</td>\n",
              "      <td>0.338</td>\n",
              "      <td>At Camino Del Rio/Mission Center Rd - Accident.</td>\n",
              "      <td>...</td>\n",
              "      <td>False</td>\n",
              "      <td>False</td>\n",
              "      <td>False</td>\n",
              "      <td>False</td>\n",
              "      <td>False</td>\n",
              "      <td>False</td>\n",
              "      <td>Day</td>\n",
              "      <td>Day</td>\n",
              "      <td>Day</td>\n",
              "      <td>Day</td>\n",
              "    </tr>\n",
              "    <tr>\n",
              "      <th>2845339</th>\n",
              "      <td>A-2845340</td>\n",
              "      <td>2</td>\n",
              "      <td>2019-08-23 19:00:21</td>\n",
              "      <td>2019-08-23 19:28:49</td>\n",
              "      <td>33.775450</td>\n",
              "      <td>-117.847790</td>\n",
              "      <td>33.777400</td>\n",
              "      <td>-117.857270</td>\n",
              "      <td>0.561</td>\n",
              "      <td>At Glassell St/Grand Ave - Accident. in the ri...</td>\n",
              "      <td>...</td>\n",
              "      <td>False</td>\n",
              "      <td>False</td>\n",
              "      <td>False</td>\n",
              "      <td>False</td>\n",
              "      <td>False</td>\n",
              "      <td>False</td>\n",
              "      <td>Day</td>\n",
              "      <td>Day</td>\n",
              "      <td>Day</td>\n",
              "      <td>Day</td>\n",
              "    </tr>\n",
              "    <tr>\n",
              "      <th>2845340</th>\n",
              "      <td>A-2845341</td>\n",
              "      <td>2</td>\n",
              "      <td>2019-08-23 19:00:21</td>\n",
              "      <td>2019-08-23 19:29:42</td>\n",
              "      <td>33.992460</td>\n",
              "      <td>-118.403020</td>\n",
              "      <td>33.983110</td>\n",
              "      <td>-118.395650</td>\n",
              "      <td>0.772</td>\n",
              "      <td>At CA-90/Marina Fwy/Jefferson Blvd - Accident.</td>\n",
              "      <td>...</td>\n",
              "      <td>False</td>\n",
              "      <td>False</td>\n",
              "      <td>False</td>\n",
              "      <td>False</td>\n",
              "      <td>False</td>\n",
              "      <td>False</td>\n",
              "      <td>Day</td>\n",
              "      <td>Day</td>\n",
              "      <td>Day</td>\n",
              "      <td>Day</td>\n",
              "    </tr>\n",
              "    <tr>\n",
              "      <th>2845341</th>\n",
              "      <td>A-2845342</td>\n",
              "      <td>2</td>\n",
              "      <td>2019-08-23 18:52:06</td>\n",
              "      <td>2019-08-23 19:21:31</td>\n",
              "      <td>34.133930</td>\n",
              "      <td>-117.230920</td>\n",
              "      <td>34.137360</td>\n",
              "      <td>-117.239340</td>\n",
              "      <td>0.537</td>\n",
              "      <td>At Highland Ave/Arden Ave - Accident.</td>\n",
              "      <td>...</td>\n",
              "      <td>False</td>\n",
              "      <td>False</td>\n",
              "      <td>False</td>\n",
              "      <td>False</td>\n",
              "      <td>False</td>\n",
              "      <td>False</td>\n",
              "      <td>Day</td>\n",
              "      <td>Day</td>\n",
              "      <td>Day</td>\n",
              "      <td>Day</td>\n",
              "    </tr>\n",
              "  </tbody>\n",
              "</table>\n",
              "<p>2845342 rows × 47 columns</p>\n",
              "</div>\n",
              "      <button class=\"colab-df-convert\" onclick=\"convertToInteractive('df-967f095e-6eb0-41be-84bb-57b3a8a636c1')\"\n",
              "              title=\"Convert this dataframe to an interactive table.\"\n",
              "              style=\"display:none;\">\n",
              "        \n",
              "  <svg xmlns=\"http://www.w3.org/2000/svg\" height=\"24px\"viewBox=\"0 0 24 24\"\n",
              "       width=\"24px\">\n",
              "    <path d=\"M0 0h24v24H0V0z\" fill=\"none\"/>\n",
              "    <path d=\"M18.56 5.44l.94 2.06.94-2.06 2.06-.94-2.06-.94-.94-2.06-.94 2.06-2.06.94zm-11 1L8.5 8.5l.94-2.06 2.06-.94-2.06-.94L8.5 2.5l-.94 2.06-2.06.94zm10 10l.94 2.06.94-2.06 2.06-.94-2.06-.94-.94-2.06-.94 2.06-2.06.94z\"/><path d=\"M17.41 7.96l-1.37-1.37c-.4-.4-.92-.59-1.43-.59-.52 0-1.04.2-1.43.59L10.3 9.45l-7.72 7.72c-.78.78-.78 2.05 0 2.83L4 21.41c.39.39.9.59 1.41.59.51 0 1.02-.2 1.41-.59l7.78-7.78 2.81-2.81c.8-.78.8-2.07 0-2.86zM5.41 20L4 18.59l7.72-7.72 1.47 1.35L5.41 20z\"/>\n",
              "  </svg>\n",
              "      </button>\n",
              "      \n",
              "  <style>\n",
              "    .colab-df-container {\n",
              "      display:flex;\n",
              "      flex-wrap:wrap;\n",
              "      gap: 12px;\n",
              "    }\n",
              "\n",
              "    .colab-df-convert {\n",
              "      background-color: #E8F0FE;\n",
              "      border: none;\n",
              "      border-radius: 50%;\n",
              "      cursor: pointer;\n",
              "      display: none;\n",
              "      fill: #1967D2;\n",
              "      height: 32px;\n",
              "      padding: 0 0 0 0;\n",
              "      width: 32px;\n",
              "    }\n",
              "\n",
              "    .colab-df-convert:hover {\n",
              "      background-color: #E2EBFA;\n",
              "      box-shadow: 0px 1px 2px rgba(60, 64, 67, 0.3), 0px 1px 3px 1px rgba(60, 64, 67, 0.15);\n",
              "      fill: #174EA6;\n",
              "    }\n",
              "\n",
              "    [theme=dark] .colab-df-convert {\n",
              "      background-color: #3B4455;\n",
              "      fill: #D2E3FC;\n",
              "    }\n",
              "\n",
              "    [theme=dark] .colab-df-convert:hover {\n",
              "      background-color: #434B5C;\n",
              "      box-shadow: 0px 1px 3px 1px rgba(0, 0, 0, 0.15);\n",
              "      filter: drop-shadow(0px 1px 2px rgba(0, 0, 0, 0.3));\n",
              "      fill: #FFFFFF;\n",
              "    }\n",
              "  </style>\n",
              "\n",
              "      <script>\n",
              "        const buttonEl =\n",
              "          document.querySelector('#df-967f095e-6eb0-41be-84bb-57b3a8a636c1 button.colab-df-convert');\n",
              "        buttonEl.style.display =\n",
              "          google.colab.kernel.accessAllowed ? 'block' : 'none';\n",
              "\n",
              "        async function convertToInteractive(key) {\n",
              "          const element = document.querySelector('#df-967f095e-6eb0-41be-84bb-57b3a8a636c1');\n",
              "          const dataTable =\n",
              "            await google.colab.kernel.invokeFunction('convertToInteractive',\n",
              "                                                     [key], {});\n",
              "          if (!dataTable) return;\n",
              "\n",
              "          const docLinkHtml = 'Like what you see? Visit the ' +\n",
              "            '<a target=\"_blank\" href=https://colab.research.google.com/notebooks/data_table.ipynb>data table notebook</a>'\n",
              "            + ' to learn more about interactive tables.';\n",
              "          element.innerHTML = '';\n",
              "          dataTable['output_type'] = 'display_data';\n",
              "          await google.colab.output.renderOutput(dataTable, element);\n",
              "          const docLink = document.createElement('div');\n",
              "          docLink.innerHTML = docLinkHtml;\n",
              "          element.appendChild(docLink);\n",
              "        }\n",
              "      </script>\n",
              "    </div>\n",
              "  </div>\n",
              "  "
            ]
          },
          "metadata": {},
          "execution_count": 18
        }
      ]
    },
    {
      "cell_type": "code",
      "source": [
        "df.info()"
      ],
      "metadata": {
        "colab": {
          "base_uri": "https://localhost:8080/"
        },
        "id": "RBPFJB199lCC",
        "outputId": "97e40710-badb-486a-b43c-aad885424585"
      },
      "execution_count": 22,
      "outputs": [
        {
          "output_type": "stream",
          "name": "stdout",
          "text": [
            "<class 'pandas.core.frame.DataFrame'>\n",
            "RangeIndex: 2845342 entries, 0 to 2845341\n",
            "Data columns (total 47 columns):\n",
            " #   Column                 Dtype  \n",
            "---  ------                 -----  \n",
            " 0   ID                     object \n",
            " 1   Severity               int64  \n",
            " 2   Start_Time             object \n",
            " 3   End_Time               object \n",
            " 4   Start_Lat              float64\n",
            " 5   Start_Lng              float64\n",
            " 6   End_Lat                float64\n",
            " 7   End_Lng                float64\n",
            " 8   Distance(mi)           float64\n",
            " 9   Description            object \n",
            " 10  Number                 float64\n",
            " 11  Street                 object \n",
            " 12  Side                   object \n",
            " 13  City                   object \n",
            " 14  County                 object \n",
            " 15  State                  object \n",
            " 16  Zipcode                object \n",
            " 17  Country                object \n",
            " 18  Timezone               object \n",
            " 19  Airport_Code           object \n",
            " 20  Weather_Timestamp      object \n",
            " 21  Temperature(F)         float64\n",
            " 22  Wind_Chill(F)          float64\n",
            " 23  Humidity(%)            float64\n",
            " 24  Pressure(in)           float64\n",
            " 25  Visibility(mi)         float64\n",
            " 26  Wind_Direction         object \n",
            " 27  Wind_Speed(mph)        float64\n",
            " 28  Precipitation(in)      float64\n",
            " 29  Weather_Condition      object \n",
            " 30  Amenity                bool   \n",
            " 31  Bump                   bool   \n",
            " 32  Crossing               bool   \n",
            " 33  Give_Way               bool   \n",
            " 34  Junction               bool   \n",
            " 35  No_Exit                bool   \n",
            " 36  Railway                bool   \n",
            " 37  Roundabout             bool   \n",
            " 38  Station                bool   \n",
            " 39  Stop                   bool   \n",
            " 40  Traffic_Calming        bool   \n",
            " 41  Traffic_Signal         bool   \n",
            " 42  Turning_Loop           bool   \n",
            " 43  Sunrise_Sunset         object \n",
            " 44  Civil_Twilight         object \n",
            " 45  Nautical_Twilight      object \n",
            " 46  Astronomical_Twilight  object \n",
            "dtypes: bool(13), float64(13), int64(1), object(20)\n",
            "memory usage: 773.4+ MB\n"
          ]
        }
      ]
    },
    {
      "cell_type": "code",
      "source": [
        "df.describe()"
      ],
      "metadata": {
        "colab": {
          "base_uri": "https://localhost:8080/",
          "height": 364
        },
        "id": "tPQkqc83-B6G",
        "outputId": "2780c048-5b45-468d-be8a-0cca0db28e5f"
      },
      "execution_count": 24,
      "outputs": [
        {
          "output_type": "execute_result",
          "data": {
            "text/plain": [
              "           Severity     Start_Lat     Start_Lng       End_Lat       End_Lng  \\\n",
              "count  2.845342e+06  2.845342e+06  2.845342e+06  2.845342e+06  2.845342e+06   \n",
              "mean   2.137572e+00  3.624520e+01 -9.711463e+01  3.624532e+01 -9.711439e+01   \n",
              "std    4.787216e-01  5.363797e+00  1.831782e+01  5.363873e+00  1.831763e+01   \n",
              "min    1.000000e+00  2.456603e+01 -1.245481e+02  2.456601e+01 -1.245457e+02   \n",
              "25%    2.000000e+00  3.344517e+01 -1.180331e+02  3.344628e+01 -1.180333e+02   \n",
              "50%    2.000000e+00  3.609861e+01 -9.241808e+01  3.609799e+01 -9.241772e+01   \n",
              "75%    2.000000e+00  4.016024e+01 -8.037243e+01  4.016105e+01 -8.037338e+01   \n",
              "max    4.000000e+00  4.900058e+01 -6.711317e+01  4.907500e+01 -6.710924e+01   \n",
              "\n",
              "       Distance(mi)        Number  Temperature(F)  Wind_Chill(F)  \\\n",
              "count  2.845342e+06  1.101431e+06    2.776068e+06   2.375699e+06   \n",
              "mean   7.026779e-01  8.089408e+03    6.179356e+01   5.965823e+01   \n",
              "std    1.560361e+00  1.836009e+04    1.862263e+01   2.116097e+01   \n",
              "min    0.000000e+00  0.000000e+00   -8.900000e+01  -8.900000e+01   \n",
              "25%    5.200000e-02  1.270000e+03    5.000000e+01   4.600000e+01   \n",
              "50%    2.440000e-01  4.007000e+03    6.400000e+01   6.300000e+01   \n",
              "75%    7.640000e-01  9.567000e+03    7.600000e+01   7.600000e+01   \n",
              "max    1.551860e+02  9.999997e+06    1.960000e+02   1.960000e+02   \n",
              "\n",
              "        Humidity(%)  Pressure(in)  Visibility(mi)  Wind_Speed(mph)  \\\n",
              "count  2.772250e+06  2.786142e+06    2.774796e+06     2.687398e+06   \n",
              "mean   6.436545e+01  2.947234e+01    9.099391e+00     7.395044e+00   \n",
              "std    2.287457e+01  1.045286e+00    2.717546e+00     5.527454e+00   \n",
              "min    1.000000e+00  0.000000e+00    0.000000e+00     0.000000e+00   \n",
              "25%    4.800000e+01  2.931000e+01    1.000000e+01     3.500000e+00   \n",
              "50%    6.700000e+01  2.982000e+01    1.000000e+01     7.000000e+00   \n",
              "75%    8.300000e+01  3.001000e+01    1.000000e+01     1.000000e+01   \n",
              "max    1.000000e+02  5.890000e+01    1.400000e+02     1.087000e+03   \n",
              "\n",
              "       Precipitation(in)  \n",
              "count       2.295884e+06  \n",
              "mean        7.016940e-03  \n",
              "std         9.348831e-02  \n",
              "min         0.000000e+00  \n",
              "25%         0.000000e+00  \n",
              "50%         0.000000e+00  \n",
              "75%         0.000000e+00  \n",
              "max         2.400000e+01  "
            ],
            "text/html": [
              "\n",
              "  <div id=\"df-0fb7dc09-d779-4d77-9808-8a67d1e1f340\">\n",
              "    <div class=\"colab-df-container\">\n",
              "      <div>\n",
              "<style scoped>\n",
              "    .dataframe tbody tr th:only-of-type {\n",
              "        vertical-align: middle;\n",
              "    }\n",
              "\n",
              "    .dataframe tbody tr th {\n",
              "        vertical-align: top;\n",
              "    }\n",
              "\n",
              "    .dataframe thead th {\n",
              "        text-align: right;\n",
              "    }\n",
              "</style>\n",
              "<table border=\"1\" class=\"dataframe\">\n",
              "  <thead>\n",
              "    <tr style=\"text-align: right;\">\n",
              "      <th></th>\n",
              "      <th>Severity</th>\n",
              "      <th>Start_Lat</th>\n",
              "      <th>Start_Lng</th>\n",
              "      <th>End_Lat</th>\n",
              "      <th>End_Lng</th>\n",
              "      <th>Distance(mi)</th>\n",
              "      <th>Number</th>\n",
              "      <th>Temperature(F)</th>\n",
              "      <th>Wind_Chill(F)</th>\n",
              "      <th>Humidity(%)</th>\n",
              "      <th>Pressure(in)</th>\n",
              "      <th>Visibility(mi)</th>\n",
              "      <th>Wind_Speed(mph)</th>\n",
              "      <th>Precipitation(in)</th>\n",
              "    </tr>\n",
              "  </thead>\n",
              "  <tbody>\n",
              "    <tr>\n",
              "      <th>count</th>\n",
              "      <td>2.845342e+06</td>\n",
              "      <td>2.845342e+06</td>\n",
              "      <td>2.845342e+06</td>\n",
              "      <td>2.845342e+06</td>\n",
              "      <td>2.845342e+06</td>\n",
              "      <td>2.845342e+06</td>\n",
              "      <td>1.101431e+06</td>\n",
              "      <td>2.776068e+06</td>\n",
              "      <td>2.375699e+06</td>\n",
              "      <td>2.772250e+06</td>\n",
              "      <td>2.786142e+06</td>\n",
              "      <td>2.774796e+06</td>\n",
              "      <td>2.687398e+06</td>\n",
              "      <td>2.295884e+06</td>\n",
              "    </tr>\n",
              "    <tr>\n",
              "      <th>mean</th>\n",
              "      <td>2.137572e+00</td>\n",
              "      <td>3.624520e+01</td>\n",
              "      <td>-9.711463e+01</td>\n",
              "      <td>3.624532e+01</td>\n",
              "      <td>-9.711439e+01</td>\n",
              "      <td>7.026779e-01</td>\n",
              "      <td>8.089408e+03</td>\n",
              "      <td>6.179356e+01</td>\n",
              "      <td>5.965823e+01</td>\n",
              "      <td>6.436545e+01</td>\n",
              "      <td>2.947234e+01</td>\n",
              "      <td>9.099391e+00</td>\n",
              "      <td>7.395044e+00</td>\n",
              "      <td>7.016940e-03</td>\n",
              "    </tr>\n",
              "    <tr>\n",
              "      <th>std</th>\n",
              "      <td>4.787216e-01</td>\n",
              "      <td>5.363797e+00</td>\n",
              "      <td>1.831782e+01</td>\n",
              "      <td>5.363873e+00</td>\n",
              "      <td>1.831763e+01</td>\n",
              "      <td>1.560361e+00</td>\n",
              "      <td>1.836009e+04</td>\n",
              "      <td>1.862263e+01</td>\n",
              "      <td>2.116097e+01</td>\n",
              "      <td>2.287457e+01</td>\n",
              "      <td>1.045286e+00</td>\n",
              "      <td>2.717546e+00</td>\n",
              "      <td>5.527454e+00</td>\n",
              "      <td>9.348831e-02</td>\n",
              "    </tr>\n",
              "    <tr>\n",
              "      <th>min</th>\n",
              "      <td>1.000000e+00</td>\n",
              "      <td>2.456603e+01</td>\n",
              "      <td>-1.245481e+02</td>\n",
              "      <td>2.456601e+01</td>\n",
              "      <td>-1.245457e+02</td>\n",
              "      <td>0.000000e+00</td>\n",
              "      <td>0.000000e+00</td>\n",
              "      <td>-8.900000e+01</td>\n",
              "      <td>-8.900000e+01</td>\n",
              "      <td>1.000000e+00</td>\n",
              "      <td>0.000000e+00</td>\n",
              "      <td>0.000000e+00</td>\n",
              "      <td>0.000000e+00</td>\n",
              "      <td>0.000000e+00</td>\n",
              "    </tr>\n",
              "    <tr>\n",
              "      <th>25%</th>\n",
              "      <td>2.000000e+00</td>\n",
              "      <td>3.344517e+01</td>\n",
              "      <td>-1.180331e+02</td>\n",
              "      <td>3.344628e+01</td>\n",
              "      <td>-1.180333e+02</td>\n",
              "      <td>5.200000e-02</td>\n",
              "      <td>1.270000e+03</td>\n",
              "      <td>5.000000e+01</td>\n",
              "      <td>4.600000e+01</td>\n",
              "      <td>4.800000e+01</td>\n",
              "      <td>2.931000e+01</td>\n",
              "      <td>1.000000e+01</td>\n",
              "      <td>3.500000e+00</td>\n",
              "      <td>0.000000e+00</td>\n",
              "    </tr>\n",
              "    <tr>\n",
              "      <th>50%</th>\n",
              "      <td>2.000000e+00</td>\n",
              "      <td>3.609861e+01</td>\n",
              "      <td>-9.241808e+01</td>\n",
              "      <td>3.609799e+01</td>\n",
              "      <td>-9.241772e+01</td>\n",
              "      <td>2.440000e-01</td>\n",
              "      <td>4.007000e+03</td>\n",
              "      <td>6.400000e+01</td>\n",
              "      <td>6.300000e+01</td>\n",
              "      <td>6.700000e+01</td>\n",
              "      <td>2.982000e+01</td>\n",
              "      <td>1.000000e+01</td>\n",
              "      <td>7.000000e+00</td>\n",
              "      <td>0.000000e+00</td>\n",
              "    </tr>\n",
              "    <tr>\n",
              "      <th>75%</th>\n",
              "      <td>2.000000e+00</td>\n",
              "      <td>4.016024e+01</td>\n",
              "      <td>-8.037243e+01</td>\n",
              "      <td>4.016105e+01</td>\n",
              "      <td>-8.037338e+01</td>\n",
              "      <td>7.640000e-01</td>\n",
              "      <td>9.567000e+03</td>\n",
              "      <td>7.600000e+01</td>\n",
              "      <td>7.600000e+01</td>\n",
              "      <td>8.300000e+01</td>\n",
              "      <td>3.001000e+01</td>\n",
              "      <td>1.000000e+01</td>\n",
              "      <td>1.000000e+01</td>\n",
              "      <td>0.000000e+00</td>\n",
              "    </tr>\n",
              "    <tr>\n",
              "      <th>max</th>\n",
              "      <td>4.000000e+00</td>\n",
              "      <td>4.900058e+01</td>\n",
              "      <td>-6.711317e+01</td>\n",
              "      <td>4.907500e+01</td>\n",
              "      <td>-6.710924e+01</td>\n",
              "      <td>1.551860e+02</td>\n",
              "      <td>9.999997e+06</td>\n",
              "      <td>1.960000e+02</td>\n",
              "      <td>1.960000e+02</td>\n",
              "      <td>1.000000e+02</td>\n",
              "      <td>5.890000e+01</td>\n",
              "      <td>1.400000e+02</td>\n",
              "      <td>1.087000e+03</td>\n",
              "      <td>2.400000e+01</td>\n",
              "    </tr>\n",
              "  </tbody>\n",
              "</table>\n",
              "</div>\n",
              "      <button class=\"colab-df-convert\" onclick=\"convertToInteractive('df-0fb7dc09-d779-4d77-9808-8a67d1e1f340')\"\n",
              "              title=\"Convert this dataframe to an interactive table.\"\n",
              "              style=\"display:none;\">\n",
              "        \n",
              "  <svg xmlns=\"http://www.w3.org/2000/svg\" height=\"24px\"viewBox=\"0 0 24 24\"\n",
              "       width=\"24px\">\n",
              "    <path d=\"M0 0h24v24H0V0z\" fill=\"none\"/>\n",
              "    <path d=\"M18.56 5.44l.94 2.06.94-2.06 2.06-.94-2.06-.94-.94-2.06-.94 2.06-2.06.94zm-11 1L8.5 8.5l.94-2.06 2.06-.94-2.06-.94L8.5 2.5l-.94 2.06-2.06.94zm10 10l.94 2.06.94-2.06 2.06-.94-2.06-.94-.94-2.06-.94 2.06-2.06.94z\"/><path d=\"M17.41 7.96l-1.37-1.37c-.4-.4-.92-.59-1.43-.59-.52 0-1.04.2-1.43.59L10.3 9.45l-7.72 7.72c-.78.78-.78 2.05 0 2.83L4 21.41c.39.39.9.59 1.41.59.51 0 1.02-.2 1.41-.59l7.78-7.78 2.81-2.81c.8-.78.8-2.07 0-2.86zM5.41 20L4 18.59l7.72-7.72 1.47 1.35L5.41 20z\"/>\n",
              "  </svg>\n",
              "      </button>\n",
              "      \n",
              "  <style>\n",
              "    .colab-df-container {\n",
              "      display:flex;\n",
              "      flex-wrap:wrap;\n",
              "      gap: 12px;\n",
              "    }\n",
              "\n",
              "    .colab-df-convert {\n",
              "      background-color: #E8F0FE;\n",
              "      border: none;\n",
              "      border-radius: 50%;\n",
              "      cursor: pointer;\n",
              "      display: none;\n",
              "      fill: #1967D2;\n",
              "      height: 32px;\n",
              "      padding: 0 0 0 0;\n",
              "      width: 32px;\n",
              "    }\n",
              "\n",
              "    .colab-df-convert:hover {\n",
              "      background-color: #E2EBFA;\n",
              "      box-shadow: 0px 1px 2px rgba(60, 64, 67, 0.3), 0px 1px 3px 1px rgba(60, 64, 67, 0.15);\n",
              "      fill: #174EA6;\n",
              "    }\n",
              "\n",
              "    [theme=dark] .colab-df-convert {\n",
              "      background-color: #3B4455;\n",
              "      fill: #D2E3FC;\n",
              "    }\n",
              "\n",
              "    [theme=dark] .colab-df-convert:hover {\n",
              "      background-color: #434B5C;\n",
              "      box-shadow: 0px 1px 3px 1px rgba(0, 0, 0, 0.15);\n",
              "      filter: drop-shadow(0px 1px 2px rgba(0, 0, 0, 0.3));\n",
              "      fill: #FFFFFF;\n",
              "    }\n",
              "  </style>\n",
              "\n",
              "      <script>\n",
              "        const buttonEl =\n",
              "          document.querySelector('#df-0fb7dc09-d779-4d77-9808-8a67d1e1f340 button.colab-df-convert');\n",
              "        buttonEl.style.display =\n",
              "          google.colab.kernel.accessAllowed ? 'block' : 'none';\n",
              "\n",
              "        async function convertToInteractive(key) {\n",
              "          const element = document.querySelector('#df-0fb7dc09-d779-4d77-9808-8a67d1e1f340');\n",
              "          const dataTable =\n",
              "            await google.colab.kernel.invokeFunction('convertToInteractive',\n",
              "                                                     [key], {});\n",
              "          if (!dataTable) return;\n",
              "\n",
              "          const docLinkHtml = 'Like what you see? Visit the ' +\n",
              "            '<a target=\"_blank\" href=https://colab.research.google.com/notebooks/data_table.ipynb>data table notebook</a>'\n",
              "            + ' to learn more about interactive tables.';\n",
              "          element.innerHTML = '';\n",
              "          dataTable['output_type'] = 'display_data';\n",
              "          await google.colab.output.renderOutput(dataTable, element);\n",
              "          const docLink = document.createElement('div');\n",
              "          docLink.innerHTML = docLinkHtml;\n",
              "          element.appendChild(docLink);\n",
              "        }\n",
              "      </script>\n",
              "    </div>\n",
              "  </div>\n",
              "  "
            ]
          },
          "metadata": {},
          "execution_count": 24
        }
      ]
    },
    {
      "cell_type": "code",
      "source": [
        "numerics = ['int16', 'int32', 'int64', 'float16', 'float32', 'float64']\n",
        "numeric_df = df.select_dtypes(include=numerics)\n",
        "len(numeric_df.columns)"
      ],
      "metadata": {
        "colab": {
          "base_uri": "https://localhost:8080/"
        },
        "id": "NcVUxBaN-B3L",
        "outputId": "6f450936-3856-4269-aede-3fad5bcfc9de"
      },
      "execution_count": 25,
      "outputs": [
        {
          "output_type": "execute_result",
          "data": {
            "text/plain": [
              "14"
            ]
          },
          "metadata": {},
          "execution_count": 25
        }
      ]
    },
    {
      "cell_type": "code",
      "source": [
        "missing_percentage = df.isna().sum().sort_values(ascending=False) / len(df)\n",
        "missing_percentage"
      ],
      "metadata": {
        "colab": {
          "base_uri": "https://localhost:8080/"
        },
        "id": "1npn1MyB-B1D",
        "outputId": "6fb63ff0-e207-4b22-a99b-2d43eb0863d0"
      },
      "execution_count": 30,
      "outputs": [
        {
          "output_type": "execute_result",
          "data": {
            "text/plain": [
              "Number                   6.129003e-01\n",
              "Precipitation(in)        1.931079e-01\n",
              "Wind_Chill(F)            1.650568e-01\n",
              "Wind_Speed(mph)          5.550967e-02\n",
              "Wind_Direction           2.592834e-02\n",
              "Humidity(%)              2.568830e-02\n",
              "Weather_Condition        2.482514e-02\n",
              "Visibility(mi)           2.479350e-02\n",
              "Temperature(F)           2.434646e-02\n",
              "Pressure(in)             2.080593e-02\n",
              "Weather_Timestamp        1.783125e-02\n",
              "Airport_Code             3.356011e-03\n",
              "Timezone                 1.285961e-03\n",
              "Nautical_Twilight        1.007612e-03\n",
              "Civil_Twilight           1.007612e-03\n",
              "Sunrise_Sunset           1.007612e-03\n",
              "Astronomical_Twilight    1.007612e-03\n",
              "Zipcode                  4.635647e-04\n",
              "City                     4.814887e-05\n",
              "Street                   7.029032e-07\n",
              "Country                  0.000000e+00\n",
              "Junction                 0.000000e+00\n",
              "Start_Time               0.000000e+00\n",
              "End_Time                 0.000000e+00\n",
              "Start_Lat                0.000000e+00\n",
              "Turning_Loop             0.000000e+00\n",
              "Traffic_Signal           0.000000e+00\n",
              "Traffic_Calming          0.000000e+00\n",
              "Stop                     0.000000e+00\n",
              "Station                  0.000000e+00\n",
              "Roundabout               0.000000e+00\n",
              "Railway                  0.000000e+00\n",
              "No_Exit                  0.000000e+00\n",
              "Crossing                 0.000000e+00\n",
              "Give_Way                 0.000000e+00\n",
              "Bump                     0.000000e+00\n",
              "Amenity                  0.000000e+00\n",
              "Start_Lng                0.000000e+00\n",
              "End_Lat                  0.000000e+00\n",
              "End_Lng                  0.000000e+00\n",
              "Distance(mi)             0.000000e+00\n",
              "Description              0.000000e+00\n",
              "Severity                 0.000000e+00\n",
              "Side                     0.000000e+00\n",
              "County                   0.000000e+00\n",
              "State                    0.000000e+00\n",
              "ID                       0.000000e+00\n",
              "dtype: float64"
            ]
          },
          "metadata": {},
          "execution_count": 30
        }
      ]
    },
    {
      "cell_type": "code",
      "source": [
        "missing_percentage[missing_percentage != 0].plot(kind='barh')"
      ],
      "metadata": {
        "colab": {
          "base_uri": "https://localhost:8080/",
          "height": 283
        },
        "id": "2-eoh6dE_Xjh",
        "outputId": "4afe198f-e4a0-4d98-a5ca-47c2ae5ba2b3"
      },
      "execution_count": 31,
      "outputs": [
        {
          "output_type": "execute_result",
          "data": {
            "text/plain": [
              "<matplotlib.axes._subplots.AxesSubplot at 0x7fa676e9c610>"
            ]
          },
          "metadata": {},
          "execution_count": 31
        },
        {
          "output_type": "display_data",
          "data": {
            "text/plain": [
              "<Figure size 432x288 with 1 Axes>"
            ],
            "image/png": "[encoded data removed]"
          },
          "metadata": {
            "needs_background": "light"
          }
        }
      ]
    },
    {
      "cell_type": "markdown",
      "source": [
        "Will ignore catigories that are missing more than 50% of the time (i.e. \"Number\")."
      ],
      "metadata": {
        "id": "nHQNCklaAbJu"
      }
    },
    {
      "cell_type": "markdown",
      "source": [
        "##Data Analysis and Visualization"
      ],
      "metadata": {
        "id": "GuNk9XfarpQA"
      }
    },
    {
      "cell_type": "markdown",
      "source": [
        "### Cities"
      ],
      "metadata": {
        "id": "oe5Uscd1AtsZ"
      }
    },
    {
      "cell_type": "code",
      "source": [
        "df.City.unique"
      ],
      "metadata": {
        "colab": {
          "base_uri": "https://localhost:8080/"
        },
        "id": "v2ep3_Gkruqa",
        "outputId": "773cd339-821c-430c-d96b-cfa2d1b97c37"
      },
      "execution_count": 34,
      "outputs": [
        {
          "output_type": "execute_result",
          "data": {
            "text/plain": [
              "<bound method Series.unique of 0               Dublin\n",
              "1               Dayton\n",
              "2           Cincinnati\n",
              "3                Akron\n",
              "4           Cincinnati\n",
              "              ...     \n",
              "2845337      Riverside\n",
              "2845338      San Diego\n",
              "2845339         Orange\n",
              "2845340    Culver City\n",
              "2845341       Highland\n",
              "Name: City, Length: 2845342, dtype: object>"
            ]
          },
          "metadata": {},
          "execution_count": 34
        }
      ]
    },
    {
      "cell_type": "code",
      "source": [
        "cities_by_accident = df.City.value_counts()\n",
        "cities_by_accident[:30]"
      ],
      "metadata": {
        "colab": {
          "base_uri": "https://localhost:8080/"
        },
        "id": "xNteW1mBru1y",
        "outputId": "0294819e-1b24-4936-edcd-078c2086d3b7"
      },
      "execution_count": 37,
      "outputs": [
        {
          "output_type": "execute_result",
          "data": {
            "text/plain": [
              "Miami             106966\n",
              "Los Angeles        68956\n",
              "Orlando            54691\n",
              "Dallas             41979\n",
              "Houston            39448\n",
              "Charlotte          33152\n",
              "Sacramento         32559\n",
              "San Diego          26627\n",
              "Raleigh            22840\n",
              "Minneapolis        22768\n",
              "Portland           20944\n",
              "Nashville          20267\n",
              "Austin             18301\n",
              "Baton Rouge        18182\n",
              "Phoenix            17143\n",
              "Saint Paul         16869\n",
              "New Orleans        16251\n",
              "Atlanta            15622\n",
              "Jacksonville       14967\n",
              "Richmond           14349\n",
              "Tucson             13799\n",
              "San Jose           13377\n",
              "Riverside          13310\n",
              "Kansas City        13298\n",
              "Bakersfield        12044\n",
              "San Bernardino     11249\n",
              "Chicago            11188\n",
              "Tampa              10984\n",
              "Salt Lake City     10709\n",
              "Ontario            10538\n",
              "Name: City, dtype: int64"
            ]
          },
          "metadata": {},
          "execution_count": 37
        }
      ]
    },
    {
      "cell_type": "code",
      "source": [
        "cities_by_accident[:30].plot(kind='barh')"
      ],
      "metadata": {
        "colab": {
          "base_uri": "https://localhost:8080/",
          "height": 284
        },
        "id": "OhHpt_SgrvNc",
        "outputId": "37300970-7a37-4468-8db6-c729c0784fef"
      },
      "execution_count": 39,
      "outputs": [
        {
          "output_type": "execute_result",
          "data": {
            "text/plain": [
              "<matplotlib.axes._subplots.AxesSubplot at 0x7fa633866510>"
            ]
          },
          "metadata": {},
          "execution_count": 39
        },
        {
          "output_type": "display_data",
          "data": {
            "text/plain": [
              "<Figure size 432x288 with 1 Axes>"
            ],
            "image/png": "[encoded data removed]"
          },
          "metadata": {
            "needs_background": "light"
          }
        }
      ]
    },
    {
      "cell_type": "code",
      "source": [
        "import seaborn as sns\n",
        "sns.set_style(\"darkgrid\")"
      ],
      "metadata": {
        "id": "Xwepk02CBfFf"
      },
      "execution_count": 41,
      "outputs": []
    },
    {
      "cell_type": "code",
      "source": [
        "sns.distplot(cities_by_accident)"
      ],
      "metadata": {
        "colab": {
          "base_uri": "https://localhost:8080/",
          "height": 352
        },
        "id": "i5wo3d8gBfCp",
        "outputId": "05801ada-13a7-4a09-ad6b-f064932399ff"
      },
      "execution_count": 55,
      "outputs": [
        {
          "output_type": "stream",
          "name": "stderr",
          "text": [
            "/usr/local/lib/python3.7/dist-packages/seaborn/distributions.py:2619: FutureWarning: `distplot` is a deprecated function and will be removed in a future version. Please adapt your code to use either `displot` (a figure-level function with similar flexibility) or `histplot` (an axes-level function for histograms).\n",
            "  warnings.warn(msg, FutureWarning)\n"
          ]
        },
        {
          "output_type": "execute_result",
          "data": {
            "text/plain": [
              "<matplotlib.axes._subplots.AxesSubplot at 0x7fa615a80110>"
            ]
          },
          "metadata": {},
          "execution_count": 55
        },
        {
          "output_type": "display_data",
          "data": {
            "text/plain": [
              "<Figure size 432x288 with 1 Axes>"
            ],
            "image/png": "[encoded data removed]"
          },
          "metadata": {}
        }
      ]
    },
    {
      "cell_type": "code",
      "source": [
        "high_accident_cities = cities_by_accident[cities_by_accident >= 1000]\n",
        "low_accident_cities = cities_by_accident[cities_by_accident < 1000]"
      ],
      "metadata": {
        "id": "fIntTIWgCk3V"
      },
      "execution_count": 45,
      "outputs": []
    },
    {
      "cell_type": "code",
      "source": [
        "len(high_accident_cities) / len(cities_by_accident)"
      ],
      "metadata": {
        "colab": {
          "base_uri": "https://localhost:8080/"
        },
        "id": "qMY2duyQCk1X",
        "outputId": "dda61c7a-ece2-471a-c69a-70c23ba36866"
      },
      "execution_count": 46,
      "outputs": [
        {
          "output_type": "execute_result",
          "data": {
            "text/plain": [
              "0.04246211796935194"
            ]
          },
          "metadata": {},
          "execution_count": 46
        }
      ]
    },
    {
      "cell_type": "code",
      "source": [
        "sns.distplot(high_accident_cities)"
      ],
      "metadata": {
        "colab": {
          "base_uri": "https://localhost:8080/",
          "height": 352
        },
        "id": "Gay_S9JECkzC",
        "outputId": "4ddd4540-daef-4e24-ae3b-6bc94bea64db"
      },
      "execution_count": 54,
      "outputs": [
        {
          "output_type": "stream",
          "name": "stderr",
          "text": [
            "/usr/local/lib/python3.7/dist-packages/seaborn/distributions.py:2619: FutureWarning: `distplot` is a deprecated function and will be removed in a future version. Please adapt your code to use either `displot` (a figure-level function with similar flexibility) or `histplot` (an axes-level function for histograms).\n",
            "  warnings.warn(msg, FutureWarning)\n"
          ]
        },
        {
          "output_type": "execute_result",
          "data": {
            "text/plain": [
              "<matplotlib.axes._subplots.AxesSubplot at 0x7fa615b8fe90>"
            ]
          },
          "metadata": {},
          "execution_count": 54
        },
        {
          "output_type": "display_data",
          "data": {
            "text/plain": [
              "<Figure size 432x288 with 1 Axes>"
            ],
            "image/png": "[encoded data removed]"
          },
          "metadata": {}
        }
      ]
    },
    {
      "cell_type": "code",
      "source": [
        "sns.distplot(low_accident_cities)"
      ],
      "metadata": {
        "colab": {
          "base_uri": "https://localhost:8080/",
          "height": 352
        },
        "id": "Ds3KraJZD5HQ",
        "outputId": "3f7a692a-7c6f-492a-e933-c229a6be10c8"
      },
      "execution_count": 53,
      "outputs": [
        {
          "output_type": "stream",
          "name": "stderr",
          "text": [
            "/usr/local/lib/python3.7/dist-packages/seaborn/distributions.py:2619: FutureWarning: `distplot` is a deprecated function and will be removed in a future version. Please adapt your code to use either `displot` (a figure-level function with similar flexibility) or `histplot` (an axes-level function for histograms).\n",
            "  warnings.warn(msg, FutureWarning)\n"
          ]
        },
        {
          "output_type": "execute_result",
          "data": {
            "text/plain": [
              "<matplotlib.axes._subplots.AxesSubplot at 0x7fa615c21b50>"
            ]
          },
          "metadata": {},
          "execution_count": 53
        },
        {
          "output_type": "display_data",
          "data": {
            "text/plain": [
              "<Figure size 432x288 with 1 Axes>"
            ],
            "image/png": "[encoded data removed]"
          },
          "metadata": {}
        }
      ]
    },
    {
      "cell_type": "code",
      "source": [
        "sns.histplot(cities_by_accident, log_scale=True)"
      ],
      "metadata": {
        "colab": {
          "base_uri": "https://localhost:8080/",
          "height": 301
        },
        "id": "EO8JAwIaD5E4",
        "outputId": "ff960fa1-666a-42fb-82df-e85fe7096c0f"
      },
      "execution_count": 52,
      "outputs": [
        {
          "output_type": "execute_result",
          "data": {
            "text/plain": [
              "<matplotlib.axes._subplots.AxesSubplot at 0x7fa615ea3950>"
            ]
          },
          "metadata": {},
          "execution_count": 52
        },
        {
          "output_type": "display_data",
          "data": {
            "text/plain": [
              "<Figure size 432x288 with 1 Axes>"
            ],
            "image/png": "[encoded data removed]"
          },
          "metadata": {}
        }
      ]
    },
    {
      "cell_type": "code",
      "source": [
        "cities_by_accident[cities_by_accident == 1]"
      ],
      "metadata": {
        "colab": {
          "base_uri": "https://localhost:8080/"
        },
        "id": "Eypgw4ZBD5CT",
        "outputId": "7a388d29-b59d-4bbe-8206-6522db69640c"
      },
      "execution_count": 57,
      "outputs": [
        {
          "output_type": "execute_result",
          "data": {
            "text/plain": [
              "Carney                          1\n",
              "Waverly Hall                    1\n",
              "Center Sandwich                 1\n",
              "Glen Flora                      1\n",
              "Sulphur Springs                 1\n",
              "                               ..\n",
              "Ridgedale                       1\n",
              "Sekiu                           1\n",
              "Wooldridge                      1\n",
              "Bullock                         1\n",
              "American Fork-Pleasant Grove    1\n",
              "Name: City, Length: 1110, dtype: int64"
            ]
          },
          "metadata": {},
          "execution_count": 57
        }
      ]
    },
    {
      "cell_type": "markdown",
      "source": [
        "### Start Time"
      ],
      "metadata": {
        "id": "CnesZPGPFVcr"
      }
    },
    {
      "cell_type": "code",
      "source": [
        "df.Start_Time"
      ],
      "metadata": {
        "colab": {
          "base_uri": "https://localhost:8080/"
        },
        "id": "eLi5zViND4_0",
        "outputId": "606c43c2-0ea2-4fce-d646-2605fbbfd975"
      },
      "execution_count": 58,
      "outputs": [
        {
          "output_type": "execute_result",
          "data": {
            "text/plain": [
              "0          2016-02-08 00:37:08\n",
              "1          2016-02-08 05:56:20\n",
              "2          2016-02-08 06:15:39\n",
              "3          2016-02-08 06:51:45\n",
              "4          2016-02-08 07:53:43\n",
              "                  ...         \n",
              "2845337    2019-08-23 18:03:25\n",
              "2845338    2019-08-23 19:11:30\n",
              "2845339    2019-08-23 19:00:21\n",
              "2845340    2019-08-23 19:00:21\n",
              "2845341    2019-08-23 18:52:06\n",
              "Name: Start_Time, Length: 2845342, dtype: object"
            ]
          },
          "metadata": {},
          "execution_count": 58
        }
      ]
    },
    {
      "cell_type": "code",
      "source": [
        "df.Start_Time = pd.to_datetime(df.Start_Time)"
      ],
      "metadata": {
        "id": "WmQI1MiAD49S"
      },
      "execution_count": 63,
      "outputs": []
    },
    {
      "cell_type": "code",
      "source": [
        "sns.distplot(df.Start_Time.dt.hour, bins=24, kde=False, norm_hist=True)"
      ],
      "metadata": {
        "colab": {
          "base_uri": "https://localhost:8080/",
          "height": 353
        },
        "id": "8WW2jOVRD461",
        "outputId": "5db5a38c-67b9-43c0-b8f2-8ce040f40794"
      },
      "execution_count": 72,
      "outputs": [
        {
          "output_type": "stream",
          "name": "stderr",
          "text": [
            "/usr/local/lib/python3.7/dist-packages/seaborn/distributions.py:2619: FutureWarning: `distplot` is a deprecated function and will be removed in a future version. Please adapt your code to use either `displot` (a figure-level function with similar flexibility) or `histplot` (an axes-level function for histograms).\n",
            "  warnings.warn(msg, FutureWarning)\n"
          ]
        },
        {
          "output_type": "execute_result",
          "data": {
            "text/plain": [
              "<matplotlib.axes._subplots.AxesSubplot at 0x7fa6152e9cd0>"
            ]
          },
          "metadata": {},
          "execution_count": 72
        },
        {
          "output_type": "display_data",
          "data": {
            "text/plain": [
              "<Figure size 432x288 with 1 Axes>"
            ],
            "image/png": "[encoded data removed]"
          },
          "metadata": {}
        }
      ]
    },
    {
      "cell_type": "markdown",
      "source": [
        "As shown through the graph above, a majority of accidents occur from 1pm - 6pm. There is another smaller peak around 7-10am. This makes sense since this woukd be around the time most people are either going to work or coming back from work. It also makes sense the second peak is higher since that is both the start of the second shift as well as the end of the first shift so there are more people traveling at that time as opposed to the first peak. "
      ],
      "metadata": {
        "id": "DDFjqE-3HFSy"
      }
    },
    {
      "cell_type": "code",
      "source": [
        "sns.distplot(df.Start_Time.dt.dayofweek, bins=7, kde=False, norm_hist=True)"
      ],
      "metadata": {
        "colab": {
          "base_uri": "https://localhost:8080/",
          "height": 353
        },
        "id": "DLuIgQUWEsru",
        "outputId": "3a58ce24-2e34-441b-8b18-9236d20c30c6"
      },
      "execution_count": 75,
      "outputs": [
        {
          "output_type": "stream",
          "name": "stderr",
          "text": [
            "/usr/local/lib/python3.7/dist-packages/seaborn/distributions.py:2619: FutureWarning: `distplot` is a deprecated function and will be removed in a future version. Please adapt your code to use either `displot` (a figure-level function with similar flexibility) or `histplot` (an axes-level function for histograms).\n",
            "  warnings.warn(msg, FutureWarning)\n"
          ]
        },
        {
          "output_type": "execute_result",
          "data": {
            "text/plain": [
              "<matplotlib.axes._subplots.AxesSubplot at 0x7fa6151e6150>"
            ]
          },
          "metadata": {},
          "execution_count": 75
        },
        {
          "output_type": "display_data",
          "data": {
            "text/plain": [
              "<Figure size 432x288 with 1 Axes>"
            ],
            "image/png": "[encoded data removed]"
          },
          "metadata": {}
        }
      ]
    },
    {
      "cell_type": "markdown",
      "source": [
        "There seems to be less accidents during the weekends as opposed to weekdays which makes sense since most people have work from Monday-Friday. Student and therefore teachers also have weekends off which means less people are traveling during those days. "
      ],
      "metadata": {
        "id": "5Af2V0SzIGtR"
      }
    },
    {
      "cell_type": "code",
      "source": [
        "monday_Start_Time = df.Start_Time[df.Start_Time.dt.dayofweek == 0]\n",
        "sns.distplot(monday_Start_Time.dt.hour, bins=24, kde=False, norm_hist=True)"
      ],
      "metadata": {
        "colab": {
          "base_uri": "https://localhost:8080/",
          "height": 353
        },
        "id": "YxiO8sgAEspj",
        "outputId": "b097726a-a65e-4f28-aa12-b9f917d32800"
      },
      "execution_count": 79,
      "outputs": [
        {
          "output_type": "stream",
          "name": "stderr",
          "text": [
            "/usr/local/lib/python3.7/dist-packages/seaborn/distributions.py:2619: FutureWarning: `distplot` is a deprecated function and will be removed in a future version. Please adapt your code to use either `displot` (a figure-level function with similar flexibility) or `histplot` (an axes-level function for histograms).\n",
            "  warnings.warn(msg, FutureWarning)\n"
          ]
        },
        {
          "output_type": "execute_result",
          "data": {
            "text/plain": [
              "<matplotlib.axes._subplots.AxesSubplot at 0x7fa614f59a90>"
            ]
          },
          "metadata": {},
          "execution_count": 79
        },
        {
          "output_type": "display_data",
          "data": {
            "text/plain": [
              "<Figure size 432x288 with 1 Axes>"
            ],
            "image/png": "[encoded data removed]"
          },
          "metadata": {}
        }
      ]
    },
    {
      "cell_type": "code",
      "source": [
        "sunday_Start_Time = df.Start_Time[df.Start_Time.dt.dayofweek == 6]\n",
        "sns.distplot(sunday_Start_Time.dt.hour, bins=24, kde=False, norm_hist=True)"
      ],
      "metadata": {
        "colab": {
          "base_uri": "https://localhost:8080/",
          "height": 353
        },
        "id": "Y78pSU4xI3-A",
        "outputId": "6d3084c4-b4de-4bc1-a46d-2709875f97a3"
      },
      "execution_count": 80,
      "outputs": [
        {
          "output_type": "stream",
          "name": "stderr",
          "text": [
            "/usr/local/lib/python3.7/dist-packages/seaborn/distributions.py:2619: FutureWarning: `distplot` is a deprecated function and will be removed in a future version. Please adapt your code to use either `displot` (a figure-level function with similar flexibility) or `histplot` (an axes-level function for histograms).\n",
            "  warnings.warn(msg, FutureWarning)\n"
          ]
        },
        {
          "output_type": "execute_result",
          "data": {
            "text/plain": [
              "<matplotlib.axes._subplots.AxesSubplot at 0x7fa614eef0d0>"
            ]
          },
          "metadata": {},
          "execution_count": 80
        },
        {
          "output_type": "display_data",
          "data": {
            "text/plain": [
              "<Figure size 432x288 with 1 Axes>"
            ],
            "image/png": "[encoded data removed]"
          },
          "metadata": {}
        }
      ]
    },
    {
      "cell_type": "markdown",
      "source": [
        "This graphs above support the conclusion above since there is a more spread of timeframe of the accidents as opposed to the earlier double peak form. This means there is a less emphazies on people traveling to and from work. From this we can assume that more accidents can be related to more people on the road which could also be connected to the increased amounts of traffic."
      ],
      "metadata": {
        "id": "pm3KujjsJruR"
      }
    },
    {
      "cell_type": "code",
      "source": [
        "sns.distplot(df.Start_Time.dt.month, bins=12, kde=False, norm_hist=True)"
      ],
      "metadata": {
        "colab": {
          "base_uri": "https://localhost:8080/",
          "height": 353
        },
        "id": "jb0gIlpJEsnC",
        "outputId": "8fc3007d-0bc5-4723-b1fe-eb72756dda60"
      },
      "execution_count": 83,
      "outputs": [
        {
          "output_type": "stream",
          "name": "stderr",
          "text": [
            "/usr/local/lib/python3.7/dist-packages/seaborn/distributions.py:2619: FutureWarning: `distplot` is a deprecated function and will be removed in a future version. Please adapt your code to use either `displot` (a figure-level function with similar flexibility) or `histplot` (an axes-level function for histograms).\n",
            "  warnings.warn(msg, FutureWarning)\n"
          ]
        },
        {
          "output_type": "execute_result",
          "data": {
            "text/plain": [
              "<matplotlib.axes._subplots.AxesSubplot at 0x7fa6150982d0>"
            ]
          },
          "metadata": {},
          "execution_count": 83
        },
        {
          "output_type": "display_data",
          "data": {
            "text/plain": [
              "<Figure size 432x288 with 1 Axes>"
            ],
            "image/png": "[encoded data removed]"
          },
          "metadata": {}
        }
      ]
    },
    {
      "cell_type": "markdown",
      "source": [
        ""
      ],
      "metadata": {
        "id": "HtUcrH5eLU1w"
      }
    },
    {
      "cell_type": "markdown",
      "source": [
        "From the monthly view of accidents, it is evident that there is a bias towards later months of the year. This can be explained through holiday travels as more people travel during the holidays as opposed to normal days throughout the year, namely in November and december for Thanksgiving and Christmas. Months later in the year are also during the winter season in which roads can be more icey and snow filled which could also lead to an increase in accidents. With holiday festivities, there is also likely to be an increased number of irresponisble drivers on the roads which would further increase the number of accidents. "
      ],
      "metadata": {
        "id": "9D1tSiv7Kgcd"
      }
    },
    {
      "cell_type": "code",
      "source": [
        "df_2018 = df[df.Start_Time.dt.year == 2018]\n",
        "sns.distplot(df_2018.Start_Time.dt.month, bins=12, kde=False, norm_hist=True)"
      ],
      "metadata": {
        "colab": {
          "base_uri": "https://localhost:8080/",
          "height": 353
        },
        "id": "fozY2J9jJ7dh",
        "outputId": "b9f7f178-d918-44a8-a244-7212da987368"
      },
      "execution_count": 92,
      "outputs": [
        {
          "output_type": "stream",
          "name": "stderr",
          "text": [
            "/usr/local/lib/python3.7/dist-packages/seaborn/distributions.py:2619: FutureWarning: `distplot` is a deprecated function and will be removed in a future version. Please adapt your code to use either `displot` (a figure-level function with similar flexibility) or `histplot` (an axes-level function for histograms).\n",
            "  warnings.warn(msg, FutureWarning)\n"
          ]
        },
        {
          "output_type": "execute_result",
          "data": {
            "text/plain": [
              "<matplotlib.axes._subplots.AxesSubplot at 0x7fa624380810>"
            ]
          },
          "metadata": {},
          "execution_count": 92
        },
        {
          "output_type": "display_data",
          "data": {
            "text/plain": [
              "<Figure size 432x288 with 1 Axes>"
            ],
            "image/png": "[encoded data removed]"
          },
          "metadata": {}
        }
      ]
    },
    {
      "cell_type": "code",
      "source": [
        "df_2019 = df[df.Start_Time.dt.year == 2019]\n",
        "sns.distplot(df_2019.Start_Time.dt.month, bins=12, kde=False, norm_hist=True)"
      ],
      "metadata": {
        "colab": {
          "base_uri": "https://localhost:8080/",
          "height": 353
        },
        "id": "BnyOVoQoLXyl",
        "outputId": "9e9a0c78-2dfd-46cd-c03d-4246713b30c2"
      },
      "execution_count": 93,
      "outputs": [
        {
          "output_type": "stream",
          "name": "stderr",
          "text": [
            "/usr/local/lib/python3.7/dist-packages/seaborn/distributions.py:2619: FutureWarning: `distplot` is a deprecated function and will be removed in a future version. Please adapt your code to use either `displot` (a figure-level function with similar flexibility) or `histplot` (an axes-level function for histograms).\n",
            "  warnings.warn(msg, FutureWarning)\n"
          ]
        },
        {
          "output_type": "execute_result",
          "data": {
            "text/plain": [
              "<matplotlib.axes._subplots.AxesSubplot at 0x7fa61aed20d0>"
            ]
          },
          "metadata": {},
          "execution_count": 93
        },
        {
          "output_type": "display_data",
          "data": {
            "text/plain": [
              "<Figure size 432x288 with 1 Axes>"
            ],
            "image/png": "[encoded data removed]"
          },
          "metadata": {}
        }
      ]
    },
    {
      "cell_type": "code",
      "source": [
        "df_2020 = df[df.Start_Time.dt.year == 2020]\n",
        "sns.distplot(df_2020.Start_Time.dt.month, bins=12, kde=False, norm_hist=True)"
      ],
      "metadata": {
        "colab": {
          "base_uri": "https://localhost:8080/",
          "height": 353
        },
        "id": "darBe3ZJLXwq",
        "outputId": "69b719ae-1d11-44ca-f3ee-8d6a1a77af3a"
      },
      "execution_count": 94,
      "outputs": [
        {
          "output_type": "stream",
          "name": "stderr",
          "text": [
            "/usr/local/lib/python3.7/dist-packages/seaborn/distributions.py:2619: FutureWarning: `distplot` is a deprecated function and will be removed in a future version. Please adapt your code to use either `displot` (a figure-level function with similar flexibility) or `histplot` (an axes-level function for histograms).\n",
            "  warnings.warn(msg, FutureWarning)\n"
          ]
        },
        {
          "output_type": "execute_result",
          "data": {
            "text/plain": [
              "<matplotlib.axes._subplots.AxesSubplot at 0x7fa61b968c90>"
            ]
          },
          "metadata": {},
          "execution_count": 94
        },
        {
          "output_type": "display_data",
          "data": {
            "text/plain": [
              "<Figure size 432x288 with 1 Axes>"
            ],
            "image/png": "[encoded data removed]"
          },
          "metadata": {}
        }
      ]
    },
    {
      "cell_type": "markdown",
      "source": [
        "The dramatic downtrend in the middle is covid related restrictions."
      ],
      "metadata": {
        "id": "Kn8YVRVNMZQK"
      }
    },
    {
      "cell_type": "markdown",
      "source": [
        "### Start_Lat,Start_Lng"
      ],
      "metadata": {
        "id": "76KcN_ZKNB7w"
      }
    },
    {
      "cell_type": "code",
      "source": [
        "df.Start_Lat"
      ],
      "metadata": {
        "colab": {
          "base_uri": "https://localhost:8080/"
        },
        "id": "90hhYdsAMY_Y",
        "outputId": "4eb70db6-64e0-462f-e71a-2b0bd07bdde2"
      },
      "execution_count": 96,
      "outputs": [
        {
          "output_type": "execute_result",
          "data": {
            "text/plain": [
              "0          40.108910\n",
              "1          39.865420\n",
              "2          39.102660\n",
              "3          41.062130\n",
              "4          39.172393\n",
              "             ...    \n",
              "2845337    34.002480\n",
              "2845338    32.766960\n",
              "2845339    33.775450\n",
              "2845340    33.992460\n",
              "2845341    34.133930\n",
              "Name: Start_Lat, Length: 2845342, dtype: float64"
            ]
          },
          "metadata": {},
          "execution_count": 96
        }
      ]
    },
    {
      "cell_type": "code",
      "source": [
        "df.Start_Lng"
      ],
      "metadata": {
        "colab": {
          "base_uri": "https://localhost:8080/"
        },
        "id": "uGLgw2AnJ7ai",
        "outputId": "828b700b-b53b-4a05-aa46-ee0a5ee54915"
      },
      "execution_count": 97,
      "outputs": [
        {
          "output_type": "execute_result",
          "data": {
            "text/plain": [
              "0          -83.092860\n",
              "1          -84.062800\n",
              "2          -84.524680\n",
              "3          -81.537840\n",
              "4          -84.492792\n",
              "              ...    \n",
              "2845337   -117.379360\n",
              "2845338   -117.148060\n",
              "2845339   -117.847790\n",
              "2845340   -118.403020\n",
              "2845341   -117.230920\n",
              "Name: Start_Lng, Length: 2845342, dtype: float64"
            ]
          },
          "metadata": {},
          "execution_count": 97
        }
      ]
    },
    {
      "cell_type": "code",
      "source": [
        "sample_df = df.sample(int(0.01 * len(df)))\n",
        "sns.scatterplot(x=sample_df.Start_Lng, y=sample_df.Start_Lat)"
      ],
      "metadata": {
        "colab": {
          "base_uri": "https://localhost:8080/",
          "height": 301
        },
        "id": "KMdGoUokNLPR",
        "outputId": "347e0419-6ea8-4fd0-d2dd-8944cbd2576c"
      },
      "execution_count": 104,
      "outputs": [
        {
          "output_type": "execute_result",
          "data": {
            "text/plain": [
              "<matplotlib.axes._subplots.AxesSubplot at 0x7fa61b358810>"
            ]
          },
          "metadata": {},
          "execution_count": 104
        },
        {
          "output_type": "display_data",
          "data": {
            "text/plain": [
              "<Figure size 432x288 with 1 Axes>"
            ],
            "image/png": "[encoded data removed]"
          },
          "metadata": {}
        }
      ]
    },
    {
      "cell_type": "code",
      "source": [
        "import folium\n",
        "from folium.plugins import HeatMap"
      ],
      "metadata": {
        "id": "GNzuog5eOgCT"
      },
      "execution_count": 163,
      "outputs": []
    },
    {
      "cell_type": "code",
      "source": [
        "sample_df = df.sample(int(0.001 * len(df)))\n",
        "Heat_List = list(zip(list(sample_df.Start_Lat),  list(sample_df.Start_Lng)))\n",
        "map = folium.Map()\n",
        "HeatMap(Heat_List).add_to(map)\n",
        "map"
      ],
      "metadata": {
        "colab": {
          "base_uri": "https://localhost:8080/",
          "height": 581
        },
        "id": "V7vELllESCvU",
        "outputId": "fba46659-80ac-421a-b70c-6d22358cbe0b"
      },
      "execution_count": 179,
      "outputs": [
        {
          "output_type": "execute_result",
          "data": {
            "text/plain": [
              "<folium.folium.Map at 0x7fa615e36910>"
            ],
            "text/html": [
              "<div style=\"width:100%;\"><div style=\"position:relative;width:100%;height:0;padding-bottom:60%;\"><span style=\"color:#565656\">Make this Notebook Trusted to load map: File -> Trust Notebook</span><iframe src=\"about:blank\" style=\"position:absolute;width:100%;height:100%;left:0;top:0;border:none !important;\" data-html=%3C%21DOCTYPE%20html%3E%0A%3Chead%3E%20%20%20%20%0A%20%20%20%20%3Cmeta%20http-equiv%3D%22content-type%22%20content%3D%22text/html%3B%20charset%3DUTF-8%22%20/%3E%0A%20%20%20%20%3Cscript%3EL_PREFER_CANVAS%3Dfalse%3B%20L_NO_TOUCH%3Dfalse%3B%20L_DISABLE_3D%3Dfalse%3B%3C/script%3E%0A%20%20%20%20%3Cscript%20src%3D%22https%3A//cdn.jsdelivr.net/npm/leaflet%401.4.0/dist/leaflet.js%22%3E%3C/script%3E%0A%20%20%20%20%3Cscript%20src%3D%22https%3A//code.jquery.com/jquery-1.12.4.min.js%22%3E%3C/script%3E%0A%20%20%20%20%3Cscript%20src%3D%22https%3A//maxcdn.bootstrapcdn.com/bootstrap/3.2.0/js/bootstrap.min.js%22%3E%3C/script%3E%0A%20%20%20%20%3Cscript%20src%3D%22https%3A//cdnjs.cloudflare.com/ajax/libs/Leaflet.awesome-markers/2.0.2/leaflet.awesome-markers.js%22%3E%3C/script%3E%0A%20%20%20%20%3Clink%20rel%3D%22stylesheet%22%20href%3D%22https%3A//cdn.jsdelivr.net/npm/leaflet%401.4.0/dist/leaflet.css%22/%3E%0A%20%20%20%20%3Clink%20rel%3D%22stylesheet%22%20href%3D%22https%3A//maxcdn.bootstrapcdn.com/bootstrap/3.2.0/css/bootstrap.min.css%22/%3E%0A%20%20%20%20%3Clink%20rel%3D%22stylesheet%22%20href%3D%22https%3A//maxcdn.bootstrapcdn.com/bootstrap/3.2.0/css/bootstrap-theme.min.css%22/%3E%0A%20%20%20%20%3Clink%20rel%3D%22stylesheet%22%20href%3D%22https%3A//maxcdn.bootstrapcdn.com/font-awesome/4.6.3/css/font-awesome.min.css%22/%3E%0A%20%20%20%20%3Clink%20rel%3D%22stylesheet%22%20href%3D%22https%3A//cdnjs.cloudflare.com/ajax/libs/Leaflet.awesome-markers/2.0.2/leaflet.awesome-markers.css%22/%3E%0A%20%20%20%20%3Clink%20rel%3D%22stylesheet%22%20href%3D%22https%3A//rawcdn.githack.com/python-visualization/folium/master/folium/templates/leaflet.awesome.rotate.css%22/%3E%0A%20%20%20%20%3Cstyle%3Ehtml%2C%20body%20%7Bwidth%3A%20100%25%3Bheight%3A%20100%25%3Bmargin%3A%200%3Bpadding%3A%200%3B%7D%3C/style%3E%0A%20%20%20%20%3Cstyle%3E%23map%20%7Bposition%3Aabsolute%3Btop%3A0%3Bbottom%3A0%3Bright%3A0%3Bleft%3A0%3B%7D%3C/style%3E%0A%20%20%20%20%0A%20%20%20%20%3Cmeta%20name%3D%22viewport%22%20content%3D%22width%3Ddevice-width%2C%0A%20%20%20%20%20%20%20%20initial-scale%3D1.0%2C%20maximum-scale%3D1.0%2C%20user-scalable%3Dno%22%20/%3E%0A%20%20%20%20%3Cstyle%3E%23map_dd9c33c4af914cb39aa7625d80b5b68f%20%7B%0A%20%20%20%20%20%20%20%20position%3A%20relative%3B%0A%20%20%20%20%20%20%20%20width%3A%20100.0%25%3B%0A%20%20%20%20%20%20%20%20height%3A%20100.0%25%3B%0A%20%20%20%20%20%20%20%20left%3A%200.0%25%3B%0A%20%20%20%20%20%20%20%20top%3A%200.0%25%3B%0A%20%20%20%20%20%20%20%20%7D%0A%20%20%20%20%3C/style%3E%0A%20%20%20%20%3Cscript%20src%3D%22https%3A//leaflet.github.io/Leaflet.heat/dist/leaflet-heat.js%22%3E%3C/script%3E%0A%3C/head%3E%0A%3Cbody%3E%20%20%20%20%0A%20%20%20%20%0A%20%20%20%20%3Cdiv%20class%3D%22folium-map%22%20id%3D%22map_dd9c33c4af914cb39aa7625d80b5b68f%22%20%3E%3C/div%3E%0A%3C/body%3E%0A%3Cscript%3E%20%20%20%20%0A%20%20%20%20%0A%20%20%20%20%0A%20%20%20%20%20%20%20%20var%20bounds%20%3D%20null%3B%0A%20%20%20%20%0A%0A%20%20%20%20var%20map_dd9c33c4af914cb39aa7625d80b5b68f%20%3D%20L.map%28%0A%20%20%20%20%20%20%20%20%27map_dd9c33c4af914cb39aa7625d80b5b68f%27%2C%20%7B%0A%20%20%20%20%20%20%20%20center%3A%20%5B0%2C%200%5D%2C%0A%20%20%20%20%20%20%20%20zoom%3A%201%2C%0A%20%20%20%20%20%20%20%20maxBounds%3A%20bounds%2C%0A%20%20%20%20%20%20%20%20layers%3A%20%5B%5D%2C%0A%20%20%20%20%20%20%20%20worldCopyJump%3A%20false%2C%0A%20%20%20%20%20%20%20%20crs%3A%20L.CRS.EPSG3857%2C%0A%20%20%20%20%20%20%20%20zoomControl%3A%20true%2C%0A%20%20%20%20%20%20%20%20%7D%29%3B%0A%0A%0A%20%20%20%20%0A%20%20%20%20var%20tile_layer_87997a9cefca4ea4a188bee4bc08e576%20%3D%20L.tileLayer%28%0A%20%20%20%20%20%20%20%20%27https%3A//%7Bs%7D.tile.openstreetmap.org/%7Bz%7D/%7Bx%7D/%7By%7D.png%27%2C%0A%20%20%20%20%20%20%20%20%7B%0A%20%20%20%20%20%20%20%20%22attribution%22%3A%20null%2C%0A%20%20%20%20%20%20%20%20%22detectRetina%22%3A%20false%2C%0A%20%20%20%20%20%20%20%20%22maxNativeZoom%22%3A%2018%2C%0A%20%20%20%20%20%20%20%20%22maxZoom%22%3A%2018%2C%0A%20%20%20%20%20%20%20%20%22minZoom%22%3A%200%2C%0A%20%20%20%20%20%20%20%20%22noWrap%22%3A%20false%2C%0A%20%20%20%20%20%20%20%20%22opacity%22%3A%201%2C%0A%20%20%20%20%20%20%20%20%22subdomains%22%3A%20%22abc%22%2C%0A%20%20%20%20%20%20%20%20%22tms%22%3A%20false%0A%7D%29.addTo%28map_dd9c33c4af914cb39aa7625d80b5b68f%29%3B%0A%20%20%20%20%0A%20%20%20%20%20%20%20%20%20%20%20%20var%20heat_map_a63ae228809d4709b15672326189508b%20%3D%20L.heatLayer%28%0A%20%20%20%20%20%20%20%20%20%20%20%20%20%20%20%20%5B%5B28.07279%2C%20-82.4548%5D%2C%20%5B40.275284%2C%20-76.817465%5D%2C%20%5B40.790396%2C%20-77.80611800000001%5D%2C%20%5B37.56585%2C%20-120.994008%5D%2C%20%5B32.917961%2C%20-96.745552%5D%2C%20%5B29.637669%2C%20-95.321031%5D%2C%20%5B33.426944%2C%20-112.031611%5D%2C%20%5B40.01759000000001%2C%20-75.622102%5D%2C%20%5B33.809709000000005%2C%20-84.250799%5D%2C%20%5B25.536019%2C%20-80.457617%5D%2C%20%5B34.041365%2C%20-118.060831%5D%2C%20%5B29.71478%2C%20-95.55728%5D%2C%20%5B41.36462%2C%20-72.08232%5D%2C%20%5B36.754835%2C%20-119.75401200000002%5D%2C%20%5B28.41917%2C%20-82.29133%5D%2C%20%5B34.06812%2C%20-84.610959%5D%2C%20%5B35.100733%2C%20-80.879954%5D%2C%20%5B37.023272%2C%20-76.32956899999998%5D%2C%20%5B43.01333%2C%20-76.13858%5D%2C%20%5B37.678945%2C%20-97.316939%5D%2C%20%5B41.054387%2C%20-73.525925%5D%2C%20%5B33.704327%2C%20-112.11551%5D%2C%20%5B35.058896000000004%2C%20-120.504589%5D%2C%20%5B35.23676%2C%20-80.77563%5D%2C%20%5B27.694942%2C%20-80.893047%5D%2C%20%5B33.978766%2C%20-118.077968%5D%2C%20%5B46.325837%2C%20-95.321599%5D%2C%20%5B40.434835%2C%20-122.285828%5D%2C%20%5B29.621044%2C%20-95.355449%5D%2C%20%5B46.875436%2C%20-113.886351%5D%2C%20%5B39.136338%2C%20-77.152752%5D%2C%20%5B39.281149%2C%20-76.54928000000002%5D%2C%20%5B37.610396%2C%20-122.069102%5D%2C%20%5B27.865205%2C%20-82.77468499999998%5D%2C%20%5B33.87345%2C%20-118.00971%5D%2C%20%5B42.27227%2C%20-122.80564%5D%2C%20%5B35.210063%2C%20-80.707533%5D%2C%20%5B36.179074%2C%20-85.969286%5D%2C%20%5B38.764757%2C%20-77.317947%5D%2C%20%5B39.46654%2C%20-104.87333999999998%5D%2C%20%5B39.548069%2C%20-74.979336%5D%2C%20%5B34.030946%2C%20-117.133788%5D%2C%20%5B40.2258%2C%20-111.67709%5D%2C%20%5B47.44258%2C%20-114.096955%5D%2C%20%5B32.1274%2C%20-81.1521%5D%2C%20%5B37.932715%2C%20-122.060323%5D%2C%20%5B34.072821999999995%2C%20-117.545016%5D%2C%20%5B26.559158%2C%20-80.172954%5D%2C%20%5B39.957078%2C%20-75.155891%5D%2C%20%5B25.731503%2C%20-80.31718199999997%5D%2C%20%5B39.594661%2C%20-77.80873000000003%5D%2C%20%5B28.351379%2C%20-81.491316%5D%2C%20%5B40.869316%2C%20-74.168155%5D%2C%20%5B25.808231%2C%20-80.30714499999998%5D%2C%20%5B47.506257%2C%20-121.895861%5D%2C%20%5B35.780088%2C%20-78.629013%5D%2C%20%5B33.988684%2C%20-118.39999%5D%2C%20%5B41.618767%2C%20-72.89393299999998%5D%2C%20%5B29.991868%2C%20-90.04937199999998%5D%2C%20%5B39.798665%2C%20-84.201284%5D%2C%20%5B41.054836%2C%20-83.670277%5D%2C%20%5B45.205708%2C%20-93.400417%5D%2C%20%5B27.454363%2C%20-82.575378%5D%2C%20%5B44.947%2C%20-92.93463%5D%2C%20%5B32.924834999999995%2C%20-96.840125%5D%2C%20%5B32.658221999999995%2C%20-117.074335%5D%2C%20%5B45.07917%2C%20-93.18548%5D%2C%20%5B44.9585%2C%20-93.19889%5D%2C%20%5B30.528849%2C%20-82.90500899999998%5D%2C%20%5B28.201429%2C%20-82.379923%5D%2C%20%5B30.315045%2C%20-81.78678599999998%5D%2C%20%5B35.767375%2C%20-78.50661600000002%5D%2C%20%5B29.53179%2C%20-98.39052%5D%2C%20%5B36.158251%2C%20-86.771828%5D%2C%20%5B36.987724%2C%20-121.960361%5D%2C%20%5B36.054233%2C%20-119.311071%5D%2C%20%5B32.636829%2C%20-96.751924%5D%2C%20%5B34.73481%2C%20-82.487412%5D%2C%20%5B40.80181%2C%20-111.92066%5D%2C%20%5B33.462709999999994%2C%20-112.17497%5D%2C%20%5B39.19585%2C%20-104.853%5D%2C%20%5B34.063957%2C%20-81.138657%5D%2C%20%5B34.172689%2C%20-118.55468799999998%5D%2C%20%5B36.153947%2C%20-86.758278%5D%2C%20%5B38.240099%2C%20-90.403022%5D%2C%20%5B34.108117%2C%20-118.258799%5D%2C%20%5B38.291%2C%20-121.325949%5D%2C%20%5B32.894958%2C%20-96.846789%5D%2C%20%5B35.839238%2C%20-78.675899%5D%2C%20%5B41.96093%2C%20-87.94889%5D%2C%20%5B38.032944%2C%20-120.403094%5D%2C%20%5B25.882819%2C%20-80.244788%5D%2C%20%5B33.683640000000004%2C%20-84.40985%5D%2C%20%5B39.95652800000001%2C%20-75.180269%5D%2C%20%5B32.692404%2C%20-96.749964%5D%2C%20%5B29.937711%2C%20-90.061208%5D%2C%20%5B34.039102%2C%20-118.43975%5D%2C%20%5B33.917951%2C%20-84.338199%5D%2C%20%5B45.291817%2C%20-122.769257%5D%2C%20%5B40.79913%2C%20-73.49329%5D%2C%20%5B33.842873%2C%20-118.206295%5D%2C%20%5B34.032114%2C%20-117.135919%5D%2C%20%5B34.221971%2C%20-117.787295%5D%2C%20%5B33.69896%2C%20-84.26165%5D%2C%20%5B37.377187%2C%20-121.943494%5D%2C%20%5B37.558997%2C%20-77.420146%5D%2C%20%5B42.706885%2C%20-82.774464%5D%2C%20%5B34.592414%2C%20-118.156756%5D%2C%20%5B33.735594%2C%20-117.818321%5D%2C%20%5B42.77762%2C%20-123.28236%5D%2C%20%5B33.395865%2C%20-117.592047%5D%2C%20%5B32.975499%2C%20-97.161738%5D%2C%20%5B33.989923%2C%20-118.280818%5D%2C%20%5B39.02331%2C%20-84.61572%5D%2C%20%5B35.99764000000001%2C%20-86.79669%5D%2C%20%5B42.077313%2C%20-122.60138%5D%2C%20%5B28.367321%2C%20-81.416154%5D%2C%20%5B44.924118%2C%20-93.274536%5D%2C%20%5B35.3529%2C%20-118.967196%5D%2C%20%5B38.679747%2C%20-121.333999%5D%2C%20%5B35.23804000000001%2C%20-80.79961999999998%5D%2C%20%5B41.47805%2C%20-81.60291%5D%2C%20%5B33.757391%2C%20-84.232285%5D%2C%20%5B25.76779%2C%20-80.368875%5D%2C%20%5B40.846656%2C%20-122.843019%5D%2C%20%5B36.126387%2C%20-86.710594%5D%2C%20%5B40.66628%2C%20-73.80179%5D%2C%20%5B36.110677%2C%20-86.722251%5D%2C%20%5B35.769128%2C%20-78.52714499999998%5D%2C%20%5B38.904107%2C%20-77.018215%5D%2C%20%5B25.565503%2C%20-80.46189%5D%2C%20%5B31.278153000000003%2C%20-92.464447%5D%2C%20%5B28.543626%2C%20-81.310673%5D%2C%20%5B34.072628%2C%20-118.058409%5D%2C%20%5B34.745047%2C%20-92.334341%5D%2C%20%5B32.991985%2C%20-80.003853%5D%2C%20%5B37.62961%2C%20-122.08258%5D%2C%20%5B33.62494%2C%20-80.312433%5D%2C%20%5B29.061612%2C%20-82.06543%5D%2C%20%5B29.5824%2C%20-95.6459%5D%2C%20%5B35.18490999999999%2C%20-80.808255%5D%2C%20%5B29.158081%2C%20-82.352137%5D%2C%20%5B28.578123%2C%20-81.47614499999997%5D%2C%20%5B41.710249%2C%20-71.118675%5D%2C%20%5B39.18425%2C%20-94.520494%5D%2C%20%5B43.628732%2C%20-116.25284%5D%2C%20%5B46.661744%2C%20-92.89406%5D%2C%20%5B38.246637%2C%20-78.042057%5D%2C%20%5B42.186553%2C%20-88.101617%5D%2C%20%5B32.184482%2C%20-110.818476%5D%2C%20%5B29.68655%2C%20-95.528795%5D%2C%20%5B30.532633%2C%20-87.249719%5D%2C%20%5B33.928509000000005%2C%20-118.280643%5D%2C%20%5B35.208832%2C%20-80.799518%5D%2C%20%5B45.628119%2C%20-122.666913%5D%2C%20%5B40.683975%2C%20-74.001525%5D%2C%20%5B32.75273%2C%20-117.15741%5D%2C%20%5B34.07306%2C%20-117.200851%5D%2C%20%5B39.257362%2C%20-77.458269%5D%2C%20%5B43.09437%2C%20-76.16273000000002%5D%2C%20%5B35.148007%2C%20-80.896654%5D%2C%20%5B28.066619%2C%20-82.505277%5D%2C%20%5B33.452988%2C%20-117.135203%5D%2C%20%5B28.54708%2C%20-81.27017%5D%2C%20%5B42.58706%2C%20-71.1609%5D%2C%20%5B39.592951%2C%20-79.95354300000002%5D%2C%20%5B34.908939000000004%2C%20-91.196554%5D%2C%20%5B25.909181%2C%20-80.16930500000002%5D%2C%20%5B34.15592%2C%20-118.30723%5D%2C%20%5B28.390709%2C%20-81.404667%5D%2C%20%5B26.058486%2C%20-80.162976%5D%2C%20%5B33.989163%2C%20-118.284854%5D%2C%20%5B28.04948%2C%20-82.78031999999997%5D%2C%20%5B34.09799%2C%20-118.34788%5D%2C%20%5B34.15353%2C%20-118.464432%5D%2C%20%5B30.365211%2C%20-97.695804%5D%2C%20%5B34.157651%2C%20-118.453144%5D%2C%20%5B26.568303000000004%2C%20-80.173037%5D%2C%20%5B34.420299%2C%20-119.669972%5D%2C%20%5B34.779039000000004%2C%20-92.390467%5D%2C%20%5B42.498516%2C%20-82.917833%5D%2C%20%5B39.01171%2C%20-94.4914%5D%2C%20%5B41.87324%2C%20-88.11498%5D%2C%20%5B25.700047%2C%20-80.413232%5D%2C%20%5B42.17239%2C%20-72.33204%5D%2C%20%5B47.48734%2C%20-122.25814%5D%2C%20%5B41.625906%2C%20-72.88319200000002%5D%2C%20%5B45.515602%2C%20-122.688509%5D%2C%20%5B32.836571%2C%20-96.765653%5D%2C%20%5B39.315782%2C%20-121.353996%5D%2C%20%5B40.857177%2C%20-74.179604%5D%2C%20%5B28.361182%2C%20-80.706692%5D%2C%20%5B26.08352600000001%2C%20-80.179008%5D%2C%20%5B45.126875%2C%20-123.303027%5D%2C%20%5B41.29194%2C%20-72.44800000000002%5D%2C%20%5B30.471017%2C%20-91.058077%5D%2C%20%5B33.193740000000005%2C%20-117.36532%5D%2C%20%5B40.071685%2C%20-75.30802299999998%5D%2C%20%5B40.96295900000001%2C%20-75.274372%5D%2C%20%5B38.057803%2C%20-121.259612%5D%2C%20%5B40.01187%2C%20-78.370322%5D%2C%20%5B26.146076%2C%20-80.451217%5D%2C%20%5B38.392929%2C%20-122.877139%5D%2C%20%5B38.413041%2C%20-82.348247%5D%2C%20%5B44.10373%2C%20-121.30674%5D%2C%20%5B25.671236%2C%20-80.401164%5D%2C%20%5B41.9679%2C%20-71.50503%5D%2C%20%5B32.759759%2C%20-117.199276%5D%2C%20%5B25.598519%2C%20-80.356751%5D%2C%20%5B38.04314%2C%20-122.9788%5D%2C%20%5B40.363219%2C%20-111.560249%5D%2C%20%5B41.488735%2C%20-81.689296%5D%2C%20%5B37.910937%2C%20-121.622953%5D%2C%20%5B32.909152%2C%20-96.697608%5D%2C%20%5B29.990768%2C%20-90.06645400000002%5D%2C%20%5B45.147317%2C%20-93.270696%5D%2C%20%5B37.817285%2C%20-121.993167%5D%2C%20%5B25.78784%2C%20-80.209907%5D%2C%20%5B25.810399%2C%20-80.15480500000002%5D%2C%20%5B40.439161%2C%20-79.861646%5D%2C%20%5B34.121175%2C%20-117.884633%5D%2C%20%5B36.793555%2C%20-119.861656%5D%2C%20%5B37.552406%2C%20-79.66384599999998%5D%2C%20%5B42.139459%2C%20-121.88677%5D%2C%20%5B25.899633%2C%20-80.18226999999997%5D%2C%20%5B32.84365%2C%20-96.77463%5D%2C%20%5B39.800145%2C%20-104.985532%5D%2C%20%5B32.884122999999995%2C%20-96.758981%5D%2C%20%5B40.256187%2C%20-76.810373%5D%2C%20%5B41.185738%2C%20-79.55544499999998%5D%2C%20%5B37.79816%2C%20-122.37777%5D%2C%20%5B25.48122%2C%20-80.412165%5D%2C%20%5B36.321689%2C%20-94.184756%5D%2C%20%5B47.834073%2C%20-121.64623600000002%5D%2C%20%5B38.650937%2C%20-122.598755%5D%2C%20%5B30.491409%2C%20-91.138154%5D%2C%20%5B39.86122%2C%20-75.0333%5D%2C%20%5B41.062415%2C%20-78.422623%5D%2C%20%5B26.43128%2C%20-81.809216%5D%2C%20%5B34.921169%2C%20-120.482224%5D%2C%20%5B36.093773%2C%20-86.801413%5D%2C%20%5B34.066728000000005%2C%20-117.220861%5D%2C%20%5B34.376448%2C%20-118.564992%5D%2C%20%5B38.560519%2C%20-121.458057%5D%2C%20%5B33.82594%2C%20-118.23702%5D%2C%20%5B30.231922%2C%20-97.800936%5D%2C%20%5B30.732804%2C%20-86.358021%5D%2C%20%5B37.45127700000001%2C%20-122.125414%5D%2C%20%5B45.13027%2C%20-93.405777%5D%2C%20%5B25.671986%2C%20-80.38261899999998%5D%2C%20%5B40.205313%2C%20-75.342555%5D%2C%20%5B43.611197%2C%20-116.205988%5D%2C%20%5B36.180082%2C%20-86.797546%5D%2C%20%5B33.741005%2C%20-118.000551%5D%2C%20%5B32.67281%2C%20-97.3755%5D%2C%20%5B37.572373%2C%20-77.456756%5D%2C%20%5B25.777544%2C%20-80.33675%5D%2C%20%5B40.461882%2C%20-123.528283%5D%2C%20%5B39.719456%2C%20-76.653402%5D%2C%20%5B38.23052%2C%20-77.498663%5D%2C%20%5B25.93132%2C%20-80.20455%5D%2C%20%5B33.960012%2C%20-118.284774%5D%2C%20%5B26.15146%2C%20-80.33836%5D%2C%20%5B34.776540999999995%2C%20-118.253759%5D%2C%20%5B30.461092%2C%20-87.29908499999998%5D%2C%20%5B44.41457%2C%20-118.92811%5D%2C%20%5B39.986219%2C%20-104.923637%5D%2C%20%5B39.10131%2C%20-84.5025%5D%2C%20%5B38.00747%2C%20-78.509727%5D%2C%20%5B41.714053%2C%20-87.650775%5D%2C%20%5B25.880344%2C%20-80.35553399999998%5D%2C%20%5B29.5595%2C%20-81.22255%5D%2C%20%5B30.399839%2C%20-91.106644%5D%2C%20%5B28.565889%2C%20-81.286078%5D%2C%20%5B30.773091%2C%20-86.56356099999998%5D%2C%20%5B37.48422%2C%20-122.18363%5D%2C%20%5B40.6903%2C%20-73.99865%5D%2C%20%5B32.642438%2C%20-96.953992%5D%2C%20%5B40.894076%2C%20-111.89199%5D%2C%20%5B33.779901%2C%20-117.883247%5D%2C%20%5B42.2134%2C%20-71.15014000000002%5D%2C%20%5B41.650918%2C%20-72.671996%5D%2C%20%5B37.193065%2C%20-80.27359100000002%5D%2C%20%5B40.696803%2C%20-74.218622%5D%2C%20%5B45.722164%2C%20-111.07591399999998%5D%2C%20%5B34.153177%2C%20-118.328205%5D%2C%20%5B34.750539%2C%20-92.391425%5D%2C%20%5B30.773002%2C%20-86.559409%5D%2C%20%5B28.58881%2C%20-81.467827%5D%2C%20%5B40.56399%2C%20-75.58393000000002%5D%2C%20%5B45.212484%2C%20-93.623975%5D%2C%20%5B33.95815%2C%20-118.11229%5D%2C%20%5B37.835056%2C%20-122.484443%5D%2C%20%5B35.75889%2C%20-78.73105%5D%2C%20%5B43.062692%2C%20-76.19179399999999%5D%2C%20%5B28.259668%2C%20-81.438311%5D%2C%20%5B37.84202%2C%20-122.29749%5D%2C%20%5B40.285274%2C%20-76.469307%5D%2C%20%5B27.965395%2C%20-82.748497%5D%2C%20%5B28.332254%2C%20-81.648552%5D%2C%20%5B35.603604%2C%20-78.598005%5D%2C%20%5B25.939253%2C%20-80.296094%5D%2C%20%5B41.12428%2C%20-104.75984%5D%2C%20%5B39.10432%2C%20-94.67634%5D%2C%20%5B39.780466%2C%20-104.960545%5D%2C%20%5B38.427869%2C%20-122.768708%5D%2C%20%5B35.8817%2C%20-78.36726999999998%5D%2C%20%5B38.126054%2C%20-122.489436%5D%2C%20%5B33.974643%2C%20-118.286508%5D%2C%20%5B39.274138%2C%20-77.820872%5D%2C%20%5B28.381216%2C%20-81.404625%5D%2C%20%5B33.766199%2C%20-117.932981%5D%2C%20%5B27.102983%2C%20-81.332441%5D%2C%20%5B34.70434%2C%20-111.990627%5D%2C%20%5B33.988848%2C%20-118.35406299999998%5D%2C%20%5B39.960979%2C%20-90.240545%5D%2C%20%5B35.71987%2C%20-86.31923%5D%2C%20%5B40.02328%2C%20-75.03466999999998%5D%2C%20%5B44.95165%2C%20-93.14175%5D%2C%20%5B25.65666%2C%20-80.40260699999997%5D%2C%20%5B25.733584%2C%20-80.30026099999998%5D%2C%20%5B40.67641500000001%2C%20-73.971909%5D%2C%20%5B36.845794%2C%20-76.189144%5D%2C%20%5B37.42435800000001%2C%20-76.832274%5D%2C%20%5B33.8342%2C%20-117.87596%5D%2C%20%5B36.666748%2C%20-121.685075%5D%2C%20%5B32.909056%2C%20-96.736926%5D%2C%20%5B38.384989%2C%20-122.595135%5D%2C%20%5B36.77361%2C%20-121.603179%5D%2C%20%5B39.02471%2C%20-94.500945%5D%2C%20%5B28.065668%2C%20-82.50325500000002%5D%2C%20%5B39.785529%2C%20-123.544507%5D%2C%20%5B35.23139000000001%2C%20-80.97039000000002%5D%2C%20%5B40.375863%2C%20-120.525611%5D%2C%20%5B25.811402%2C%20-80.193826%5D%2C%20%5B28.494316%2C%20-81.417523%5D%2C%20%5B28.577684%2C%20-81.474816%5D%2C%20%5B38.940695%2C%20-94.593623%5D%2C%20%5B47.018288%2C%20-114.207803%5D%2C%20%5B40.7053%2C%20-74.148327%5D%2C%20%5B36.841602%2C%20-121.473429%5D%2C%20%5B39.01965%2C%20-76.98029%5D%2C%20%5B27.938882%2C%20-82.787314%5D%2C%20%5B35.778381%2C%20-78.736696%5D%2C%20%5B42.66634000000001%2C%20-88.98334%5D%2C%20%5B32.769931%2C%20-96.806919%5D%2C%20%5B36.121944%2C%20-115.15498999999998%5D%2C%20%5B38.957394%2C%20-77.017077%5D%2C%20%5B41.758669%2C%20-87.886309%5D%2C%20%5B42.291365%2C%20-91.014318%5D%2C%20%5B40.187825%2C%20-75.253394%5D%2C%20%5B38.732563%2C%20-121.28163700000002%5D%2C%20%5B25.942628%2C%20-80.201091%5D%2C%20%5B38.439686%2C%20-121.40249%5D%2C%20%5B44.95166%2C%20-93.1568%5D%2C%20%5B42.820855%2C%20-117.677253%5D%2C%20%5B34.303553%2C%20-117.461932%5D%2C%20%5B41.29522%2C%20-72.76683%5D%2C%20%5B33.90997%2C%20-118.10537%5D%2C%20%5B32.70449%2C%20-96.58003%5D%2C%20%5B40.737851%2C%20-73.904803%5D%2C%20%5B37.547834%2C%20-121.066761%5D%2C%20%5B42.97247%2C%20-85.65368000000002%5D%2C%20%5B38.71431%2C%20-121.540576%5D%2C%20%5B37.987689%2C%20-121.194425%5D%2C%20%5B37.731593%2C%20-122.447304%5D%2C%20%5B35.59463%2C%20-97.51374%5D%2C%20%5B40.60996%2C%20-75.53033%5D%2C%20%5B37.93996%2C%20-122.51601%5D%2C%20%5B38.595886%2C%20-121.392225%5D%2C%20%5B39.169211%2C%20-123.211292%5D%2C%20%5B30.53409000000001%2C%20-87.08175%5D%2C%20%5B40.729313%2C%20-122.939019%5D%2C%20%5B32.87239%2C%20-96.67966%5D%2C%20%5B38.85752%2C%20-77.37295%5D%2C%20%5B38.56057%2C%20-121.45827%5D%2C%20%5B39.871091%2C%20-75.323371%5D%2C%20%5B34.156848%2C%20-118.41692%5D%2C%20%5B34.152217%2C%20-118.282552%5D%2C%20%5B30.406168%2C%20-86.849243%5D%2C%20%5B42.42537%2C%20-70.98602%5D%2C%20%5B38.041353%2C%20-77.918607%5D%2C%20%5B41.610768%2C%20-87.090548%5D%2C%20%5B39.553332%2C%20-122.19356%5D%2C%20%5B35.95327800000001%2C%20-83.978282%5D%2C%20%5B34.030247%2C%20-117.67311200000002%5D%2C%20%5B37.41842000000001%2C%20-121.97149%5D%2C%20%5B43.059035%2C%20-76.08831500000002%5D%2C%20%5B40.764307%2C%20-74.048243%5D%2C%20%5B28.260171000000003%2C%20-81.60849300000002%5D%2C%20%5B39.566906%2C%20-76.141337%5D%2C%20%5B38.65176%2C%20-77.28192%5D%2C%20%5B44.417349%2C%20-117.309104%5D%2C%20%5B45.635672%2C%20-118.680227%5D%2C%20%5B38.137936%2C%20-122.470169%5D%2C%20%5B33.135287%2C%20-117.13258%5D%2C%20%5B37.237118%2C%20-76.51096700000002%5D%2C%20%5B41.651189%2C%20-93.582618%5D%2C%20%5B33.10644%2C%20-117.13021299999998%5D%2C%20%5B28.202485%2C%20-81.69584300000002%5D%2C%20%5B37.552525%2C%20-77.47882800000002%5D%2C%20%5B38.470631%2C%20-121.417262%5D%2C%20%5B28.388503000000004%2C%20-81.404657%5D%2C%20%5B29.680558%2C%20-95.274466%5D%2C%20%5B34.019468%2C%20-117.987951%5D%2C%20%5B34.120335%2C%20-117.739331%5D%2C%20%5B48.813961%2C%20-122.544776%5D%2C%20%5B35.265659%2C%20-80.878407%5D%2C%20%5B39.552693%2C%20-119.787912%5D%2C%20%5B33.858918%2C%20-118.008051%5D%2C%20%5B37.32452%2C%20-121.88954%5D%2C%20%5B38.807489%2C%20-77.255577%5D%2C%20%5B30.33153%2C%20-81.763%5D%2C%20%5B40.66619%2C%20-73.75963%5D%2C%20%5B34.065490000000004%2C%20-117.54478%5D%2C%20%5B39.013319%2C%20-77.042371%5D%2C%20%5B33.765316%2C%20-117.920223%5D%2C%20%5B38.090238%2C%20-121.259996%5D%2C%20%5B34.133909%2C%20-80.878169%5D%2C%20%5B37.25612%2C%20-121.87112%5D%2C%20%5B32.76372%2C%20-97.3176%5D%2C%20%5B43.66719000000001%2C%20-123.20293999999998%5D%2C%20%5B35.36108400000001%2C%20-80.72098100000002%5D%2C%20%5B37.394403%2C%20-121.907198%5D%2C%20%5B38.933712%2C%20-94.752477%5D%2C%20%5B33.982496999999995%2C%20-117.367365%5D%2C%20%5B37.625986%2C%20-121.014548%5D%2C%20%5B39.996503%2C%20-120.95203899999998%5D%2C%20%5B36.779056%2C%20-119.88031399999998%5D%2C%20%5B40.451134%2C%20-86.84584%5D%2C%20%5B41.88527%2C%20-71.37874000000002%5D%2C%20%5B33.391021%2C%20-111.967473%5D%2C%20%5B39.819209%2C%20-77.234673%5D%2C%20%5B39.564031%2C%20-121.43374%5D%2C%20%5B25.655958%2C%20-80.328603%5D%2C%20%5B34.006387%2C%20-117.974969%5D%2C%20%5B41.05211%2C%20-76.86213000000002%5D%2C%20%5B40.10969%2C%20-79.92021%5D%2C%20%5B41.2194%2C%20-112.0051%5D%2C%20%5B32.751799%2C%20-96.7707%5D%2C%20%5B33.888903000000006%2C%20-118.265425%5D%2C%20%5B34.084672999999995%2C%20-118.300442%5D%2C%20%5B44.859377%2C%20-93.409806%5D%2C%20%5B38.151305%2C%20-122.112515%5D%2C%20%5B33.446490999999995%2C%20-112.550436%5D%2C%20%5B34.13548%2C%20-117.58477%5D%2C%20%5B28.68670800000001%2C%20-81.38884%5D%2C%20%5B40.690321%2C%20-73.99864699999998%5D%2C%20%5B45.56242%2C%20-123.002439%5D%2C%20%5B34.217694%2C%20-80.686494%5D%2C%20%5B37.959643%2C%20-121.241008%5D%2C%20%5B38.629745%2C%20-90.345989%5D%2C%20%5B35.850315%2C%20-78.33411600000002%5D%2C%20%5B35.77518%2C%20-78.517623%5D%2C%20%5B42.181721%2C%20-87.81897099999998%5D%2C%20%5B25.806911%2C%20-80.31311600000002%5D%2C%20%5B34.093226%2C%20-80.860716%5D%2C%20%5B34.876944%2C%20-118.894722%5D%2C%20%5B33.575596000000004%2C%20-86.71553399999998%5D%2C%20%5B33.45868%2C%20-112.13448%5D%2C%20%5B41.364437%2C%20-72.073048%5D%2C%20%5B37.86815%2C%20-122.19589%5D%2C%20%5B36.041362%2C%20-86.77776%5D%2C%20%5B41.38348%2C%20-73.57881%5D%2C%20%5B45.509358%2C%20-122.72865%5D%2C%20%5B45.453282%2C%20-120.751472%5D%2C%20%5B34.135873%2C%20-80.761201%5D%2C%20%5B40.725909%2C%20-73.890464%5D%2C%20%5B35.365612%2C%20-118.93196100000002%5D%2C%20%5B37.776155%2C%20-77.462117%5D%2C%20%5B34.131536%2C%20-118.054582%5D%2C%20%5B36.11107%2C%20-80.05897%5D%2C%20%5B42.382672%2C%20-73.722026%5D%2C%20%5B29.747045%2C%20-95.361305%5D%2C%20%5B36.63443%2C%20-119.73682%5D%2C%20%5B25.873909%2C%20-80.25107%5D%2C%20%5B42.168758%2C%20-121.6981%5D%2C%20%5B35.844561%2C%20-78.680376%5D%2C%20%5B37.653254%2C%20-77.621062%5D%2C%20%5B38.795452%2C%20-77.14188399999998%5D%2C%20%5B33.383732%2C%20-117.578974%5D%2C%20%5B35.736683%2C%20-78.640128%5D%2C%20%5B33.9412%2C%20-118.09672%5D%2C%20%5B33.507969%2C%20-112.116996%5D%2C%20%5B37.28817700000001%2C%20-119.651282%5D%2C%20%5B42.55125%2C%20-82.8766%5D%2C%20%5B44.94687%2C%20-93.0791%5D%2C%20%5B40.046837%2C%20-86.875863%5D%2C%20%5B40.08543%2C%20-75.39289000000002%5D%2C%20%5B33.73111%2C%20-84.19431%5D%2C%20%5B34.06153%2C%20-118.000826%5D%2C%20%5B27.401716%2C%20-82.452225%5D%2C%20%5B38.064783%2C%20-122.165426%5D%2C%20%5B44.497514%2C%20-118.244379%5D%2C%20%5B30.465763%2C%20-91.166642%5D%2C%20%5B40.760794%2C%20-73.95656899999999%5D%2C%20%5B40.782397%2C%20-73.417907%5D%2C%20%5B34.0031%2C%20-118.06523%5D%2C%20%5B38.953848%2C%20-121.53861100000002%5D%2C%20%5B40.73976%2C%20-74.080188%5D%2C%20%5B38.26883400000001%2C%20-77.514253%5D%2C%20%5B39.828323%2C%20-123.248142%5D%2C%20%5B38.90267%2C%20-76.9817%5D%2C%20%5B36.14052%2C%20-86.72365%5D%2C%20%5B42.33581%2C%20-83.12875%5D%2C%20%5B39.2221%2C%20-84.35663000000002%5D%2C%20%5B28.52029000000001%2C%20-81.37228%5D%2C%20%5B33.43538%2C%20-111.93238999999998%5D%2C%20%5B40.715809%2C%20-73.807806%5D%2C%20%5B40.97149%2C%20-111.89343%5D%2C%20%5B39.95044%2C%20-75.5105%5D%2C%20%5B29.475682%2C%20-81.185489%5D%2C%20%5B33.676565000000004%2C%20-117.84273%5D%2C%20%5B39.812918%2C%20-86.275602%5D%2C%20%5B44.385421%2C%20-95.127491%5D%2C%20%5B41.501852%2C%20-87.31990400000002%5D%2C%20%5B33.394848%2C%20-117.252427%5D%2C%20%5B40.170218%2C%20-75.110606%5D%2C%20%5B44.28381%2C%20-92.90287%5D%2C%20%5B39.96128%2C%20-75.18244%5D%2C%20%5B38.848532%2C%20-77.048247%5D%2C%20%5B41.769666%2C%20-72.670826%5D%2C%20%5B39.149229%2C%20-120.899909%5D%2C%20%5B29.967073%2C%20-90.108685%5D%2C%20%5B38.675876%2C%20-121.952115%5D%2C%20%5B41.011501%2C%20-74.106849%5D%2C%20%5B34.121077%2C%20-117.902951%5D%2C%20%5B35.743347%2C%20-78.618728%5D%2C%20%5B34.057594%2C%20-118.172141%5D%2C%20%5B33.349007%2C%20-111.965298%5D%2C%20%5B25.769204%2C%20-80.3487%5D%2C%20%5B36.040782%2C%20-86.779822%5D%2C%20%5B36.94974000000001%2C%20-80.88396999999998%5D%2C%20%5B40.69588%2C%20-74.25975600000002%5D%2C%20%5B40.286688%2C%20-79.318938%5D%2C%20%5B25.76861%2C%20-80.367676%5D%2C%20%5B27.0595%2C%20-80.13659%5D%2C%20%5B42.11597%2C%20-87.875615%5D%2C%20%5B40.66082%2C%20-73.7767%5D%2C%20%5B28.436917%2C%20-81.404464%5D%2C%20%5B34.028252%2C%20-117.550052%5D%2C%20%5B39.322332%2C%20-76.473673%5D%2C%20%5B31.78366%2C%20-106.44202%5D%2C%20%5B43.02068%2C%20-76.143%5D%2C%20%5B33.39481%2C%20-111.89101%5D%2C%20%5B25.614529%2C%20-80.34652700000002%5D%2C%20%5B25.731434%2C%20-80.335678%5D%2C%20%5B38.459191%2C%20-122.726325%5D%2C%20%5B33.575838%2C%20-86.63894499999998%5D%2C%20%5B30.355003000000004%2C%20-97.6828%5D%2C%20%5B44.093209%2C%20-123.776274%5D%2C%20%5B34.081767%2C%20-117.710298%5D%2C%20%5B33.559706%2C%20-84.588376%5D%2C%20%5B32.3244%2C%20-86.33545%5D%2C%20%5B32.7998%2C%20-86.579614%5D%2C%20%5B42.363919%2C%20-87.96351%5D%2C%20%5B38.6385%2C%20-90.45534%5D%2C%20%5B39.8851%2C%20-104.85016%5D%2C%20%5B32.65015%2C%20-96.86881%5D%2C%20%5B37.09600800000001%2C%20-119.498747%5D%2C%20%5B36.099966%2C%20-81.276764%5D%2C%20%5B33.989204%2C%20-118.205924%5D%2C%20%5B42.19039%2C%20-88.13545%5D%2C%20%5B33.127538%2C%20-117.143176%5D%2C%20%5B27.339118%2C%20-82.46377%5D%2C%20%5B42.06121%2C%20-87.86792%5D%2C%20%5B40.09189%2C%20-104.980641%5D%2C%20%5B34.423899%2C%20-119.640125%5D%2C%20%5B41.58126%2C%20-93.59689%5D%2C%20%5B34.02261%2C%20-117.552951%5D%2C%20%5B33.43712%2C%20-112.0374%5D%2C%20%5B35.810737%2C%20-78.5774%5D%2C%20%5B36.118805%2C%20-95.925003%5D%2C%20%5B44.951723%2C%20-93.081648%5D%2C%20%5B39.256521%2C%20-76.636344%5D%2C%20%5B34.13881%2C%20-118.71878999999998%5D%2C%20%5B26.641435%2C%20-81.824871%5D%2C%20%5B37.51182%2C%20-122.34971000000002%5D%2C%20%5B37.866707%2C%20-121.637734%5D%2C%20%5B47.638316%2C%20-95.905378%5D%2C%20%5B28.401562%2C%20-81.42499000000002%5D%2C%20%5B41.742306%2C%20-72.735618%5D%2C%20%5B36.044887%2C%20-86.66386%5D%2C%20%5B40.784848%2C%20-73.643282%5D%2C%20%5B33.997594%2C%20-117.888182%5D%2C%20%5B33.7789%2C%20-117.8801%5D%2C%20%5B28.486291%2C%20-81.45876%5D%2C%20%5B32.828913%2C%20-96.825216%5D%2C%20%5B32.801066%2C%20-96.816297%5D%2C%20%5B39.052889%2C%20-94.476913%5D%2C%20%5B33.982085999999995%2C%20-117.3678%5D%2C%20%5B39.13421%2C%20-94.4991%5D%2C%20%5B35.87348400000001%2C%20-78.72776%5D%2C%20%5B42.163542%2C%20-87.87400600000002%5D%2C%20%5B35.655989%2C%20-78.848611%5D%2C%20%5B34.071647%2C%20-118.108229%5D%2C%20%5B40.010564%2C%20-76.13235999999998%5D%2C%20%5B28.421362%2C%20-81.403312%5D%2C%20%5B45.22583%2C%20-122.81412%5D%2C%20%5B25.670988%2C%20-80.413044%5D%2C%20%5B45.353819%2C%20-118.19231299999998%5D%2C%20%5B41.14559000000001%2C%20-73.26128800000002%5D%2C%20%5B25.733269%2C%20-80.331645%5D%2C%20%5B39.977593%2C%20-75.586279%5D%2C%20%5B42.307972%2C%20-88.146079%5D%2C%20%5B38.800073%2C%20-77.16591899999997%5D%2C%20%5B29.73221%2C%20-95.385187%5D%2C%20%5B28.187832%2C%20-82.54185799999998%5D%2C%20%5B38.607902%2C%20-78.71426600000002%5D%2C%20%5B41.265174%2C%20-122.230678%5D%2C%20%5B39.55517%2C%20-104.86915%5D%2C%20%5B37.63023%2C%20-122.42474%5D%2C%20%5B39.21414%2C%20-84.46104%5D%2C%20%5B34.02767%2C%20-117.796093%5D%2C%20%5B44.85795%2C%20-93.33464%5D%2C%20%5B45.24909%2C%20-122.79537%5D%2C%20%5B33.624025%2C%20-81.97296300000002%5D%2C%20%5B33.70746%2C%20-112.1162%5D%2C%20%5B38.8898%2C%20-76.981124%5D%2C%20%5B44.569398%2C%20-118.505541%5D%2C%20%5B29.33306%2C%20-82.15156%5D%2C%20%5B34.246589%2C%20-117.43681200000002%5D%2C%20%5B44.522075%2C%20-119.928041%5D%2C%20%5B34.127765999999994%2C%20-117.918048%5D%2C%20%5B33.850190000000005%2C%20-84.2468%5D%2C%20%5B28.57905%2C%20-81.476118%5D%2C%20%5B41.39383400000001%2C%20-72.170487%5D%2C%20%5B30.439302%2C%20-91.192107%5D%2C%20%5B37.68875%2C%20-122.135372%5D%2C%20%5B45.018571%2C%20-93.282326%5D%2C%20%5B25.88019%2C%20-80.20895%5D%2C%20%5B37.616476%2C%20-121.030388%5D%2C%20%5B34.184271%2C%20-118.907572%5D%2C%20%5B35.408602%2C%20-119.029985%5D%2C%20%5B38.663842%2C%20-122.85732%5D%2C%20%5B38.41734500000001%2C%20-81.800096%5D%2C%20%5B34.034928%2C%20-118.368514%5D%2C%20%5B39.895298%2C%20-75.107697%5D%2C%20%5B34.00056%2C%20-118.28083%5D%2C%20%5B42.580071%2C%20-73.67886999999997%5D%2C%20%5B47.537498%2C%20-94.056603%5D%2C%20%5B29.655562%2C%20-95.571396%5D%2C%20%5B37.491722%2C%20-121.91908%5D%2C%20%5B41.05701%2C%20-77.210942%5D%2C%20%5B38.98707%2C%20-94.551755%5D%2C%20%5B39.63587%2C%20-86.10146999999998%5D%2C%20%5B39.013248%2C%20-77.133258%5D%2C%20%5B40.764912%2C%20-111.991647%5D%2C%20%5B41.828051%2C%20-88.021389%5D%2C%20%5B34.219533%2C%20-118.241355%5D%2C%20%5B35.753728%2C%20-78.652914%5D%2C%20%5B40.644949%2C%20-74.017609%5D%2C%20%5B34.029941%2C%20-118.44219%5D%2C%20%5B40.887467%2C%20-73.894079%5D%2C%20%5B46.341916%2C%20-114.171091%5D%2C%20%5B39.106225%2C%20-94.57185%5D%2C%20%5B30.539990000000003%2C%20-84.60088%5D%2C%20%5B38.020677%2C%20-103.445481%5D%2C%20%5B34.073949%2C%20-80.929517%5D%2C%20%5B32.643445%2C%20-96.779667%5D%2C%20%5B28.553005%2C%20-81.382695%5D%2C%20%5B40.123477%2C%20-75.338669%5D%2C%20%5B34.009458%2C%20-118.423064%5D%2C%20%5B33.849145%2C%20-117.850996%5D%2C%20%5B33.43677%2C%20-112.16922%5D%2C%20%5B37.567966%2C%20-122.310724%5D%2C%20%5B42.883855%2C%20-85.64562600000002%5D%2C%20%5B33.956540000000004%2C%20-84.516416%5D%2C%20%5B37.551564%2C%20-77.69447%5D%2C%20%5B44.97002%2C%20-93.313474%5D%2C%20%5B38.759273%2C%20-120.568773%5D%2C%20%5B30.494305%2C%20-87.23724200000002%5D%2C%20%5B34.029428%2C%20-117.329795%5D%2C%20%5B32.813493%2C%20-96.647238%5D%2C%20%5B39.59505%2C%20-104.848%5D%2C%20%5B38.59617%2C%20-121.411992%5D%2C%20%5B44.90663%2C%20-91.4076%5D%2C%20%5B39.424214%2C%20-77.427864%5D%2C%20%5B33.455976%2C%20-112.427505%5D%2C%20%5B33.733315000000005%2C%20-117.405812%5D%2C%20%5B29.706090000000003%2C%20-95.24217%5D%2C%20%5B37.960629%2C%20-122.50954%5D%2C%20%5B35.033319%2C%20-85.15383800000002%5D%2C%20%5B38.057624%2C%20-121.310571%5D%2C%20%5B38.8276%2C%20-104.80411%5D%2C%20%5B40.472025%2C%20-120.75584%5D%2C%20%5B33.97465%2C%20-118.28086%5D%2C%20%5B41.538158%2C%20-73.77092900000002%5D%2C%20%5B37.188987%2C%20-78.18669799999998%5D%2C%20%5B35.270235%2C%20-80.794276%5D%2C%20%5B46.25449%2C%20-107.230628%5D%2C%20%5B37.925154%2C%20-122.060144%5D%2C%20%5B25.553949%2C%20-80.392567%5D%2C%20%5B35.077211%2C%20-85.200133%5D%2C%20%5B25.686151%2C%20-80.445996%5D%2C%20%5B27.447474%2C%20-82.52785%5D%2C%20%5B39.77948%2C%20-104.97557%5D%2C%20%5B32.863315%2C%20-96.878844%5D%2C%20%5B40.721086%2C%20-73.826428%5D%2C%20%5B29.799079%2C%20-95.448081%5D%2C%20%5B37.931467%2C%20-87.54804200000002%5D%2C%20%5B38.691279%2C%20-77.256475%5D%2C%20%5B44.85955%2C%20-93.39452%5D%2C%20%5B41.817024%2C%20-71.39863199999998%5D%2C%20%5B40.579773%2C%20-75.70424399999997%5D%2C%20%5B30.430104%2C%20-91.135386%5D%2C%20%5B44.89317%2C%20-93.27552%5D%2C%20%5B36.75150900000001%2C%20-119.677001%5D%2C%20%5B33.69381%2C%20-84.5002%5D%2C%20%5B34.46837%2C%20-118.322056%5D%2C%20%5B26.54213%2C%20-81.7951%5D%2C%20%5B41.529124%2C%20-73.919717%5D%2C%20%5B25.846504%2C%20-80.24992900000002%5D%2C%20%5B36.429065%2C%20-78.29821899999997%5D%2C%20%5B34.146397%2C%20-118.369428%5D%2C%20%5B35.317224%2C%20-119.002946%5D%2C%20%5B45.541058%2C%20-122.46994%5D%2C%20%5B29.400876%2C%20-98.511819%5D%2C%20%5B40.707018%2C%20-73.85091899999998%5D%2C%20%5B40.72428%2C%20-111.92449%5D%2C%20%5B38.672009%2C%20-77.25355%5D%2C%20%5B42.08725%2C%20-71.42466999999998%5D%2C%20%5B40.949458%2C%20-73.85218%5D%2C%20%5B33.780731%2C%20-84.391209%5D%2C%20%5B29.625524%2C%20-95.284064%5D%2C%20%5B37.588317%2C%20-77.585594%5D%2C%20%5B42.194291%2C%20-112.236832%5D%2C%20%5B36.09042700000001%2C%20-80.229538%5D%2C%20%5B39.135824%2C%20-77.68620899999998%5D%2C%20%5B34.072736%2C%20-117.777273%5D%2C%20%5B48.358978%2C%20-114.181076%5D%2C%20%5B40.24617%2C%20-75.241762%5D%2C%20%5B40.70922%2C%20-112.09181%5D%2C%20%5B40.6659%2C%20-73.99604000000002%5D%2C%20%5B37.491725%2C%20-122.376558%5D%2C%20%5B42.86707%2C%20-73.90563900000002%5D%2C%20%5B30.26564%2C%20-97.75237%5D%2C%20%5B32.81328%2C%20-96.64808%5D%2C%20%5B38.93146%2C%20-77.21025999999998%5D%2C%20%5B33.979452%2C%20-118.282668%5D%2C%20%5B40.798437%2C%20-73.923302%5D%2C%20%5B36.686612%2C%20-119.751676%5D%2C%20%5B45.69523%2C%20-121.34187%5D%2C%20%5B36.653336%2C%20-121.243864%5D%2C%20%5B29.753095%2C%20-95.625177%5D%2C%20%5B35.055158%2C%20-81.789695%5D%2C%20%5B35.183639%2C%20-80.756055%5D%2C%20%5B32.820091%2C%20-96.628987%5D%2C%20%5B32.870133%2C%20-96.672118%5D%2C%20%5B34.233439000000004%2C%20-118.409792%5D%2C%20%5B35.18952%2C%20-80.77253%5D%2C%20%5B33.8078%2C%20-118.08161%5D%2C%20%5B45.626642%2C%20-121.521604%5D%2C%20%5B45.275061%2C%20-93.547849%5D%2C%20%5B39.85986%2C%20-75.13750999999998%5D%2C%20%5B40.414141%2C%20-80.009511%5D%2C%20%5B40.57852000000001%2C%20-74.530745%5D%2C%20%5B33.746306%2C%20-81.123948%5D%2C%20%5B33.731506%2C%20-117.812189%5D%2C%20%5B34.179271%2C%20-118.395205%5D%2C%20%5B29.802084000000004%2C%20-95.569869%5D%2C%20%5B33.68744%2C%20-117.872226%5D%2C%20%5B33.436268%2C%20-117.618798%5D%2C%20%5B45.56703%2C%20-122.67874%5D%2C%20%5B35.017507%2C%20-85.20620799999998%5D%2C%20%5B34.00716%2C%20-118.060401%5D%2C%20%5B34.071639000000005%2C%20-118.110054%5D%2C%20%5B28.59614%2C%20-81.286496%5D%2C%20%5B43.156479%2C%20-77.624116%5D%2C%20%5B40.15982%2C%20-75.11184%5D%2C%20%5B38.852173%2C%20-76.956664%5D%2C%20%5B33.137026%2C%20-117.163789%5D%2C%20%5B32.93586%2C%20-80.038723%5D%2C%20%5B35.963918%2C%20-83.93729499999998%5D%2C%20%5B28.385869%2C%20-81.50614200000003%5D%2C%20%5B34.064060999999995%2C%20-117.294573%5D%2C%20%5B34.067088%2C%20-117.544913%5D%2C%20%5B29.74232%2C%20-95.3644%5D%2C%20%5B33.983089%2C%20-81.453558%5D%2C%20%5B40.069857%2C%20-75.447272%5D%2C%20%5B39.53626%2C%20-119.8101%5D%2C%20%5B40.82257%2C%20-73.88553%5D%2C%20%5B26.596969%2C%20-81.867046%5D%2C%20%5B37.782456%2C%20-122.395667%5D%2C%20%5B34.408375%2C%20-119.549435%5D%2C%20%5B34.030253%2C%20-117.672026%5D%2C%20%5B35.183114%2C%20-80.875736%5D%2C%20%5B32.770778%2C%20-97.319099%5D%2C%20%5B41.229175%2C%20-76.736227%5D%2C%20%5B34.084035%2C%20-117.693188%5D%2C%20%5B33.91643%2C%20-118.30039%5D%2C%20%5B35.414121%2C%20-119.057177%5D%2C%20%5B25.767744%2C%20-80.33628399999998%5D%2C%20%5B41.138187%2C%20-111.85922%5D%2C%20%5B39.94316%2C%20-104.98782%5D%2C%20%5B44.371308%2C%20-117.29612%5D%2C%20%5B28.693655%2C%20-81.873841%5D%2C%20%5B33.237486%2C%20-111.604959%5D%2C%20%5B36.19335%2C%20-86.75329%5D%2C%20%5B35.012516%2C%20-117.837872%5D%2C%20%5B37.627746%2C%20-121.021614%5D%2C%20%5B39.11287%2C%20-84.51593000000003%5D%2C%20%5B28.525478000000003%2C%20-81.310476%5D%2C%20%5B33.950933%2C%20-118.178956%5D%2C%20%5B40.05792%2C%20-74.146%5D%2C%20%5B35.601185%2C%20-119.455708%5D%2C%20%5B25.74572%2C%20-80.22178000000002%5D%2C%20%5B39.03711%2C%20-77.145136%5D%2C%20%5B45.680621%2C%20-118.898149%5D%2C%20%5B32.911302%2C%20-96.881734%5D%2C%20%5B35.06127%2C%20-80.99155%5D%2C%20%5B44.951945%2C%20-93.273174%5D%2C%20%5B27.460479%2C%20-82.575346%5D%2C%20%5B28.450912%2C%20-81.46547199999998%5D%2C%20%5B40.75221%2C%20-73.7431%5D%2C%20%5B38.863631%2C%20-121.955891%5D%2C%20%5B40.90815%2C%20-73.88608%5D%2C%20%5B33.86971%2C%20-81.41351%5D%2C%20%5B35.000192%2C%20-81.797404%5D%2C%20%5B32.933889%2C%20-96.753684%5D%2C%20%5B32.981122%2C%20-111.735136%5D%2C%20%5B29.542332%2C%20-98.375047%5D%2C%20%5B43.83933%2C%20-95.14871%5D%2C%20%5B34.676466%2C%20-92.364309%5D%2C%20%5B39.91525%2C%20-83.01611%5D%2C%20%5B37.75252800000001%2C%20-122.413512%5D%2C%20%5B34.863781%2C%20-118.209878%5D%2C%20%5B35.4086%2C%20-119.034142%5D%2C%20%5B33.930877%2C%20-118.178311%5D%2C%20%5B32.742866%2C%20-96.753416%5D%2C%20%5B37.847154%2C%20-122.298351%5D%2C%20%5B44.991954%2C%20-93.285453%5D%2C%20%5B39.94845%2C%20-75.186352%5D%2C%20%5B40.51285%2C%20-74.38048%5D%2C%20%5B34.004434%2C%20-117.550159%5D%2C%20%5B37.74739%2C%20-122.40362%5D%2C%20%5B32.69698%2C%20-117.133826%5D%2C%20%5B42.983875%2C%20-83.653286%5D%2C%20%5B32.85378%2C%20-117.18208%5D%2C%20%5B36.04225%2C%20-79.77761%5D%2C%20%5B35.714062%2C%20-78.58919399999998%5D%2C%20%5B33.884912%2C%20-117.633931%5D%2C%20%5B45.527669%2C%20-122.656042%5D%2C%20%5B38.249892%2C%20-77.508544%5D%2C%20%5B33.859544%2C%20-117.922881%5D%2C%20%5B32.834109999999995%2C%20-117.11891%5D%2C%20%5B27.394698%2C%20-82.450257%5D%2C%20%5B33.745479%2C%20-84.38928100000003%5D%2C%20%5B33.660553%2C%20-112.378152%5D%2C%20%5B35.83277800000001%2C%20-86.419427%5D%2C%20%5B25.883568%2C%20-80.243195%5D%2C%20%5B34.184706%2C%20-117.1812%5D%2C%20%5B37.72506%2C%20-122.137403%5D%2C%20%5B41.803837%2C%20-124.143229%5D%2C%20%5B35.224382%2C%20-80.86583%5D%2C%20%5B44.637963%2C%20-93.618134%5D%2C%20%5B37.78523%2C%20-121.30605%5D%2C%20%5B37.785512%2C%20-122.391418%5D%2C%20%5B35.789014%2C%20-78.659273%5D%2C%20%5B34.20112%2C%20-118.4734%5D%2C%20%5B34.080845000000004%2C%20-117.997637%5D%2C%20%5B38.965991%2C%20-94.723629%5D%2C%20%5B28.56705800000001%2C%20-81.28600899999998%5D%2C%20%5B36.08291%2C%20-86.95310699999996%5D%2C%20%5B41.31286%2C%20-72.91275999999998%5D%2C%20%5B33.917028%2C%20-118.030909%5D%2C%20%5B40.938781%2C%20-73.855537%5D%2C%20%5B38.603579%2C%20-121.415338%5D%2C%20%5B35.843259%2C%20-119.264799%5D%2C%20%5B36.13333%2C%20-95.92251%5D%2C%20%5B37.70358%2C%20-120.958204%5D%2C%20%5B40.705549%2C%20-74.01520699999998%5D%2C%20%5B41.542312%2C%20-74.36144300000002%5D%2C%20%5B33.909155%2C%20-118.269649%5D%2C%20%5B34.08722%2C%20-117.30194%5D%2C%20%5B37.852872%2C%20-122.492602%5D%2C%20%5B41.163422%2C%20-77.22041899999998%5D%2C%20%5B39.385203%2C%20-121.539784%5D%2C%20%5B33.984083%2C%20-118.055378%5D%2C%20%5B34.277839%2C%20-80.94189399999998%5D%2C%20%5B36.976229%2C%20-81.068657%5D%2C%20%5B38.282707%2C%20-122.665495%5D%2C%20%5B25.809573%2C%20-80.206102%5D%2C%20%5B40.72107000000001%2C%20-73.9747%5D%2C%20%5B40.71692%2C%20-73.82403000000002%5D%2C%20%5B44.456401%2C%20-120.447495%5D%2C%20%5B42.040669%2C%20-87.763401%5D%2C%20%5B39.76056%2C%20-86.22516%5D%2C%20%5B28.552392%2C%20-81.448734%5D%2C%20%5B45.431288%2C%20-118.360744%5D%2C%20%5B37.50692700000001%2C%20-122.338997%5D%2C%20%5B34.15691%2C%20-118.44868999999998%5D%2C%20%5B25.94205%2C%20-80.18598%5D%2C%20%5B33.21389%2C%20-117.38957%5D%2C%20%5B35.348887%2C%20-118.93206399999998%5D%2C%20%5B33.82195%2C%20-118.20685%5D%2C%20%5B40.71256%2C%20-73.72861%5D%2C%20%5B25.870141%2C%20-80.209959%5D%2C%20%5B37.3762%2C%20-77.48639399999998%5D%2C%20%5B36.021108%2C%20-83.91582700000002%5D%2C%20%5B28.690389%2C%20-81.546994%5D%2C%20%5B33.9441%2C%20-118.296211%5D%2C%20%5B38.89053%2C%20-77.15635%5D%2C%20%5B33.103247%2C%20-80.645342%5D%2C%20%5B38.580991%2C%20-121.463674%5D%2C%20%5B30.385037%2C%20-91.050296%5D%2C%20%5B29.966571%2C%20-90.01708199999999%5D%2C%20%5B45.032207%2C%20-93.346893%5D%2C%20%5B34.581105%2C%20-82.720704%5D%2C%20%5B41.998705%2C%20-76.54869599999998%5D%2C%20%5B28.779044%2C%20-81.354355%5D%2C%20%5B34.256932%2C%20-117.30281200000002%5D%2C%20%5B41.9272%2C%20-87.96163%5D%2C%20%5B34.07945%2C%20-117.62676299999998%5D%2C%20%5B43.157626%2C%20-77.6245%5D%2C%20%5B42.132411%2C%20-122.633351%5D%2C%20%5B32.61902%2C%20-97.32171%5D%2C%20%5B41.698098%2C%20-78.878835%5D%2C%20%5B34.262676%2C%20-118.44093%5D%2C%20%5B28.415999%2C%20-81.44274899999998%5D%2C%20%5B39.06863%2C%20-94.51091%5D%2C%20%5B45.204892%2C%20-93.386547%5D%2C%20%5B39.106729%2C%20-94.813043%5D%2C%20%5B39.99091%2C%20-85.914813%5D%2C%20%5B28.0353%2C%20-80.65996%5D%2C%20%5B29.654940000000003%2C%20-82.41475%5D%2C%20%5B34.041208000000005%2C%20-118.064316%5D%2C%20%5B35.39134%2C%20-97.55182%5D%2C%20%5B38.70147%2C%20-90.26649%5D%2C%20%5B39.527198%2C%20-119.707014%5D%2C%20%5B47.54105%2C%20-122.33449%5D%2C%20%5B27.336852%2C%20-82.44707700000002%5D%2C%20%5B34.073325%2C%20-117.295408%5D%2C%20%5B34.180861%2C%20-118.396278%5D%2C%20%5B38.934032%2C%20-76.91863199999997%5D%2C%20%5B41.71471%2C%20-87.80256%5D%2C%20%5B44.2641%2C%20-121.15206%5D%2C%20%5B39.109085%2C%20-123.195244%5D%2C%20%5B34.048984000000004%2C%20-118.18256%5D%2C%20%5B34.037236%2C%20-118.308889%5D%2C%20%5B27.888032%2C%20-82.650543%5D%2C%20%5B39.759506%2C%20-84.240023%5D%2C%20%5B39.740672%2C%20-121.88%5D%2C%20%5B33.783505%2C%20-117.882308%5D%2C%20%5B37.551215%2C%20-77.428067%5D%2C%20%5B33.92548%2C%20-84.18184000000002%5D%2C%20%5B29.730484000000004%2C%20-95.410598%5D%2C%20%5B44.366132%2C%20-93.405415%5D%2C%20%5B45.648633%2C%20-120.961586%5D%2C%20%5B38.6845%2C%20-121.75077%5D%2C%20%5B25.734958%2C%20-80.319197%5D%2C%20%5B37.635115%2C%20-77.45907199999998%5D%2C%20%5B32.792333%2C%20-96.628328%5D%2C%20%5B44.90652%2C%20-94.108004%5D%2C%20%5B40.29406%2C%20-76.82427%5D%2C%20%5B45.349191%2C%20-122.6576%5D%2C%20%5B34.01846%2C%20-118.27943%5D%2C%20%5B35.375066%2C%20-93.84849%5D%2C%20%5B33.779175%2C%20-117.876143%5D%2C%20%5B39.775782%2C%20-104.86741200000002%5D%2C%20%5B43.092166%2C%20-76.10679%5D%2C%20%5B39.096833%2C%20-94.547556%5D%2C%20%5B40.78356%2C%20-73.40139%5D%2C%20%5B40.71834000000001%2C%20-111.88826%5D%2C%20%5B38.991029%2C%20-94.552797%5D%2C%20%5B38.000475%2C%20-122.037731%5D%2C%20%5B45.61456%2C%20-95.547%5D%2C%20%5B40.420795%2C%20-80.031689%5D%2C%20%5B34.060803%2C%20-118.165093%5D%2C%20%5B29.981676%2C%20-90.073111%5D%2C%20%5B34.184166999999995%2C%20-118.916389%5D%2C%20%5B37.60237%2C%20-77.51495%5D%2C%20%5B35.27196%2C%20-80.850995%5D%2C%20%5B41.87317%2C%20-87.73521%5D%2C%20%5B32.805503%2C%20-96.768973%5D%2C%20%5B38.609601%2C%20-75.948697%5D%2C%20%5B37.330373%2C%20-121.928701%5D%2C%20%5B37.653631%2C%20-122.456178%5D%2C%20%5B33.68049%2C%20-117.85229%5D%2C%20%5B33.940784%2C%20-117.268761%5D%2C%20%5B28.571990000000003%2C%20-81.39358%5D%2C%20%5B39.55885%2C%20-107.339433%5D%2C%20%5B26.594266%2C%20-81.87198000000002%5D%2C%20%5B25.763151%2C%20-80.302214%5D%2C%20%5B34.699719%2C%20-82.824363%5D%2C%20%5B38.631244%2C%20-75.762845%5D%2C%20%5B34.14483%2C%20-117.27442%5D%2C%20%5B34.14298%2C%20-118.02119%5D%2C%20%5B28.673123%2C%20-81.489478%5D%2C%20%5B43.764901%2C%20-122.53204%5D%2C%20%5B30.659826%2C%20-81.542147%5D%2C%20%5B44.852231%2C%20-93.247371%5D%2C%20%5B27.10945%2C%20-82.35367%5D%2C%20%5B39.87225%2C%20-75.07268499999998%5D%2C%20%5B33.838353999999995%2C%20-117.118196%5D%2C%20%5B25.7847%2C%20-80.241128%5D%2C%20%5B39.374023%2C%20-76.454275%5D%2C%20%5B40.566%2C%20-88.385%5D%2C%20%5B41.59625%2C%20-87.30728%5D%2C%20%5B40.72327%2C%20-73.77591%5D%2C%20%5B34.144788%2C%20-117.273591%5D%2C%20%5B34.018226%2C%20-118.157954%5D%2C%20%5B45.60178%2C%20-122.68333%5D%2C%20%5B45.603979%2C%20-122.039963%5D%2C%20%5B39.365805%2C%20-77.16549%5D%2C%20%5B39.95484%2C%20-74.94575999999998%5D%2C%20%5B34.072111%2C%20-117.942651%5D%2C%20%5B35.043149%2C%20-118.110995%5D%2C%20%5B26.318221%2C%20-81.80525899999998%5D%2C%20%5B40.766454%2C%20-73.86324%5D%2C%20%5B25.657378%2C%20-80.448792%5D%2C%20%5B40.72338900000001%2C%20-73.537405%5D%2C%20%5B30.269045%2C%20-91.989563%5D%2C%20%5B38.207594%2C%20-121.26403%5D%2C%20%5B38.474347%2C%20-121.417758%5D%2C%20%5B39.811213%2C%20-104.995894%5D%2C%20%5B32.970917%2C%20-96.784765%5D%2C%20%5B29.797187%2C%20-95.484833%5D%2C%20%5B37.596641%2C%20-77.487677%5D%2C%20%5B39.29507%2C%20-84.47264%5D%2C%20%5B46.76492%2C%20-92.12329%5D%2C%20%5B47.64335%2C%20-122.34723%5D%2C%20%5B34.066663%2C%20-117.251286%5D%2C%20%5B34.050984%2C%20-117.801916%5D%2C%20%5B38.677861%2C%20-77.275592%5D%2C%20%5B34.507366%2C%20-117.39955%5D%2C%20%5B35.275951%2C%20-80.80926%5D%2C%20%5B37.193647%2C%20-121.697711%5D%2C%20%5B43.98159%2C%20-117.14889%5D%2C%20%5B34.785211%2C%20-80.920562%5D%2C%20%5B28.27624%2C%20-81.5984%5D%2C%20%5B35.834537%2C%20-78.321543%5D%2C%20%5B34.042952%2C%20-118.272653%5D%2C%20%5B40.96337800000001%2C%20-73.732451%5D%2C%20%5B44.86225200000001%2C%20-93.247007%5D%2C%20%5B37.822091%2C%20-121.291919%5D%2C%20%5B38.75978%2C%20-78.63651999999998%5D%2C%20%5B30.631822%2C%20-87.334678%5D%2C%20%5B45.607268%2C%20-118.650022%5D%2C%20%5B42.759915%2C%20-73.763698%5D%2C%20%5B38.550427%2C%20-121.47405%5D%2C%20%5B41.112395%2C%20-76.784166%5D%2C%20%5B33.70345%2C%20-84.16691%5D%2C%20%5B38.9222%2C%20-94.76229%5D%2C%20%5B32.925774%2C%20-96.807995%5D%2C%20%5B37.165652%2C%20-122.015948%5D%2C%20%5B40.08143%2C%20-111.70659%5D%2C%20%5B40.663512%2C%20-111.805431%5D%2C%20%5B33.872547%2C%20-117.54514%5D%2C%20%5B26.325%2C%20-80.11683000000002%5D%2C%20%5B25.716156%2C%20-80.43126%5D%2C%20%5B39.90255%2C%20-75.15086%5D%2C%20%5B33.50235900000001%2C%20-117.151906%5D%2C%20%5B29.680599%2C%20-95.392209%5D%2C%20%5B37.356441%2C%20-77.404289%5D%2C%20%5B29.51177%2C%20-98.534453%5D%2C%20%5B39.546344%2C%20-76.10679300000002%5D%2C%20%5B25.540516%2C%20-80.372069%5D%2C%20%5B37.980812%2C%20-121.263535%5D%2C%20%5B27.811523%2C%20-82.716799%5D%2C%20%5B34.807302%2C%20-91.987424%5D%2C%20%5B34.014509999999994%2C%20-117.81937%5D%2C%20%5B43.00017%2C%20-76.721478%5D%2C%20%5B36.054264%2C%20-119.311083%5D%2C%20%5B34.183370000000004%2C%20-118.13161200000002%5D%2C%20%5B37.605801%2C%20-122.068683%5D%2C%20%5B39.023705%2C%20-76.94556999999998%5D%2C%20%5B39.230791%2C%20-123.208088%5D%2C%20%5B47.46824%2C%20-122.21808%5D%2C%20%5B45.047195%2C%20-93.4522%5D%2C%20%5B40.106954%2C%20-79.004544%5D%2C%20%5B41.85907%2C%20-88.08705%5D%2C%20%5B37.75835%2C%20-122.2121%5D%2C%20%5B39.997218%2C%20-85.777462%5D%2C%20%5B36.319676%2C%20-86.702851%5D%2C%20%5B35.43524%2C%20-97.42361%5D%2C%20%5B38.63638%2C%20-121.225271%5D%2C%20%5B37.06641%2C%20-121.21912%5D%2C%20%5B44.266012%2C%20-94.291621%5D%2C%20%5B38.78426%2C%20-76.66391%5D%2C%20%5B25.672699%2C%20-80.36467900000002%5D%2C%20%5B38.678993%2C%20-121.334915%5D%2C%20%5B33.615970000000004%2C%20-112.11677%5D%2C%20%5B45.902669%2C%20-123.668162%5D%2C%20%5B26.916586%2C%20-80.145759%5D%2C%20%5B40.60741%2C%20-75.539119%5D%2C%20%5B38.314023%2C%20-120.26957%5D%2C%20%5B40.83309000000001%2C%20-74.14536%5D%2C%20%5B41.59736%2C%20-90.576707%5D%2C%20%5B40.23178%2C%20-76.93655%5D%2C%20%5B26.53273%2C%20-80.17276%5D%2C%20%5B33.691023%2C%20-117.924274%5D%2C%20%5B37.952867%2C%20-122.327994%5D%2C%20%5B26.67968%2C%20-80.17421%5D%2C%20%5B30.427301%2C%20-84.28065500000002%5D%2C%20%5B29.946229%2C%20-90.088388%5D%2C%20%5B33.858781%2C%20-78.657348%5D%2C%20%5B45.47336%2C%20-122.787%5D%2C%20%5B32.793127%2C%20-96.746689%5D%2C%20%5B33.993672%2C%20-117.931407%5D%2C%20%5B32.752203%2C%20-117.206563%5D%2C%20%5B34.070049%2C%20-117.96343600000002%5D%2C%20%5B25.761738%2C%20-80.352385%5D%2C%20%5B32.93495%2C%20-96.75236%5D%2C%20%5B45.532647%2C%20-122.564998%5D%2C%20%5B29.735777%2C%20-95.625217%5D%2C%20%5B43.113223%2C%20-123.356323%5D%2C%20%5B38.640655%2C%20-77.659948%5D%2C%20%5B37.70227%2C%20-121.74506%5D%2C%20%5B40.64759%2C%20-111.90231%5D%2C%20%5B39.776889%2C%20-76.669799%5D%2C%20%5B45.106153000000006%2C%20-123.74251%5D%2C%20%5B29.94196%2C%20-95.38216%5D%2C%20%5B35.340217%2C%20-86.878198%5D%2C%20%5B38.882516%2C%20-77.017901%5D%2C%20%5B28.552135%2C%20-81.395809%5D%2C%20%5B33.23234%2C%20-117.147288%5D%2C%20%5B44.641509%2C%20-93.137102%5D%2C%20%5B25.871906%2C%20-80.323219%5D%2C%20%5B44.08768%2C%20-123.06782%5D%2C%20%5B45.28698%2C%20-122.56533%5D%2C%20%5B32.597001%2C%20-93.833427%5D%2C%20%5B43.194099%2C%20-77.623747%5D%2C%20%5B45.04322%2C%20-123.20711%5D%2C%20%5B38.049425%2C%20-120.631141%5D%2C%20%5B29.773405%2C%20-95.40953%5D%2C%20%5B33.82281%2C%20-84.49204%5D%2C%20%5B43.202395%2C%20-77.731983%5D%2C%20%5B40.491662%2C%20-80.009948%5D%2C%20%5B45.422837%2C%20-84.82820699999998%5D%2C%20%5B33.873518%2C%20-118.248778%5D%2C%20%5B36.458011%2C%20-119.32243400000002%5D%2C%20%5B40.24269%2C%20-74.08646%5D%2C%20%5B35.896786%2C%20-75.61980799999998%5D%2C%20%5B30.530738%2C%20-84.558051%5D%2C%20%5B38.52849000000001%2C%20-121.51911%5D%2C%20%5B44.970258%2C%20-93.32903%5D%2C%20%5B33.519838%2C%20-86.79905600000002%5D%2C%20%5B33.980920000000005%2C%20-118.394739%5D%2C%20%5B34.030590999999994%2C%20-81.086579%5D%2C%20%5B29.82761%2C%20-82.06058%5D%2C%20%5B42.938266%2C%20-73.874089%5D%2C%20%5B47.949475%2C%20-104.028285%5D%2C%20%5B25.764969%2C%20-80.303967%5D%2C%20%5B37.784877%2C%20-122.39266%5D%2C%20%5B33.853849%2C%20-117.955376%5D%2C%20%5B32.348277%2C%20-86.221859%5D%2C%20%5B35.36890800000001%2C%20-119.180958%5D%2C%20%5B40.691503%2C%20-73.998767%5D%2C%20%5B34.02465%2C%20-118.42819%5D%2C%20%5B24.714624%2C%20-81.081609%5D%2C%20%5B36.897225%2C%20-76.180594%5D%2C%20%5B41.129282%2C%20-74.167488%5D%2C%20%5B42.993213%2C%20-83.653587%5D%2C%20%5B45.373058%2C%20-122.723646%5D%2C%20%5B30.299874%2C%20-97.716661%5D%2C%20%5B36.582472%2C%20-121.895665%5D%2C%20%5B33.957196%2C%20-118.28107%5D%2C%20%5B38.703516%2C%20-120.859619%5D%2C%20%5B38.46493%2C%20-77.408282%5D%2C%20%5B32.925740000000005%2C%20-96.826319%5D%2C%20%5B44.82571%2C%20-123.01588%5D%2C%20%5B33.46071%2C%20-117.66024%5D%2C%20%5B37.01029000000001%2C%20-119.793877%5D%2C%20%5B33.462392%2C%20-112.156924%5D%2C%20%5B34.5374%2C%20-86.90616%5D%2C%20%5B39.321906%2C%20-120.822617%5D%2C%20%5B37.892867%2C%20-122.125014%5D%2C%20%5B44.289589%2C%20-124.110571%5D%2C%20%5B39.804228%2C%20-121.872403%5D%2C%20%5B43.525523%2C%20-123.310546%5D%2C%20%5B34.68942%2C%20-118.16947%5D%2C%20%5B36.254056%2C%20-119.869498%5D%2C%20%5B33.977218%2C%20-117.371724%5D%2C%20%5B37.69812%2C%20-121.93979%5D%2C%20%5B34.03949%2C%20-118.080812%5D%2C%20%5B35.410665%2C%20-119.01226%5D%2C%20%5B38.61477%2C%20-121.51249%5D%2C%20%5B46.202327%2C%20-96.008695%5D%2C%20%5B44.83351%2C%20-93.2951%5D%2C%20%5B40.447455%2C%20-80.009179%5D%2C%20%5B33.297542%2C%20-80.168936%5D%2C%20%5B34.084672999999995%2C%20-118.300442%5D%2C%20%5B46.007621%2C%20-112.616884%5D%2C%20%5B38.679287%2C%20-121.22573%5D%2C%20%5B34.141145%2C%20-118.273133%5D%2C%20%5B41.787685%2C%20-83.467197%5D%2C%20%5B34.023652%2C%20-117.752895%5D%2C%20%5B34.41017%2C%20-118.77964%5D%2C%20%5B45.50442%2C%20-122.56546000000002%5D%2C%20%5B41.73273%2C%20-72.357302%5D%2C%20%5B33.652368%2C%20-85.41627%5D%2C%20%5B34.186639%2C%20-118.473991%5D%2C%20%5B33.53391%2C%20-86.71990500000004%5D%2C%20%5B28.019745%2C%20-82.622919%5D%2C%20%5B45.752498%2C%20-93.633217%5D%2C%20%5B37.805258%2C%20-122.277978%5D%2C%20%5B40.06695%2C%20-75.66226999999998%5D%2C%20%5B38.56515%2C%20-121.499309%5D%2C%20%5B40.554113%2C%20-123.181983%5D%2C%20%5B35.077807%2C%20-89.911705%5D%2C%20%5B25.9406%2C%20-80.19075%5D%2C%20%5B32.730135%2C%20-117.107983%5D%2C%20%5B40.03314%2C%20-75.76375%5D%2C%20%5B40.01471%2C%20-82.99109%5D%2C%20%5B38.888436%2C%20-76.84546999999998%5D%2C%20%5B39.94241%2C%20-83.49583%5D%2C%20%5B35.038393%2C%20-118.297594%5D%2C%20%5B33.49707%2C%20-112.13669%5D%2C%20%5B28.46095900000001%2C%20-82.542477%5D%2C%20%5B41.23248%2C%20-73.22299%5D%2C%20%5B33.967119%2C%20-118.164796%5D%2C%20%5B25.704114%2C%20-80.334288%5D%2C%20%5B32.892543%2C%20-80.018734%5D%2C%20%5B30.443416%2C%20-91.183738%5D%2C%20%5B43.908693%2C%20-122.754935%5D%2C%20%5B33.404933%2C%20-117.265989%5D%2C%20%5B42.721767%2C%20-73.833105%5D%2C%20%5B45.17814%2C%20-121.676%5D%2C%20%5B37.502298%2C%20-77.427595%5D%2C%20%5B41.42504%2C%20-81.520569%5D%2C%20%5B32.764437%2C%20-96.850543%5D%2C%20%5B37.613255%2C%20-122.071433%5D%2C%20%5B36.82766%2C%20-76.07771%5D%2C%20%5B44.966619%2C%20-93.342964%5D%2C%20%5B40.735757%2C%20-73.858859%5D%2C%20%5B44.416616%2C%20-93.29276%5D%2C%20%5B25.613269%2C%20-80.38170799999997%5D%2C%20%5B35.949675%2C%20-119.089882%5D%2C%20%5B39.052613%2C%20-77.15262%5D%2C%20%5B30.22093%2C%20-81.762282%5D%2C%20%5B40.998999%2C%20-73.654747%5D%2C%20%5B34.065953%2C%20-117.49173%5D%2C%20%5B25.67399%2C%20-80.378311%5D%2C%20%5B26.159464%2C%20-80.203096%5D%2C%20%5B36.847005%2C%20-120.77145%5D%2C%20%5B40.72758%2C%20-74.02091%5D%2C%20%5B47.611604%2C%20-122.188821%5D%2C%20%5B45.685626%2C%20-111.14528%5D%2C%20%5B38.64830300000001%2C%20-121.373659%5D%2C%20%5B29.783790000000003%2C%20-95.45006%5D%2C%20%5B32.86693%2C%20-96.66617%5D%2C%20%5B38.68688%2C%20-90.24708%5D%2C%20%5B43.000181%2C%20-83.677749%5D%2C%20%5B27.93481400000001%2C%20-82.310343%5D%2C%20%5B41.57806%2C%20-87.57117%5D%2C%20%5B44.976995%2C%20-93.400534%5D%2C%20%5B40.718089%2C%20-112.109352%5D%2C%20%5B42.494684%2C%20-82.91929%5D%2C%20%5B38.444654%2C%20-121.404704%5D%2C%20%5B33.688253%2C%20-80.928%5D%2C%20%5B38.446947%2C%20-105.197614%5D%2C%20%5B40.208074%2C%20-78.056441%5D%2C%20%5B41.77888%2C%20-71.42545%5D%2C%20%5B44.912994%2C%20-93.274649%5D%2C%20%5B45.36856%2C%20-93.97949%5D%2C%20%5B33.876332%2C%20-118.116147%5D%2C%20%5B41.55245%2C%20-83.60061999999998%5D%2C%20%5B35.649642%2C%20-77.628762%5D%2C%20%5B43.253291%2C%20-123.359738%5D%2C%20%5B33.782297%2C%20-78.989548%5D%2C%20%5B41.963711%2C%20-92.09849%5D%2C%20%5B37.779767%2C%20-119.075391%5D%2C%20%5B41.216811%2C%20-95.95359%5D%2C%20%5B43.120704%2C%20-75.58363%5D%2C%20%5B37.86948%2C%20-122.30474%5D%2C%20%5B45.392731%2C%20-122.418758%5D%2C%20%5B33.687984%2C%20-117.892133%5D%2C%20%5B37.778581%2C%20-122.169138%5D%2C%20%5B33.57354%2C%20-112.1172%5D%2C%20%5B45.172774%2C%20-93.863212%5D%2C%20%5B39.91732%2C%20-83.012335%5D%2C%20%5B38.560477%2C%20-121.458932%5D%2C%20%5B30.104595%2C%20-83.608649%5D%2C%20%5B33.814904%2C%20-117.511878%5D%2C%20%5B42.68419%2C%20-73.78878%5D%2C%20%5B47.665187%2C%20-122.321769%5D%2C%20%5B25.659734%2C%20-80.416025%5D%2C%20%5B40.03288%2C%20-75.763063%5D%2C%20%5B32.720338%2C%20-96.85919%5D%2C%20%5B44.660064%2C%20-121.132591%5D%2C%20%5B25.96314%2C%20-80.157523%5D%2C%20%5B48.481582%2C%20-109.833294%5D%2C%20%5B42.182253%2C%20-120.56095%5D%2C%20%5B25.889321%2C%20-80.165463%5D%2C%20%5B30.481974%2C%20-97.789564%5D%2C%20%5B38.927339%2C%20-77.429805%5D%2C%20%5B30.455819%2C%20-90.952591%5D%2C%20%5B34.175098%2C%20-118.392868%5D%2C%20%5B41.36494%2C%20-72.07455%5D%2C%20%5B45.6128%2C%20-122.67823%5D%2C%20%5B35.426903%2C%20-118.981338%5D%2C%20%5B33.99759%2C%20-118.17683%5D%2C%20%5B29.630513%2C%20-95.171997%5D%2C%20%5B33.512499%2C%20-111.456407%5D%2C%20%5B34.754397999999995%2C%20-92.378708%5D%2C%20%5B35.571078%2C%20-82.957196%5D%2C%20%5B41.597409000000006%2C%20-90.405888%5D%2C%20%5B37.91713%2C%20-122.31736%5D%2C%20%5B32.76873%2C%20-96.861993%5D%2C%20%5B41.88289%2C%20-87.96162%5D%2C%20%5B30.16633%2C%20-97.860275%5D%2C%20%5B35.20293%2C%20-80.73550999999998%5D%2C%20%5B41.57807%2C%20-87.6535%5D%2C%20%5B30.29099%2C%20-81.52195%5D%2C%20%5B38.98983%2C%20-77.15720999999998%5D%2C%20%5B43.054264%2C%20-83.693809%5D%2C%20%5B45.6618%2C%20-110.727458%5D%2C%20%5B36.623329%2C%20-119.68066%5D%2C%20%5B30.168558%2C%20-97.788439%5D%2C%20%5B47.0472%2C%20-122.82139%5D%2C%20%5B25.73315400000001%2C%20-80.330557%5D%2C%20%5B32.85392%2C%20-96.64543%5D%2C%20%5B34.1398%2C%20-118.366246%5D%2C%20%5B35.553513%2C%20-82.866034%5D%2C%20%5B27.87942%2C%20-82.712411%5D%2C%20%5B36.01959799999999%2C%20-95.886611%5D%2C%20%5B38.336742%2C%20-75.084822%5D%2C%20%5B40.846644%2C%20-76.802931%5D%2C%20%5B33.496233000000004%2C%20-112.043923%5D%2C%20%5B28.509574%2C%20-81.420612%5D%2C%20%5B37.390098%2C%20-121.991977%5D%2C%20%5B33.773346000000004%2C%20-84.372057%5D%2C%20%5B40.63391%2C%20-111.89364%5D%2C%20%5B26.71511%2C%20-81.814993%5D%2C%20%5B32.70923%2C%20-117.14773999999998%5D%2C%20%5B46.955126%2C%20-112.329679%5D%2C%20%5B34.030590999999994%2C%20-117.633308%5D%2C%20%5B34.074236%2C%20-117.752226%5D%2C%20%5B35.383246%2C%20-119.074105%5D%2C%20%5B33.462540000000004%2C%20-112.47129%5D%2C%20%5B45.01520900000001%2C%20-94.368231%5D%2C%20%5B32.72432%2C%20-96.76198%5D%2C%20%5B33.77553%2C%20-117.84732%5D%2C%20%5B40.65745%2C%20-111.90158%5D%2C%20%5B36.044071%2C%20-86.65701999999996%5D%2C%20%5B38.55817%2C%20-121.38584%5D%2C%20%5B38.538259%2C%20-121.473646%5D%2C%20%5B38.484964%2C%20-121.420373%5D%2C%20%5B44.09151%2C%20-121.30494%5D%2C%20%5B34.156890000000004%2C%20-118.37925%5D%2C%20%5B34.02459%2C%20-117.7403%5D%2C%20%5B41.86101%2C%20-87.95383000000002%5D%2C%20%5B32.275578%2C%20-110.97808%5D%2C%20%5B32.757133%2C%20-117.22317%5D%2C%20%5B33.677596%2C%20-117.324231%5D%2C%20%5B42.362087%2C%20-71.024953%5D%2C%20%5B34.035719%2C%20-118.031433%5D%2C%20%5B30.457908000000003%2C%20-91.169594%5D%2C%20%5B34.016289%2C%20-118.158533%5D%2C%20%5B36.136947%2C%20-86.775614%5D%2C%20%5B32.235895%2C%20-110.980662%5D%2C%20%5B25.761074%2C%20-80.395566%5D%2C%20%5B32.795262%2C%20-96.775198%5D%2C%20%5B38.29450900000001%2C%20-77.480875%5D%2C%20%5B38.78708%2C%20-90.53555%5D%2C%20%5B32.2507%2C%20-110.82378%5D%2C%20%5B34.664753999999995%2C%20-82.317126%5D%2C%20%5B40.7248%2C%20-73.68489%5D%2C%20%5B42.196458%2C%20-121.698914%5D%2C%20%5B29.736271%2C%20-95.605318%5D%2C%20%5B39.82698%2C%20-112.14002%5D%2C%20%5B36.082584%2C%20-86.727222%5D%2C%20%5B32.282778%2C%20-110.978109%5D%2C%20%5B37.640351%2C%20-113.093465%5D%2C%20%5B38.18257%2C%20-111.34952%5D%2C%20%5B32.720420000000004%2C%20-96.8744%5D%2C%20%5B26.26415900000001%2C%20-80.130169%5D%2C%20%5B28.342658%2C%20-81.672662%5D%2C%20%5B29.97598%2C%20-90.07821%5D%2C%20%5B40.99985%2C%20-76.74835300000002%5D%2C%20%5B34.407561%2C%20-119.540743%5D%2C%20%5B33.933244%2C%20-117.556227%5D%2C%20%5B34.072562%2C%20-118.05244%5D%2C%20%5B33.726879%2C%20-84.502748%5D%2C%20%5B32.754020000000004%2C%20-80.82552%5D%2C%20%5B34.11753%2C%20-117.85069%5D%2C%20%5B35.317611%2C%20-119.038864%5D%2C%20%5B35.074125%2C%20-85.252801%5D%2C%20%5B41.84622%2C%20-87.63844%5D%2C%20%5B34.210583%2C%20-82.14572700000002%5D%2C%20%5B34.552457000000004%2C%20-118.668886%5D%2C%20%5B36.227374%2C%20-119.336047%5D%2C%20%5B39.852182%2C%20-85.271134%5D%2C%20%5B46.885925%2C%20-112.10624%5D%2C%20%5B28.111573%2C%20-82.502579%5D%2C%20%5B27.92362%2C%20-82.33267%5D%2C%20%5B43.41477%2C%20-87.86440999999998%5D%2C%20%5B43.997778%2C%20-124.101471%5D%2C%20%5B40.107051%2C%20-74.782434%5D%2C%20%5B35.150982%2C%20-118.604482%5D%2C%20%5B30.188385%2C%20-82.577366%5D%2C%20%5B38.390672%2C%20-122.723236%5D%2C%20%5B47.627695%2C%20-122.188857%5D%2C%20%5B40.541666%2C%20-74.290257%5D%2C%20%5B28.466733%2C%20-81.276549%5D%2C%20%5B42.509173%2C%20-83.758326%5D%2C%20%5B34.888232%2C%20-92.382477%5D%2C%20%5B35.03348%2C%20-89.6404%5D%2C%20%5B47.136935%2C%20-122.525717%5D%2C%20%5B38.745906%2C%20-90.337215%5D%2C%20%5B39.76401%2C%20-105.5991%5D%2C%20%5B38.91867%2C%20-76.947973%5D%2C%20%5B31.663188%2C%20-106.29265%5D%2C%20%5B34.17666%2C%20-118.30776000000002%5D%2C%20%5B34.933428%2C%20-81.888633%5D%2C%20%5B25.80591%2C%20-80.32101%5D%2C%20%5B30.276446000000004%2C%20-81.52136999999998%5D%2C%20%5B38.560722%2C%20-121.480876%5D%2C%20%5B41.49673%2C%20-77.1417%5D%2C%20%5B38.20200300000001%2C%20-77.499066%5D%2C%20%5B32.127033000000004%2C%20-110.934742%5D%2C%20%5B45.29026500000001%2C%20-108.890977%5D%2C%20%5B38.13991%2C%20-84.5296%5D%2C%20%5B39.24605%2C%20-94.739688%5D%2C%20%5B35.690106%2C%20-119.230016%5D%2C%20%5B30.24974000000001%2C%20-93.01063%5D%2C%20%5B28.054622%2C%20-82.45345400000002%5D%2C%20%5B25.796823%2C%20-80.32386%5D%2C%20%5B33.74113%2C%20-111.9781%5D%2C%20%5B39.199252%2C%20-120.814024%5D%2C%20%5B33.87587%2C%20-118.23629%5D%2C%20%5B38.619829%2C%20-120.219107%5D%2C%20%5B25.705933%2C%20-80.285414%5D%2C%20%5B25.827108%2C%20-80.313847%5D%2C%20%5B45.13389%2C%20-93.2355%5D%2C%20%5B41.82937%2C%20-71.418182%5D%2C%20%5B44.796205%2C%20-123.033303%5D%2C%20%5B40.001646%2C%20-75.225584%5D%2C%20%5B35.953833%2C%20-78.567206%5D%2C%20%5B37.822319%2C%20-122.322454%5D%2C%20%5B37.776155%2C%20-77.462117%5D%2C%20%5B42.37685%2C%20-83.03948000000003%5D%2C%20%5B25.747361%2C%20-80.348587%5D%2C%20%5B37.552072%2C%20-77.47760500000003%5D%2C%20%5B33.841463%2C%20-118.265343%5D%2C%20%5B36.13201%2C%20-95.94787%5D%2C%20%5B33.60957%2C%20-83.88401%5D%2C%20%5B26.7114%2C%20-81.809016%5D%2C%20%5B40.117141%2C%20-75.350099%5D%2C%20%5B40.198065%2C%20-75.536378%5D%2C%20%5B38.920767%2C%20-76.933252%5D%2C%20%5B48.47045%2C%20-122.34211%5D%2C%20%5B32.939855%2C%20-83.773114%5D%2C%20%5B35.021623%2C%20-120.488393%5D%2C%20%5B39.27956500000001%2C%20-76.727389%5D%2C%20%5B25.700661%2C%20-80.380507%5D%2C%20%5B28.14552%2C%20-81.45895300000002%5D%2C%20%5B37.238208%2C%20-121.76206100000002%5D%2C%20%5B47.59081%2C%20-122.1811%5D%2C%20%5B34.08874%2C%20-117.99432%5D%2C%20%5B44.90274%2C%20-94.21273%5D%2C%20%5B26.706298%2C%20-81.84206%5D%2C%20%5B39.135886%2C%20-77.164996%5D%2C%20%5B29.689324%2C%20-95.517706%5D%2C%20%5B39.978947%2C%20-74.89426999999998%5D%2C%20%5B30.400765000000003%2C%20-91.175205%5D%2C%20%5B25.813009%2C%20-80.13588%5D%2C%20%5B29.680292%2C%20-95.521711%5D%2C%20%5B28.673785%2C%20-81.468053%5D%2C%20%5B34.615368%2C%20-86.970586%5D%2C%20%5B38.406075%2C%20-121.977019%5D%2C%20%5B33.42513%2C%20-111.83996%5D%2C%20%5B47.6033%2C%20-122.32647%5D%2C%20%5B38.536517%2C%20-77.353537%5D%2C%20%5B42.30869000000001%2C%20-87.8768%5D%2C%20%5B41.62709%2C%20-72.19884%5D%2C%20%5B32.489082%2C%20-93.756744%5D%2C%20%5B29.440486%2C%20-98.485627%5D%2C%20%5B30.27219%2C%20-82.75758%5D%2C%20%5B34.122983000000005%2C%20-118.479291%5D%2C%20%5B35.236217%2C%20-111.823217%5D%2C%20%5B39.347767%2C%20-77.09410600000002%5D%2C%20%5B33.750278%2C%20-80.94357600000002%5D%2C%20%5B32.984315%2C%20-96.932405%5D%2C%20%5B28.80774000000001%2C%20-81.56822%5D%2C%20%5B33.966945%2C%20-118.082168%5D%2C%20%5B34.01583%2C%20-118.054992%5D%2C%20%5B37.317652%2C%20-120.505028%5D%2C%20%5B39.27484000000001%2C%20-84.68364%5D%2C%20%5B30.357472%2C%20-97.745743%5D%2C%20%5B33.940855%2C%20-118.096257%5D%2C%20%5B36.26109%2C%20-86.712603%5D%2C%20%5B35.1121%2C%20-90.028849%5D%2C%20%5B38.524911%2C%20-121.460026%5D%2C%20%5B28.449055%2C%20-81.470923%5D%2C%20%5B33.871576%2C%20-118.194232%5D%2C%20%5B34.076344%2C%20-118.21939%5D%2C%20%5B42.660496%2C%20-112.193503%5D%2C%20%5B38.93722%2C%20-94.51374%5D%2C%20%5B40.577774%2C%20-111.899987%5D%2C%20%5B34.864971000000004%2C%20-82.664765%5D%2C%20%5B34.19701%2C%20-79.710895%5D%2C%20%5B39.26136%2C%20-120.071744%5D%2C%20%5B35.148377%2C%20-120.647071%5D%2C%20%5B34.063158%2C%20-117.396402%5D%2C%20%5B33.872239%2C%20-86.78273%5D%2C%20%5B30.314683%2C%20-97.693772%5D%2C%20%5B33.495384%2C%20-80.84783%5D%2C%20%5B34.16796%2C%20-118.58375%5D%2C%20%5B38.926931%2C%20-94.704755%5D%2C%20%5B28.357064%2C%20-80.70025%5D%2C%20%5B41.57114%2C%20-87.43828%5D%2C%20%5B27.400749%2C%20-80.396951%5D%2C%20%5B28.372557%2C%20-81.503553%5D%2C%20%5B29.49512600000001%2C%20-98.400989%5D%2C%20%5B40.49763%2C%20-74.2977%5D%2C%20%5B33.931135999999995%2C%20-118.029396%5D%2C%20%5B42.62189%2C%20-71.17685%5D%2C%20%5B33.916331%2C%20-118.370973%5D%2C%20%5B37.92049%2C%20-104.82418%5D%2C%20%5B35.26855%2C%20-80.84541%5D%2C%20%5B34.087195%2C%20-117.664149%5D%2C%20%5B35.836597%2C%20-78.665531%5D%2C%20%5B35.20691%2C%20-80.79635999999998%5D%2C%20%5B33.87659%2C%20-118.17196%5D%2C%20%5B41.88615%2C%20-87.64631%5D%2C%20%5B36.801494%2C%20-121.66586399999998%5D%2C%20%5B41.499033%2C%20-95.490317%5D%2C%20%5B33.858557%2C%20-117.305084%5D%2C%20%5B27.449447%2C%20-82.5305%5D%2C%20%5B34.424893%2C%20-84.36615%5D%2C%20%5B25.890426%2C%20-80.163511%5D%2C%20%5B41.068149%2C%20-73.495498%5D%2C%20%5B25.62699%2C%20-80.38799200000003%5D%2C%20%5B33.414848%2C%20-111.908401%5D%2C%20%5B34.752357%2C%20-120.28594%5D%2C%20%5B29.204623%2C%20-81.87552099999998%5D%2C%20%5B34.064138%2C%20-118.459213%5D%2C%20%5B30.599072%2C%20-83.546612%5D%2C%20%5B37.239064%2C%20-93.230691%5D%2C%20%5B41.690495%2C%20-70.21146999999999%5D%2C%20%5B29.737667%2C%20-95.410681%5D%2C%20%5B33.474940000000004%2C%20-112.11297%5D%2C%20%5B27.98148%2C%20-82.310161%5D%2C%20%5B30.38499%2C%20-91.029298%5D%2C%20%5B33.13169%2C%20-117.32764%5D%2C%20%5B45.253074%2C%20-123.03410900000002%5D%2C%20%5B33.773779%2C%20-117.99384%5D%2C%20%5B41.79115%2C%20-87.63089000000002%5D%2C%20%5B41.05068%2C%20-83.99602%5D%2C%20%5B39.29079%2C%20-121.835985%5D%2C%20%5B41.320157%2C%20-79.130894%5D%2C%20%5B43.669112%2C%20-116.354257%5D%2C%20%5B34.919543%2C%20-77.622043%5D%2C%20%5B25.849471%2C%20-80.250037%5D%2C%20%5B28.451034000000003%2C%20-81.35744%5D%2C%20%5B40.772895%2C%20-74.033101%5D%2C%20%5B36.005342%2C%20-95.910454%5D%2C%20%5B37.762362%2C%20-75.667925%5D%2C%20%5B25.729421%2C%20-80.31798%5D%2C%20%5B25.92733%2C%20-80.217706%5D%2C%20%5B37.53977800000001%2C%20-77.432037%5D%2C%20%5B36.777538%2C%20-76.248389%5D%2C%20%5B41.147843%2C%20-112.02515%5D%2C%20%5B38.937488%2C%20-110.471853%5D%2C%20%5B37.60625%2C%20-122.38586%5D%2C%20%5B43.72119%2C%20-116.70389%5D%2C%20%5B25.715677%2C%20-80.362995%5D%2C%20%5B41.930376%2C%20-72.60723399999998%5D%2C%20%5B37.661322%2C%20-121.031237%5D%2C%20%5B42.405091%2C%20-83.122783%5D%2C%20%5B38.90246%2C%20-76.94381%5D%2C%20%5B44.333031%2C%20-120.896724%5D%2C%20%5B25.960184%2C%20-80.294731%5D%2C%20%5B40.89397%2C%20-111.87936%5D%2C%20%5B41.5781%2C%20-87.64711%5D%2C%20%5B28.615119%2C%20-81.47613100000002%5D%2C%20%5B45.335538%2C%20-122.76956%5D%2C%20%5B29.505879%2C%20-82.298618%5D%2C%20%5B37.614593%2C%20-122.38541399999998%5D%2C%20%5B39.365422%2C%20-77.165772%5D%2C%20%5B44.62879%2C%20-123.06187%5D%2C%20%5B46.804617%2C%20-114.098117%5D%2C%20%5B40.84297%2C%20-73.83761%5D%2C%20%5B40.15559%2C%20-75.8717%5D%2C%20%5B33.796012%2C%20-118.125237%5D%2C%20%5B41.70264%2C%20-73.05463%5D%2C%20%5B34.757408%2C%20-120.381322%5D%2C%20%5B38.079228%2C%20-122.545176%5D%2C%20%5B38.32487%2C%20-119.75217%5D%2C%20%5B34.14054%2C%20-118.2279%5D%2C%20%5B47.303082%2C%20-122.240343%5D%2C%20%5B35.182466%2C%20-80.752028%5D%2C%20%5B33.446366999999995%2C%20-86.73664000000002%5D%2C%20%5B28.404169%2C%20-82.19492199999998%5D%2C%20%5B47.745744%2C%20-97.304787%5D%2C%20%5B37.991836%2C%20-103.570162%5D%2C%20%5B28.585425%2C%20-81.184209%5D%2C%20%5B34.002771%2C%20-117.379603%5D%2C%20%5B34.362348%2C%20-117.43306499999998%5D%2C%20%5B34.08228%2C%20-118.29596%5D%2C%20%5B44.60155%2C%20-121.14205%5D%2C%20%5B39.200979%2C%20-94.49255%5D%2C%20%5B42.914118%2C%20-83.77024399999998%5D%2C%20%5B45.36143%2C%20-122.76078%5D%2C%20%5B37.746975%2C%20-122.404577%5D%2C%20%5B25.812581%2C%20-80.216149%5D%2C%20%5B35.247132%2C%20-80.963297%5D%2C%20%5B39.9388%2C%20-76.619213%5D%2C%20%5B40.81622%2C%20-73.79818%5D%2C%20%5B28.492218%2C%20-81.279756%5D%2C%20%5B29.699690000000004%2C%20-95.28239%5D%2C%20%5B41.23555%2C%20-77.045419%5D%2C%20%5B33.44129%2C%20-84.69784%5D%2C%20%5B38.750791%2C%20-122.615895%5D%2C%20%5B47.73407%2C%20-122.326027%5D%2C%20%5B28.596199%2C%20-81.385356%5D%2C%20%5B33.591953000000004%2C%20-84.38531%5D%2C%20%5B41.31983%2C%20-73.979522%5D%2C%20%5B32.661748%2C%20-96.72637%5D%2C%20%5B36.926086%2C%20-121.764269%5D%2C%20%5B47.669691%2C%20-116.750924%5D%2C%20%5B45.697326%2C%20-94.171016%5D%2C%20%5B34.365011%2C%20-118.503466%5D%2C%20%5B40.72636%2C%20-74.54104%5D%2C%20%5B41.02263%2C%20-81.05036%5D%2C%20%5B25.587945%2C%20-80.413292%5D%2C%20%5B38.640342%2C%20-121.481677%5D%2C%20%5B30.479958%2C%20-91.075323%5D%2C%20%5B28.481804%2C%20-81.458702%5D%2C%20%5B32.748884999999994%2C%20-96.682804%5D%2C%20%5B38.687998%2C%20-76.872366%5D%2C%20%5B40.69582%2C%20-111.88828%5D%2C%20%5B47.47456500000001%2C%20-115.905295%5D%2C%20%5B34.765938%2C%20-82.482033%5D%2C%20%5B32.924667%2C%20-96.772752%5D%2C%20%5B32.887905%2C%20-96.705061%5D%2C%20%5B39.155992%2C%20-122.995537%5D%2C%20%5B42.38688%2C%20-122.38477%5D%2C%20%5B32.86156%2C%20-96.65769%5D%2C%20%5B27.817136%2C%20-82.671374%5D%2C%20%5B28.198638%2C%20-81.43983100000001%5D%2C%20%5B41.264127%2C%20-73.684201%5D%2C%20%5B33.8819%2C%20-117.58375%5D%2C%20%5B25.889492%2C%20-80.162572%5D%2C%20%5B47.516652%2C%20-92.560619%5D%2C%20%5B33.94195%2C%20-117.55541%5D%2C%20%5B29.812643%2C%20-95.545131%5D%2C%20%5B45.529685%2C%20-122.665323%5D%2C%20%5B32.947837%2C%20-80.156329%5D%2C%20%5B44.2902%2C%20-123.06079%5D%2C%20%5B42.91008400000001%2C%20-83.725735%5D%2C%20%5B45.150729%2C%20-122.701932%5D%2C%20%5B33.93115%2C%20-118.39623%5D%2C%20%5B40.74897%2C%20-73.890883%5D%2C%20%5B30.28828%2C%20-81.99049000000002%5D%2C%20%5B38.683074%2C%20-121.429138%5D%2C%20%5B26.685735%2C%20-81.795598%5D%2C%20%5B44.97033%2C%20-93.33141%5D%2C%20%5B45.089253%2C%20-95.095049%5D%2C%20%5B36.401095%2C%20-119.73301399999998%5D%2C%20%5B41.1194%2C%20-80.5691%5D%2C%20%5B34.069835%2C%20-117.863875%5D%2C%20%5B30.430015%2C%20-97.761315%5D%2C%20%5B35.837973%2C%20-78.673812%5D%2C%20%5B40.681044%2C%20-73.80519%5D%2C%20%5B39.312096%2C%20-119.824608%5D%2C%20%5B40.183913%2C%20-75.445927%5D%2C%20%5B26.69843%2C%20-80.070992%5D%2C%20%5B34.026471%2C%20-118.208682%5D%2C%20%5B28.522539%2C%20-81.314524%5D%2C%20%5B39.580231%2C%20-74.457103%5D%2C%20%5B31.364943%2C%20-89.353882%5D%2C%20%5B25.939774%2C%20-80.27740899999998%5D%2C%20%5B38.630965%2C%20-90.254091%5D%2C%20%5B34.128947%2C%20-117.938283%5D%2C%20%5B39.74907%2C%20-84.20094%5D%2C%20%5B25.7866%2C%20-80.21251%5D%2C%20%5B33.021148%2C%20-117.273316%5D%2C%20%5B32.91695%2C%20-97.01189%5D%2C%20%5B37.260335%2C%20-121.799057%5D%2C%20%5B32.938018%2C%20-117.241496%5D%2C%20%5B25.682681%2C%20-80.416411%5D%2C%20%5B33.85599000000001%2C%20-78.65529599999998%5D%2C%20%5B33.922208000000005%2C%20-117.428773%5D%2C%20%5B32.906509%2C%20-96.89966%5D%2C%20%5B40.815568%2C%20-74.444761%5D%2C%20%5B35.233466%2C%20-119.014125%5D%2C%20%5B40.776615%2C%20-74.20170999999998%5D%2C%20%5B33.813428%2C%20-118.167665%5D%2C%20%5B32.719309%2C%20-117.081927%5D%2C%20%5B28.18389%2C%20-81.73891400000002%5D%2C%20%5B38.85942%2C%20-91.30762%5D%2C%20%5B37.94095%2C%20-122.05988%5D%2C%20%5B39.52023%2C%20-107.79051%5D%2C%20%5B47.236822%2C%20-122.422488%5D%2C%20%5B37.29734000000001%2C%20-121.94006%5D%2C%20%5B33.64477%2C%20-117.73506%5D%2C%20%5B33.656759%2C%20-117.744526%5D%2C%20%5B38.294977%2C%20-77.481443%5D%2C%20%5B35.878347%2C%20-78.64570400000002%5D%2C%20%5B41.4248%2C%20-81.56483%5D%2C%20%5B28.562673%2C%20-81.301563%5D%2C%20%5B35.79445300000001%2C%20-78.53746600000002%5D%2C%20%5B41.856463%2C%20-87.930143%5D%2C%20%5B27.121993%2C%20-80.27359100000002%5D%2C%20%5B38.684%2C%20-121.46753%5D%2C%20%5B45.572738%2C%20-93.283934%5D%2C%20%5B38.650199%2C%20-84.58775%5D%2C%20%5B34.020183%2C%20-118.240568%5D%2C%20%5B32.713153000000005%2C%20-117.066673%5D%2C%20%5B43.364907%2C%20-123.329053%5D%2C%20%5B38.253523%2C%20-122.569204%5D%2C%20%5B26.330523%2C%20-81.80765799999998%5D%2C%20%5B41.101881%2C%20-73.434665%5D%2C%20%5B32.92455%2C%20-96.78246%5D%2C%20%5B40.72576%2C%20-112.00129%5D%2C%20%5B38.892606%2C%20-105.158526%5D%2C%20%5B33.98513%2C%20-117.344908%5D%2C%20%5B33.846549%2C%20-117.862144%5D%2C%20%5B37.514851%2C%20-77.79478399999998%5D%2C%20%5B44.85505%2C%20-93.39442%5D%2C%20%5B33.925239000000005%2C%20-117.880042%5D%2C%20%5B45.505588%2C%20-122.759601%5D%2C%20%5B37.95246%2C%20-121.277123%5D%2C%20%5B41.195436%2C%20-73.281501%5D%2C%20%5B28.492772%2C%20-81.39675600000002%5D%2C%20%5B40.824945%2C%20-111.948485%5D%2C%20%5B33.694652000000005%2C%20-117.091621%5D%2C%20%5B27.748331%2C%20-82.680674%5D%2C%20%5B34.030509%2C%20-118.438398%5D%2C%20%5B41.819%2C%20-87.73767%5D%2C%20%5B38.164703%2C%20-121.148225%5D%2C%20%5B38.940171%2C%20-94.578756%5D%2C%20%5B37.25874%2C%20-118.361225%5D%2C%20%5B33.87445%2C%20-118.19519%5D%2C%20%5B25.934112%2C%20-80.121666%5D%2C%20%5B37.796686%2C%20-122.423691%5D%2C%20%5B47.369399%2C%20-122.29337%5D%2C%20%5B40.046714%2C%20-74.903435%5D%2C%20%5B42.701041%2C%20-73.702374%5D%2C%20%5B37.890102%2C%20-121.515086%5D%2C%20%5B41.63663%2C%20-83.49133%5D%2C%20%5B33.879207%2C%20-118.285192%5D%2C%20%5B36.692393%2C%20-119.754644%5D%2C%20%5B34.072817%2C%20-117.775346%5D%2C%20%5B39.725779%2C%20-105.056666%5D%2C%20%5B38.813364%2C%20-77.343622%5D%2C%20%5B34.766452%2C%20-120.424082%5D%2C%20%5B40.83042%2C%20-73.93220500000002%5D%2C%20%5B37.88781%2C%20-122.30928%5D%2C%20%5B35.765343%2C%20-78.739166%5D%2C%20%5B42.700038%2C%20-73.84458000000002%5D%2C%20%5B42.48435%2C%20-86.22201%5D%2C%20%5B34.293426000000004%2C%20-118.413015%5D%2C%20%5B37.778338%2C%20-122.40081200000002%5D%2C%20%5B25.843423%2C%20-80.308196%5D%2C%20%5B30.405819%2C%20-87.274345%5D%2C%20%5B34.328727%2C%20-118.903318%5D%2C%20%5B37.60039%2C%20-122.06201%5D%2C%20%5B30.71456400000001%2C%20-86.691877%5D%2C%20%5B34.741504%2C%20-92.391219%5D%2C%20%5B38.88062%2C%20-77.22765%5D%2C%20%5B29.959913%2C%20-90.076797%5D%2C%20%5B32.803061%2C%20-117.151433%5D%2C%20%5B30.423449%2C%20-91.144627%5D%2C%20%5B43.665401%2C%20-93.328801%5D%2C%20%5B25.85834%2C%20-80.32283000000002%5D%2C%20%5B42.912737%2C%20-85.639189%5D%2C%20%5B34.679004%2C%20-118.452099%5D%2C%20%5B34.033188%2C%20-84.561456%5D%2C%20%5B26.18858%2C%20-80.21365%5D%2C%20%5B39.81491%2C%20-75.066131%5D%2C%20%5B37.420897%2C%20-77.703497%5D%2C%20%5B29.736733%2C%20-95.500827%5D%2C%20%5B36.151409%2C%20-86.751244%5D%2C%20%5B37.341379%2C%20-119.689186%5D%2C%20%5B41.056243%2C%20-111.531876%5D%2C%20%5B34.489002%2C%20-92.208418%5D%2C%20%5B32.163272%2C%20-110.964573%5D%2C%20%5B36.730943%2C%20-80.759833%5D%2C%20%5B33.95278%2C%20-118.043289%5D%2C%20%5B39.89536%2C%20-83.0353%5D%2C%20%5B47.61526%2C%20-122.34971000000002%5D%2C%20%5B44.89557%2C%20-93.24705%5D%2C%20%5B45.41685%2C%20-122.74386%5D%2C%20%5B34.170535%2C%20-118.50109%5D%2C%20%5B33.772031%2C%20-117.909179%5D%2C%20%5B39.01553%2C%20-76.488543%5D%2C%20%5B27.293304%2C%20-80.369647%5D%2C%20%5B25.689146%2C%20-80.38287199999998%5D%2C%20%5B35.34654000000001%2C%20-80.88542%5D%2C%20%5B33.996449%2C%20-117.92663799999998%5D%2C%20%5B44.633038%2C%20-123.078359%5D%2C%20%5B33.941031%2C%20-118.096617%5D%2C%20%5B25.796686%2C%20-80.205574%5D%2C%20%5B38.05934%2C%20-78.43226700000002%5D%2C%20%5B44.09841%2C%20-93.59723%5D%2C%20%5B38.65135%2C%20-77.302658%5D%2C%20%5B38.56212%2C%20-121.48688%5D%2C%20%5B38.87092%2C%20-77.167763%5D%2C%20%5B25.499669%2C%20-80.405301%5D%2C%20%5B33.69513%2C%20-84.50005999999998%5D%2C%20%5B38.495482%2C%20-77.38379599999998%5D%2C%20%5B39.602214%2C%20-104.888992%5D%2C%20%5B33.79837%2C%20-84.487996%5D%2C%20%5B39.018448%2C%20-77.146114%5D%2C%20%5B41.75671%2C%20-88.0356%5D%2C%20%5B38.68589%2C%20-121.33342%5D%2C%20%5B25.77184%2C%20-80.38561999999997%5D%2C%20%5B38.629995%2C%20-121.38298%5D%2C%20%5B33.64903%2C%20-112.00062%5D%2C%20%5B32.75225%2C%20-117.156518%5D%2C%20%5B37.227755%2C%20-120.372535%5D%2C%20%5B37.558997%2C%20-77.420146%5D%2C%20%5B42.98944%2C%20-85.67721999999998%5D%2C%20%5B39.612418%2C%20-77.782484%5D%2C%20%5B30.746601%2C%20-85.54496800000003%5D%2C%20%5B38.93575%2C%20-94.612187%5D%2C%20%5B35.262892%2C%20-118.914308%5D%2C%20%5B35.049949%2C%20-89.809362%5D%2C%20%5B35.192683%2C%20-114.067639%5D%2C%20%5B37.390347%2C%20-76.768201%5D%2C%20%5B37.861176%2C%20-122.032978%5D%2C%20%5B36.841491%2C%20-77.878656%5D%2C%20%5B29.97532%2C%20-90.17461%5D%2C%20%5B40.7411%2C%20-112.626991%5D%2C%20%5B30.443626%2C%20-91.028512%5D%2C%20%5B33.785274%2C%20-118.092597%5D%2C%20%5B47.46966%2C%20-122.217847%5D%2C%20%5B33.650626%2C%20-78.982096%5D%2C%20%5B34.030063%2C%20-117.712061%5D%2C%20%5B36.728056%2C%20-121.658316%5D%2C%20%5B40.524698%2C%20-80.070295%5D%2C%20%5B35.027557%2C%20-81.871737%5D%2C%20%5B40.075689%2C%20-75.418471%5D%2C%20%5B39.719403%2C%20-75.67434200000002%5D%2C%20%5B25.748334%2C%20-80.28935899999998%5D%2C%20%5B32.2962%2C%20-110.97112%5D%2C%20%5B34.253128000000004%2C%20-118.431061%5D%2C%20%5B43.99886%2C%20-123.011759%5D%2C%20%5B37.213889%2C%20-119.708445%5D%2C%20%5B38.646514%2C%20-121.068296%5D%2C%20%5B43.142227%2C%20-77.64697199999998%5D%2C%20%5B41.649084%2C%20-87.723629%5D%2C%20%5B35.181408000000005%2C%20-80.891864%5D%2C%20%5B33.962557000000004%2C%20-118.118082%5D%2C%20%5B46.735827%2C%20-92.173712%5D%2C%20%5B36.150169%2C%20-86.78642099999998%5D%2C%20%5B30.39448%2C%20-88.899653%5D%2C%20%5B34.030199%2C%20-117.680682%5D%2C%20%5B42.71664000000001%2C%20-87.95379%5D%2C%20%5B41.08782%2C%20-111.97347%5D%2C%20%5B33.078646%2C%20-80.202558%5D%2C%20%5B39.27111%2C%20-76.72191%5D%2C%20%5B38.872193%2C%20-76.981705%5D%2C%20%5B34.791811%2C%20-120.332887%5D%2C%20%5B45.547422%2C%20-122.545247%5D%2C%20%5B39.75421%2C%20-84.22416%5D%2C%20%5B40.285818%2C%20-85.55795%5D%2C%20%5B40.81645%2C%20-74.40137%5D%2C%20%5B43.62749%2C%20-94.99264%5D%2C%20%5B36.057269%2C%20-86.676755%5D%2C%20%5B32.315835%2C%20-95.276921%5D%2C%20%5B27.697573%2C%20-80.89908199999998%5D%2C%20%5B44.481976%2C%20-119.562404%5D%2C%20%5B33.86079%2C%20-118.03902%5D%2C%20%5B44.416919%2C%20-121.700159%5D%2C%20%5B38.162115%2C%20-79.013382%5D%2C%20%5B34.024708000000004%2C%20-118.070262%5D%2C%20%5B37.690521%2C%20-122.078305%5D%2C%20%5B29.597490000000004%2C%20-98.56863%5D%2C%20%5B45.35759%2C%20-122.3589%5D%2C%20%5B28.472578%2C%20-81.39663900000002%5D%2C%20%5B40.39297%2C%20-79.99736899999998%5D%2C%20%5B43.661924%2C%20-123.34946%5D%2C%20%5B35.277473%2C%20-80.797505%5D%2C%20%5B40.522835%2C%20-111.891287%5D%2C%20%5B37.78667%2C%20-122.3902%5D%2C%20%5B37.78343%2C%20-122.396289%5D%2C%20%5B40.639743%2C%20-111.903635%5D%2C%20%5B37.762651%2C%20-121.439953%5D%2C%20%5B45.788992%2C%20-118.26401%5D%2C%20%5B29.196886%2C%20-81.095242%5D%2C%20%5B44.97108%2C%20-93.44439%5D%2C%20%5B28.566715%2C%20-81.205678%5D%2C%20%5B32.718003%2C%20-96.82812%5D%2C%20%5B33.681020000000004%2C%20-117.85278%5D%2C%20%5B29.703685%2C%20-95.53791%5D%2C%20%5B37.75441%2C%20-120.115419%5D%2C%20%5B33.942636%2C%20-117.279733%5D%2C%20%5B25.81242%2C%20-80.21219%5D%2C%20%5B40.133403%2C%20-75.515986%5D%2C%20%5B29.828121000000003%2C%20-81.37687%5D%2C%20%5B37.940432%2C%20-82.016763%5D%2C%20%5B38.128321%2C%20-78.946685%5D%2C%20%5B35.78895%2C%20-78.74734000000002%5D%2C%20%5B36.141296%2C%20-86.73185699999998%5D%2C%20%5B28.4054%2C%20-80.70228%5D%2C%20%5B33.948892%2C%20-117.553436%5D%2C%20%5B30.515533%2C%20-91.144772%5D%2C%20%5B47.24899%2C%20-123.044308%5D%2C%20%5B25.487734%2C%20-80.542381%5D%2C%20%5B32.279838%2C%20-95.306085%5D%2C%20%5B37.855102%2C%20-122.029614%5D%2C%20%5B32.580482%2C%20-111.329411%5D%2C%20%5B35.025125%2C%20-85.375111%5D%2C%20%5B37.83337%2C%20-122.482769%5D%2C%20%5B34.160063%2C%20-118.46958899999998%5D%2C%20%5B40.7497%2C%20-111.90969%5D%2C%20%5B32.936265%2C%20-80.038962%5D%2C%20%5B41.120429%2C%20-73.323317%5D%2C%20%5B25.939205%2C%20-80.294666%5D%2C%20%5B44.608877%2C%20-94.375959%5D%2C%20%5B38.22308%2C%20-77.506517%5D%2C%20%5B33.172424%2C%20-81.306639%5D%2C%20%5B36.753183%2C%20-119.717684%5D%2C%20%5B26.709462%2C%20-81.538813%5D%2C%20%5B45.50275%2C%20-122.6733%5D%2C%20%5B33.66914000000001%2C%20-112.050466%5D%2C%20%5B44.862076%2C%20-93.267979%5D%2C%20%5B34.025665000000004%2C%20-117.806152%5D%2C%20%5B40.11212%2C%20-83.03905999999998%5D%2C%20%5B34.139775%2C%20-80.91598%5D%2C%20%5B36.73167%2C%20-119.77943%5D%2C%20%5B40.759723%2C%20-73.713099%5D%2C%20%5B35.76025100000001%2C%20-86.86605300000002%5D%2C%20%5B36.632241%2C%20-119.34717%5D%2C%20%5B28.553187%2C%20-81.367283%5D%2C%20%5B42.315913%2C%20-122.855376%5D%2C%20%5B34.2493%2C%20-118.42744%5D%2C%20%5B33.75609%2C%20-84.23243000000002%5D%2C%20%5B32.769441%2C%20-97.212661%5D%2C%20%5B44.789253%2C%20-95.158628%5D%2C%20%5B35.973154%2C%20-83.920537%5D%2C%20%5B25.657368%2C%20-80.41592%5D%2C%20%5B42.784093%2C%20-73.923213%5D%2C%20%5B44.992899%2C%20-93.400158%5D%2C%20%5B28.592741%2C%20-81.55254000000002%5D%2C%20%5B39.361303%2C%20-76.44507%5D%2C%20%5B33.969086%2C%20-81.07793000000002%5D%2C%20%5B25.96309%2C%20-80.15351%5D%2C%20%5B41.88094%2C%20-70.91763%5D%2C%20%5B37.332445%2C%20-121.844787%5D%2C%20%5B38.58191%2C%20-90.35648%5D%2C%20%5B40.27916%2C%20-75.39549%5D%2C%20%5B34.060156%2C%20-117.396425%5D%2C%20%5B44.053039%2C%20-123.245661%5D%2C%20%5B39.704251%2C%20-104.993571%5D%2C%20%5B38.779889%2C%20-77.18061999999998%5D%2C%20%5B33.755193%2C%20-117.851945%5D%2C%20%5B32.890151%2C%20-97.317489%5D%2C%20%5B36.017713%2C%20-95.88661%5D%2C%20%5B38.91019%2C%20-76.84988%5D%2C%20%5B45.270826%2C%20-122.316792%5D%2C%20%5B30.178123%2C%20-81.62332099999998%5D%2C%20%5B29.46332%2C%20-98.475768%5D%2C%20%5B45.374956%2C%20-122.31894%5D%2C%20%5B34.126196%2C%20-117.916106%5D%2C%20%5B28.753033%2C%20-81.266974%5D%2C%20%5B35.26692%2C%20-80.84424%5D%2C%20%5B25.665336%2C%20-80.32404%5D%2C%20%5B39.879784%2C%20-75.545754%5D%2C%20%5B34.012745%2C%20-118.159393%5D%2C%20%5B42.675719%2C%20-88.98348%5D%2C%20%5B34.821093%2C%20-82.46951%5D%2C%20%5B29.997287%2C%20-81.378484%5D%2C%20%5B44.60241%2C%20-121.96258%5D%2C%20%5B41.9321%2C%20-87.6976%5D%2C%20%5B41.043955%2C%20-73.835113%5D%2C%20%5B25.747433%2C%20-80.40379300000002%5D%2C%20%5B44.046996%2C%20-93.249284%5D%2C%20%5B48.532166%2C%20-109.750493%5D%2C%20%5B40.636418%2C%20-111.904921%5D%2C%20%5B40.308321%2C%20-74.66617099999998%5D%2C%20%5B25.78408%2C%20-80.28893000000002%5D%2C%20%5B37.043514%2C%20-122.072818%5D%2C%20%5B32.841642%2C%20-117.120873%5D%2C%20%5B32.677297%2C%20-117.084551%5D%2C%20%5B37.83523%2C%20-122.484538%5D%2C%20%5B39.314843%2C%20-76.45459699999998%5D%2C%20%5B33.229508%2C%20-80.58992099999998%5D%2C%20%5B40.827189%2C%20-73.850824%5D%2C%20%5B43.99255%2C%20-123.00595%5D%2C%20%5B40.90156%2C%20-74.17147%5D%2C%20%5B26.521162%2C%20-80.072467%5D%2C%20%5B43.070876%2C%20-123.602842%5D%2C%20%5B40.82675%2C%20-73.854078%5D%2C%20%5B32.881079%2C%20-96.786811%5D%2C%20%5B45.933483%2C%20-95.579338%5D%2C%20%5B40.64718%2C%20-74.8298%5D%2C%20%5B41.04088%2C%20-73.57815%5D%2C%20%5B36.141296%2C%20-86.73185699999998%5D%2C%20%5B38.87798%2C%20-77.037588%5D%2C%20%5B32.25478%2C%20-81.70535%5D%2C%20%5B25.69407%2C%20-80.301024%5D%2C%20%5B28.341879%2C%20-81.536467%5D%2C%20%5B47.719028%2C%20-122.187509%5D%2C%20%5B40.61279%2C%20-122.36071%5D%2C%20%5B33.960014%2C%20-118.284101%5D%2C%20%5B33.934564%2C%20-118.349327%5D%2C%20%5B28.675604%2C%20-81.467991%5D%2C%20%5B38.891814%2C%20-121.79078%5D%2C%20%5B34.559264%2C%20-82.606926%5D%2C%20%5B33.941238%2C%20-117.270551%5D%2C%20%5B27.338769%2C%20-82.532027%5D%2C%20%5B26.612051%2C%20-81.802815%5D%2C%20%5B30.319506%2C%20-81.69066600000002%5D%2C%20%5B44.643093%2C%20-123.139686%5D%2C%20%5B33.654086%2C%20-117.742417%5D%2C%20%5B41.19456%2C%20-73.68531999999998%5D%2C%20%5B33.147047%2C%20-117.194781%5D%2C%20%5B32.838386%2C%20-117.172674%5D%2C%20%5B36.572835%2C%20-121.913096%5D%2C%20%5B38.555561%2C%20-121.441157%5D%2C%20%5B34.250575%2C%20-82.41468%5D%2C%20%5B45.30924%2C%20-122.5686%5D%2C%20%5B43.56505%2C%20-70.41331%5D%2C%20%5B34.176578000000006%2C%20-118.307953%5D%2C%20%5B39.48835%2C%20-119.78525%5D%2C%20%5B29.73974500000001%2C%20-95.477136%5D%2C%20%5B30.792222%2C%20-85.364847%5D%2C%20%5B33.896795000000004%2C%20-117.484267%5D%2C%20%5B40.233389%2C%20-79.620177%5D%2C%20%5B33.871976000000004%2C%20-117.800184%5D%2C%20%5B41.06189000000001%2C%20-73.50965%5D%2C%20%5B30.459541%2C%20-87.30011999999998%5D%2C%20%5B26.546592%2C%20-81.83937%5D%2C%20%5B26.80188%2C%20-80.13152%5D%2C%20%5B30.273846%2C%20-81.768633%5D%2C%20%5B42.526971%2C%20-83.762394%5D%2C%20%5B38.84456%2C%20-77.08145%5D%2C%20%5B33.944108%2C%20-118.291907%5D%2C%20%5B29.830595%2C%20-81.381536%5D%2C%20%5B35.06528%2C%20-80.844%5D%2C%20%5B45.104502%2C%20-93.460153%5D%2C%20%5B45.44706%2C%20-122.578883%5D%2C%20%5B33.860378000000004%2C%20-78.663101%5D%2C%20%5B35.798494%2C%20-78.561196%5D%2C%20%5B40.846143%2C%20-74.467254%5D%2C%20%5B28.416484000000004%2C%20-81.459574%5D%2C%20%5B35.190006%2C%20-120.56363600000002%5D%2C%20%5B34.03549%2C%20-118.274443%5D%2C%20%5B30.34772%2C%20-97.71237%5D%2C%20%5B43.288224%2C%20-123.355618%5D%2C%20%5B34.44084%2C%20-119.768239%5D%2C%20%5B33.991757%2C%20-117.35478%5D%2C%20%5B25.93577%2C%20-80.21672%5D%2C%20%5B37.86125%2C%20-122.03305%5D%2C%20%5B32.924627%2C%20-96.783112%5D%2C%20%5B41.62578%2C%20-72.68906%5D%2C%20%5B33.83026%2C%20-84.42566%5D%2C%20%5B34.14517%2C%20-118.2178%5D%2C%20%5B39.114561%2C%20-121.634749%5D%2C%20%5B35.271488%2C%20-80.844708%5D%2C%20%5B35.885074%2C%20-118.647696%5D%2C%20%5B25.844196%2C%20-80.2416%5D%2C%20%5B31.916512%2C%20-106.441664%5D%2C%20%5B36.662319%2C%20-120.56794%5D%2C%20%5B33.989391%2C%20-117.905599%5D%2C%20%5B25.702162%2C%20-80.336089%5D%2C%20%5B45.542687%2C%20-122.49575%5D%2C%20%5B35.007259000000005%2C%20-85.282944%5D%2C%20%5B36.174701%2C%20-86.771191%5D%2C%20%5B35.003837%2C%20-85.260147%5D%2C%20%5B39.938338%2C%20-75.091863%5D%2C%20%5B33.528603000000004%2C%20-80.886312%5D%2C%20%5B33.97881%2C%20-118.07791%5D%2C%20%5B37.002779%2C%20-76.319113%5D%2C%20%5B46.194732%2C%20-123.851508%5D%2C%20%5B38.922161%2C%20-75.95683199999998%5D%2C%20%5B44.495337%2C%20-94.368343%5D%2C%20%5B36.955199%2C%20-120.056065%5D%2C%20%5B39.382413%2C%20-76.446057%5D%2C%20%5B29.991733%2C%20-90.086155%5D%2C%20%5B33.8958%2C%20-84.45173%5D%2C%20%5B32.84613%2C%20-117.23598%5D%2C%20%5B38.628457%2C%20-121.382883%5D%2C%20%5B26.641237%2C%20-81.800785%5D%2C%20%5B27.960476%2C%20-82.750275%5D%2C%20%5B25.897275%2C%20-80.243507%5D%2C%20%5B45.662419%2C%20-118.786054%5D%2C%20%5B25.943108%2C%20-80.358005%5D%2C%20%5B36.06095300000001%2C%20-95.853289%5D%2C%20%5B35.042019%2C%20-83.60691800000002%5D%2C%20%5B34.819981%2C%20-118.956795%5D%2C%20%5B25.702455%2C%20-80.332105%5D%2C%20%5B34.170731%2C%20-118.605448%5D%2C%20%5B34.013593%2C%20-117.446132%5D%2C%20%5B40.844859%2C%20-73.923059%5D%2C%20%5B34.562339%2C%20-118.13276%5D%2C%20%5B25.630062%2C%20-80.340625%5D%2C%20%5B35.995665%2C%20-86.691147%5D%2C%20%5B28.510166%2C%20-81.268975%5D%2C%20%5B44.722647%2C%20-94.371462%5D%2C%20%5B45.567721%2C%20-93.212881%5D%2C%20%5B33.574670000000005%2C%20-84.27615%5D%2C%20%5B34.147086%2C%20-118.029821%5D%2C%20%5B33.806159%2C%20-117.234284%5D%2C%20%5B34.155559000000004%2C%20-118.434851%5D%2C%20%5B36.0898%2C%20-95.98476%5D%2C%20%5B47.186311%2C%20-111.810082%5D%2C%20%5B39.807839%2C%20-77.007586%5D%2C%20%5B43.027476%2C%20-88.01323000000002%5D%2C%20%5B34.743928000000004%2C%20-92.297462%5D%2C%20%5B34.224075%2C%20-117.40949%5D%2C%20%5B29.703812%2C%20-95.573408%5D%2C%20%5B30.528585%2C%20-87.313305%5D%2C%20%5B33.446366999999995%2C%20-86.73664000000002%5D%2C%20%5B36.285314%2C%20-86.728291%5D%2C%20%5B42.15858%2C%20-87.87419%5D%2C%20%5B36.75803300000001%2C%20-76.277958%5D%2C%20%5B48.16623%2C%20-114.289538%5D%2C%20%5B34.073615000000004%2C%20-117.545058%5D%2C%20%5B35.092634999999994%2C%20-81.166473%5D%2C%20%5B37.77129%2C%20-122.40853%5D%2C%20%5B41.004316%2C%20-78.11731%5D%2C%20%5B39.34574%2C%20-76.74505%5D%2C%20%5B40.301458%2C%20-78.154003%5D%2C%20%5B33.174809%2C%20-97.092054%5D%2C%20%5B36.884799%2C%20-76.22435899999998%5D%2C%20%5B38.35622%2C%20-77.06746600000002%5D%2C%20%5B38.058092%2C%20-78.93215500000002%5D%2C%20%5B33.95026%2C%20-80.99306999999997%5D%2C%20%5B39.101446%2C%20-77.548874%5D%2C%20%5B30.547973%2C%20-91.030187%5D%2C%20%5B42.393597%2C%20-88.155783%5D%2C%20%5B34.023729%2C%20-117.550459%5D%2C%20%5B30.31465%2C%20-81.77056%5D%2C%20%5B39.592612%2C%20-76.066986%5D%2C%20%5B26.082602%2C%20-80.168809%5D%2C%20%5B25.937759%2C%20-80.188641%5D%2C%20%5B28.554022%2C%20-81.413967%5D%2C%20%5B42.924575%2C%20-85.652689%5D%2C%20%5B33.85974%2C%20-118.29428%5D%2C%20%5B25.866687%2C%20-80.234195%5D%2C%20%5B37.23018%2C%20-113.37314%5D%2C%20%5B34.39538%2C%20-81.388499%5D%2C%20%5B44.452168%2C%20-121.19945%5D%2C%20%5B30.42819%2C%20-91.107392%5D%2C%20%5B37.51032%2C%20-122.34488%5D%2C%20%5B40.67443%2C%20-111.95246000000002%5D%2C%20%5B32.517646%2C%20-93.709496%5D%2C%20%5B34.03167%2C%20-118.42697%5D%2C%20%5B45.53161%2C%20-122.25303999999998%5D%2C%20%5B37.427061%2C%20-77.62552099999998%5D%2C%20%5B27.80675%2C%20-82.63850500000002%5D%2C%20%5B44.978038%2C%20-93.287454%5D%2C%20%5B32.46032%2C%20-93.83108%5D%2C%20%5B33.690271%2C%20-117.333632%5D%2C%20%5B38.873566%2C%20-77.2204%5D%2C%20%5B28.400983%2C%20-81.50308199999998%5D%2C%20%5B37.158057%2C%20-93.228067%5D%2C%20%5B39.97038%2C%20-74.73525%5D%2C%20%5B33.668408%2C%20-117.819203%5D%2C%20%5B44.05604%2C%20-121.23778%5D%2C%20%5B30.572975%2C%20-87.291836%5D%2C%20%5B34.365253%2C%20-117.430788%5D%2C%20%5B34.209213%2C%20-118.227629%5D%2C%20%5B38.648535%2C%20-76.941156%5D%2C%20%5B40.449117%2C%20-122.290052%5D%2C%20%5B29.489654%2C%20-98.574517%5D%2C%20%5B37.25046%2C%20-121.91309%5D%2C%20%5B36.848547%2C%20-77.431042%5D%2C%20%5B45.664383%2C%20-110.687888%5D%2C%20%5B40.16614000000001%2C%20-75.1252%5D%2C%20%5B28.59635%2C%20-81.45141%5D%2C%20%5B34.18424%2C%20-118.91613999999998%5D%2C%20%5B39.131101%2C%20-85.957792%5D%2C%20%5B30.444545%2C%20-91.139416%5D%2C%20%5B34.146858%2C%20-118.370379%5D%2C%20%5B40.34192%2C%20-74.67328%5D%2C%20%5B41.41461%2C%20-81.59828%5D%2C%20%5B34.020221%2C%20-118.18824%5D%2C%20%5B33.838938%2C%20-117.153563%5D%2C%20%5B38.787198%2C%20-77.067546%5D%2C%20%5B35.43335300000001%2C%20-117.671731%5D%2C%20%5B34.7437%2C%20-92.28884%5D%2C%20%5B46.385024%2C%20-94.25738%5D%2C%20%5B42.4312%2C%20-87.951548%5D%2C%20%5B34.037240000000004%2C%20-118.309074%5D%2C%20%5B32.745059999999995%2C%20-117.18824%5D%2C%20%5B37.157963%2C%20-93.29083%5D%2C%20%5B33.975573%2C%20-117.37206299999998%5D%2C%20%5B34.07229%2C%20-117.93104%5D%2C%20%5B38.900125%2C%20-76.94663%5D%2C%20%5B41.245128%2C%20-73.102428%5D%2C%20%5B27.93762700000001%2C%20-82.29650699999998%5D%2C%20%5B32.676749%2C%20-97.127262%5D%2C%20%5B32.070389%2C%20-81.20657%5D%2C%20%5B37.219848%2C%20-113.276372%5D%2C%20%5B36.1409%2C%20-86.70014%5D%2C%20%5B36.0451%2C%20-79.77434000000002%5D%2C%20%5B45.531832%2C%20-122.842638%5D%2C%20%5B42.17583%2C%20-87.98923%5D%2C%20%5B34.12856%2C%20-118.34664%5D%2C%20%5B33.700989%2C%20-84.112201%5D%2C%20%5B36.745035%2C%20-121.739502%5D%2C%20%5B28.44748%2C%20-81.466024%5D%2C%20%5B32.853308%2C%20-117.122491%5D%2C%20%5B42.30881%2C%20-79.634817%5D%2C%20%5B40.366971%2C%20-75.93913%5D%2C%20%5B34.990881%2C%20-81.083934%5D%2C%20%5B41.493076%2C%20-94.639095%5D%2C%20%5B33.926471%2C%20-118.020921%5D%2C%20%5B34.032938%2C%20-118.435743%5D%2C%20%5B44.058647%2C%20-93.281182%5D%2C%20%5B32.72379%2C%20-117.15428%5D%2C%20%5B28.451602%2C%20-81.477678%5D%2C%20%5B38.578201%2C%20-121.308827%5D%2C%20%5B30.423976%2C%20-91.075286%5D%2C%20%5B29.794654%2C%20-90.509352%5D%2C%20%5B35.370956%2C%20-80.730841%5D%2C%20%5B39.018684%2C%20-77.145448%5D%2C%20%5B33.861462%2C%20-118.040146%5D%2C%20%5B38.85910300000001%2C%20-77.06996%5D%2C%20%5B38.55784600000001%2C%20-121.448262%5D%2C%20%5B33.837708%2C%20-117.124012%5D%2C%20%5B42.577054%2C%20-73.47012%5D%2C%20%5B45.411176%2C%20-122.524592%5D%2C%20%5B39.30348%2C%20-76.91366%5D%2C%20%5B33.960809000000005%2C%20-118.369239%5D%2C%20%5B37.46995%2C%20-121.90866%5D%2C%20%5B48.74536%2C%20-122.46578999999998%5D%2C%20%5B25.925989%2C%20-80.158153%5D%2C%20%5B33.092238%2C%20-80.22861800000003%5D%2C%20%5B33.961197%2C%20-79.920192%5D%2C%20%5B34.119914%2C%20-117.868094%5D%2C%20%5B34.063949%2C%20-117.26705%5D%2C%20%5B40.750662%2C%20-111.568318%5D%2C%20%5B41.591481%2C%20-87.22175%5D%2C%20%5B42.519654%2C%20-113.427883%5D%2C%20%5B26.0125%2C%20-80.34309%5D%2C%20%5B36.93308%2C%20-121.388254%5D%2C%20%5B40.64858%2C%20-74.64211999999998%5D%2C%20%5B34.85208%2C%20-82.14827%5D%2C%20%5B34.301301%2C%20-117.459307%5D%2C%20%5B25.85586%2C%20-80.32238000000002%5D%2C%20%5B42.25374%2C%20-88.09405%5D%2C%20%5B25.732173%2C%20-80.33572099999998%5D%2C%20%5B33.00062%2C%20-80.09161999999998%5D%2C%20%5B39.599822%2C%20-77.688907%5D%2C%20%5B33.256505%2C%20-80.47389799999998%5D%2C%20%5B34.068435%2C%20-117.39112%5D%2C%20%5B39.464002%2C%20-121.559377%5D%2C%20%5B38.669376%2C%20-77.25934699999998%5D%2C%20%5B39.825296%2C%20-104.967053%5D%2C%20%5B37.758132%2C%20-81.21249300000002%5D%2C%20%5B41.66267%2C%20-87.59124%5D%2C%20%5B46.765484%2C%20-92.124806%5D%2C%20%5B34.223344%2C%20-118.248819%5D%2C%20%5B38.31653%2C%20-85.84239000000002%5D%2C%20%5B39.22177%2C%20-94.6485%5D%2C%20%5B33.924782%2C%20-118.103999%5D%2C%20%5B29.447017%2C%20-98.479803%5D%2C%20%5B38.301204%2C%20-122.70603%5D%2C%20%5B39.49512%2C%20-111.56353%5D%2C%20%5B39.954188%2C%20-75.141765%5D%2C%20%5B35.87586%2C%20-78.5402%5D%2C%20%5B29.967556%2C%20-90.05663%5D%2C%20%5B34.139439%2C%20-117.250533%5D%2C%20%5B31.32371%2C%20-89.360561%5D%2C%20%5B35.64778300000001%2C%20-120.728694%5D%2C%20%5B33.473528%2C%20-117.675279%5D%2C%20%5B39.82845%2C%20-75.0864%5D%2C%20%5B25.750991%2C%20-80.335847%5D%2C%20%5B34.343964%2C%20-117.396267%5D%2C%20%5B25.940336%2C%20-80.1887%5D%2C%20%5B44.901834%2C%20-93.275054%5D%2C%20%5B30.18192%2C%20-97.77646%5D%2C%20%5B32.907221%2C%20-96.920851%5D%2C%20%5B33.70353%2C%20-117.3535%5D%2C%20%5B38.716183%2C%20-121.371012%5D%2C%20%5B37.715206%2C%20-122.172632%5D%2C%20%5B38.8369%2C%20-77.447058%5D%2C%20%5B40.652042%2C%20-73.906227%5D%2C%20%5B38.963008%2C%20-77.49497099999998%5D%2C%20%5B37.85254000000001%2C%20-122.29986%5D%2C%20%5B40.380377%2C%20-74.30779100000002%5D%2C%20%5B38.524882%2C%20-121.466513%5D%2C%20%5B33.916566%2C%20-118.374358%5D%2C%20%5B28.408928000000003%2C%20-81.412437%5D%2C%20%5B34.099358%2C%20-117.819215%5D%2C%20%5B39.1703%2C%20-94.57677%5D%2C%20%5B37.879022%2C%20-122.53053%5D%2C%20%5B35.8988%2C%20-78.76176%5D%2C%20%5B35.11681%2C%20-80.92856%5D%2C%20%5B39.07415%2C%20-109.23539%5D%2C%20%5B36.064166%2C%20-86.735199%5D%2C%20%5B32.83899%2C%20-97.269836%5D%2C%20%5B41.135312%2C%20-73.452626%5D%2C%20%5B25.672005%2C%20-80.382019%5D%2C%20%5B33.7182%2C%20-84.23985%5D%2C%20%5B40.859302%2C%20-73.915897%5D%2C%20%5B36.94077%2C%20-121.42701%5D%2C%20%5B45.391801%2C%20-122.43164%5D%2C%20%5B27.887801%2C%20-80.505235%5D%2C%20%5B28.356467%2C%20-82.31958%5D%2C%20%5B37.559519%2C%20-122.265947%5D%2C%20%5B48.448516%2C%20-122.341336%5D%2C%20%5B39.264053%2C%20-76.565748%5D%2C%20%5B34.06439%2C%20-117.278659%5D%2C%20%5B28.341385%2C%20-81.482649%5D%2C%20%5B44.88965%2C%20-93.38693%5D%2C%20%5B28.18054%2C%20-81.303089%5D%2C%20%5B36.952632%2C%20-81.05460699999998%5D%2C%20%5B28.38164%2C%20-80.920419%5D%2C%20%5B45.51327%2C%20-122.41387%5D%2C%20%5B34.192106%2C%20-81.34882900000002%5D%2C%20%5B32.66134%2C%20-117.079067%5D%2C%20%5B33.657532%2C%20-117.374644%5D%2C%20%5B28.03639%2C%20-82.503429%5D%2C%20%5B38.2998%2C%20-122.03409%5D%2C%20%5B28.452192%2C%20-81.400388%5D%2C%20%5B37.417557%2C%20-120.513027%5D%2C%20%5B40.658481%2C%20-74.28734%5D%2C%20%5B30.137356%2C%20-81.77369200000003%5D%2C%20%5B35.039372%2C%20-85.131132%5D%2C%20%5B33.63178%2C%20-112.0308%5D%2C%20%5B33.876459000000004%2C%20-118.19019%5D%2C%20%5B37.717298%2C%20-122.17503899999998%5D%2C%20%5B39.6354%2C%20-104.898721%5D%2C%20%5B38.202503%2C%20-120.694996%5D%2C%20%5B40.742151%2C%20-73.82526700000003%5D%2C%20%5B42.27002%2C%20-120.73197%5D%2C%20%5B40.16729%2C%20-74.10045%5D%2C%20%5B40.89834000000001%2C%20-74.13483000000002%5D%2C%20%5B35.985516%2C%20-119.959675%5D%2C%20%5B34.627427000000004%2C%20-117.428622%5D%2C%20%5B29.747741%2C%20-95.368384%5D%2C%20%5B39.585531%2C%20-76.08033%5D%2C%20%5B39.324161%2C%20-121.455462%5D%2C%20%5B28.673087%2C%20-81.47635799999998%5D%2C%20%5B38.871806%2C%20-76.982134%5D%2C%20%5B44.048146%2C%20-123.172941%5D%2C%20%5B33.357753%2C%20-111.467373%5D%2C%20%5B37.47607100000001%2C%20-77.301939%5D%2C%20%5B39.896372%2C%20-77.38258%5D%2C%20%5B42.959008%2C%20-123.32477%5D%2C%20%5B35.713743%2C%20-78.776513%5D%2C%20%5B35.75298%2C%20-78.63155%5D%2C%20%5B32.780359000000004%2C%20-117.083755%5D%2C%20%5B39.491395%2C%20-121.550668%5D%2C%20%5B33.64341%2C%20-112.23551%5D%2C%20%5B35.044652%2C%20-85.29529699999998%5D%2C%20%5B40.109101%2C%20-75.272857%5D%2C%20%5B44.943083%2C%20-93.077062%5D%2C%20%5B35.22287100000001%2C%20-80.863668%5D%2C%20%5B30.049132%2C%20-81.424944%5D%2C%20%5B32.873863%2C%20-96.890353%5D%2C%20%5B43.75491%2C%20-123.10044%5D%2C%20%5B45.153561%2C%20-93.273764%5D%2C%20%5B40.2151%2C%20-76.094044%5D%2C%20%5B40.85306%2C%20-73.96011%5D%2C%20%5B38.851292%2C%20-76.080479%5D%2C%20%5B42.399304%2C%20-73.823368%5D%2C%20%5B34.03568%2C%20-118.09821%5D%2C%20%5B38.414673%2C%20-82.30110400000002%5D%2C%20%5B44.325823%2C%20-93.95565%5D%2C%20%5B25.76658%2C%20-80.32051%5D%2C%20%5B40.24103%2C%20-75.24329300000002%5D%2C%20%5B37.52991%2C%20-77.42967%5D%2C%20%5B34.082463%2C%20-118.598771%5D%2C%20%5B33.941752%2C%20-118.368271%5D%2C%20%5B43.027342%2C%20-123.300751%5D%2C%20%5B25.628764%2C%20-80.346731%5D%2C%20%5B39.765385%2C%20-84.137006%5D%2C%20%5B45.580551%2C%20-118.619636%5D%2C%20%5B34.334822%2C%20-82.685439%5D%2C%20%5B44.966158%2C%20-93.257444%5D%2C%20%5B38.387066%2C%20-122.717838%5D%2C%20%5B34.065309%2C%20-117.306679%5D%2C%20%5B29.647303000000004%2C%20-95.510305%5D%2C%20%5B35.104165%2C%20-106.596256%5D%2C%20%5B33.498419%2C%20-112.942317%5D%2C%20%5B34.082704%2C%20-117.695898%5D%2C%20%5B29.99173900000001%2C%20-90.049488%5D%2C%20%5B34.152617%2C%20-118.113069%5D%2C%20%5B37.382069%2C%20-120.663598%5D%2C%20%5B33.183840000000004%2C%20-117.2323%5D%2C%20%5B38.220449%2C%20-81.44844%5D%2C%20%5B36.77993%2C%20-121.70354%5D%2C%20%5B30.186329%2C%20-81.640963%5D%2C%20%5B34.21876%2C%20-119.06408%5D%2C%20%5B32.76428%2C%20-96.62094%5D%2C%20%5B47.456463%2C%20-122.263466%5D%2C%20%5B25.699599%2C%20-80.382101%5D%2C%20%5B37.59075%2C%20-121.87003%5D%2C%20%5B33.960141%2C%20-118.231589%5D%2C%20%5B37.741723%2C%20-121.574194%5D%2C%20%5B35.39113%2C%20-97.42859%5D%2C%20%5B25.794365%2C%20-80.23709699999998%5D%2C%20%5B34.869586%2C%20-82.230745%5D%2C%20%5B36.694866%2C%20-82.001953%5D%2C%20%5B32.277236%2C%20-90.186763%5D%2C%20%5B37.70104%2C%20-121.812408%5D%2C%20%5B32.427504%2C%20-93.760941%5D%2C%20%5B40.37045300000001%2C%20-76.949754%5D%2C%20%5B39.61166%2C%20-104.89445%5D%2C%20%5B35.851331%2C%20-78.580816%5D%2C%20%5B27.429207%2C%20-82.54196999999998%5D%2C%20%5B30.481978%2C%20-83.946148%5D%2C%20%5B34.180558000000005%2C%20-117.184263%5D%2C%20%5B35.22132%2C%20-80.81853000000002%5D%2C%20%5B25.49934%2C%20-80.44636%5D%2C%20%5B28.69158%2C%20-81.38814%5D%2C%20%5B32.724694%2C%20-96.614686%5D%2C%20%5B39.01536%2C%20-77.12218%5D%2C%20%5B40.816443%2C%20-82.04339399999998%5D%2C%20%5B32.27604%2C%20-90.205618%5D%2C%20%5B34.0463%2C%20-81.11978%5D%2C%20%5B44.6393%2C%20-123.06224%5D%2C%20%5B34.23831%2C%20-118.41536%5D%2C%20%5B38.385534%2C%20-121.37086399999998%5D%2C%20%5B37.588294%2C%20-122.358309%5D%2C%20%5B36.75803%2C%20-76.2775%5D%2C%20%5B35.165118%2C%20-80.881999%5D%2C%20%5B39.016126%2C%20-77.008241%5D%2C%20%5B45.03709%2C%20-93.02393%5D%2C%20%5B35.47044%2C%20-115.4511%5D%2C%20%5B34.06234%2C%20-118.00018%5D%2C%20%5B29.709402%2C%20-95.521407%5D%2C%20%5B29.16847700000001%2C%20-81.642674%5D%2C%20%5B39.176433%2C%20-94.562359%5D%2C%20%5B40.728268%2C%20-74.102513%5D%2C%20%5B39.93548%2C%20-75.08525%5D%2C%20%5B34.162628999999995%2C%20-79.757903%5D%2C%20%5B32.677222%2C%20-97.063676%5D%2C%20%5B34.857254%2C%20-118.166217%5D%2C%20%5B35.025209999999994%2C%20-89.65393%5D%2C%20%5B41.703941%2C%20-122.643152%5D%2C%20%5B33.974742%2C%20-118.241213%5D%2C%20%5B40.76009000000001%2C%20-111.95071000000002%5D%2C%20%5B45.56397%2C%20-122.92584%5D%2C%20%5B40.705107%2C%20-74.14779%5D%2C%20%5B35.047856%2C%20-118.172174%5D%2C%20%5B35.408608%2C%20-119.033032%5D%2C%20%5B27.76756%2C%20-80.551074%5D%2C%20%5B28.602248%2C%20-81.404997%5D%2C%20%5B37.316569%2C%20-122.294651%5D%2C%20%5B34.0762%2C%20-117.62108%5D%2C%20%5B26.391325%2C%20-80.097306%5D%2C%20%5B38.676401%2C%20-121.33583%5D%2C%20%5B35.02049%2C%20-81.89219%5D%2C%20%5B29.410175%2C%20-98.435021%5D%2C%20%5B41.191159000000006%2C%20-111.98069%5D%2C%20%5B34.589391%2C%20-120.408364%5D%2C%20%5B36.141474%2C%20-86.800239%5D%2C%20%5B40.176741%2C%20-75.616328%5D%2C%20%5B39.64995%2C%20-104.91648%5D%2C%20%5B27.74830900000001%2C%20-82.67523299999998%5D%2C%20%5B38.885155%2C%20-77.034276%5D%2C%20%5B42.66572%2C%20-84.27481999999998%5D%2C%20%5B33.48425%2C%20-112.11319%5D%2C%20%5B34.169063%2C%20-118.842106%5D%2C%20%5B33.426499%2C%20-111.939955%5D%2C%20%5B34.008232%2C%20-117.730683%5D%2C%20%5B38.452473%2C%20-122.769581%5D%2C%20%5B27.748331%2C%20-82.680674%5D%2C%20%5B37.70102%2C%20-122.02531%5D%2C%20%5B25.881633%2C%20-80.24296700000002%5D%2C%20%5B30.55698%2C%20-91.093322%5D%2C%20%5B32.902497%2C%20-96.721347%5D%2C%20%5B38.05118%2C%20-122.22947%5D%2C%20%5B41.04101%2C%20-77.26084399999998%5D%2C%20%5B42.199343%2C%20-73.960963%5D%2C%20%5B34.644237%2C%20-85.94255799999998%5D%2C%20%5B28.024456%2C%20-82.707821%5D%2C%20%5B38.671255%2C%20-121.548932%5D%2C%20%5B40.671086%2C%20-73.968036%5D%2C%20%5B42.387808%2C%20-83.016255%5D%2C%20%5B39.746299%2C%20-105.397798%5D%2C%20%5B41.85757%2C%20-87.64439%5D%2C%20%5B36.766229%2C%20-76.58229200000002%5D%2C%20%5B41.81119%2C%20-87.63034%5D%2C%20%5B45.498386%2C%20-122.6732%5D%2C%20%5B25.762348%2C%20-80.320894%5D%2C%20%5B34.407726000000004%2C%20-118.946005%5D%2C%20%5B32.754003999999995%2C%20-117.206706%5D%2C%20%5B40.093817%2C%20-76.304214%5D%2C%20%5B41.214178%2C%20-73.086881%5D%2C%20%5B41.09994%2C%20-112.00054%5D%2C%20%5B38.587313%2C%20-120.96366299999998%5D%2C%20%5B29.703822%2C%20-95.586008%5D%2C%20%5B41.83424%2C%20-87.87422%5D%2C%20%5B30.440096%2C%20-84.218719%5D%2C%20%5B39.296092%2C%20-76.855834%5D%2C%20%5B35.82398%2C%20-78.61841%5D%2C%20%5B36.728546%2C%20-119.699916%5D%2C%20%5B37.95263%2C%20-121.276133%5D%2C%20%5B32.792786%2C%20-96.621325%5D%2C%20%5B32.73045%2C%20-97.22502%5D%2C%20%5B33.863209999999995%2C%20-117.53918%5D%2C%20%5B35.880895%2C%20-119.537929%5D%2C%20%5B40.75218%2C%20-73.96441999999998%5D%2C%20%5B34.11753%2C%20-117.85069%5D%2C%20%5B40.272692%2C%20-74.218751%5D%2C%20%5B35.40311%2C%20-119.04575%5D%2C%20%5B44.90153%2C%20-93.06572%5D%2C%20%5B34.145641999999995%2C%20-79.908752%5D%2C%20%5B33.816229%2C%20-118.187538%5D%2C%20%5B39.99047%2C%20-111.49884%5D%2C%20%5B33.940769%2C%20-117.87814%5D%2C%20%5B25.6803%2C%20-80.316576%5D%2C%20%5B27.794061%2C%20-82.334977%5D%2C%20%5B38.714376%2C%20-121.564022%5D%2C%20%5B40.98634000000001%2C%20-74.16671%5D%2C%20%5B33.934785%2C%20-118.231083%5D%2C%20%5B41.546776%2C%20-112.067901%5D%2C%20%5B41.82591%2C%20-87.68491999999998%5D%2C%20%5B35.964711%2C%20-78.84637%5D%2C%20%5B39.84798%2C%20-75.09573%5D%2C%20%5B35.19565%2C%20-114.06711%5D%2C%20%5B28.491757%2C%20-81.42833900000002%5D%2C%20%5B40.42272%2C%20-111.88173%5D%2C%20%5B38.661829%2C%20-121.536559%5D%2C%20%5B43.771163%2C%20-73.960623%5D%2C%20%5B33.377679%2C%20-112.125114%5D%2C%20%5B39.71003%2C%20-111.85941%5D%2C%20%5B34.186846%2C%20-80.693067%5D%2C%20%5B26.08086%2C%20-80.3613%5D%2C%20%5B29.70698%2C%20-95.23271%5D%2C%20%5B35.93185%2C%20-119.90905%5D%2C%20%5B45.107717%2C%20-93.465989%5D%2C%20%5B39.87405%2C%20-75.09479%5D%2C%20%5B45.036642%2C%20-93.006816%5D%2C%20%5B40.158899%2C%20-76.152731%5D%2C%20%5B34.055841%2C%20-117.40971100000002%5D%2C%20%5B42.727227%2C%20-84.569749%5D%2C%20%5B34.435989%2C%20-82.678276%5D%2C%20%5B37.63719%2C%20-77.57883000000002%5D%2C%20%5B30.729468%2C%20-86.092384%5D%2C%20%5B41.431621%2C%20-73.63044599999998%5D%2C%20%5B45.34971%2C%20-122.65857%5D%2C%20%5B40.765844%2C%20-74.02143199999998%5D%2C%20%5B32.396621%2C%20-86.395175%5D%2C%20%5B39.847481%2C%20-75.70917800000002%5D%2C%20%5B34.50437%2C%20-82.56994499999998%5D%2C%20%5B35.543246%2C%20-77.518413%5D%2C%20%5B43.580585%2C%20-121.57716299999998%5D%2C%20%5B34.777039%2C%20-92.236865%5D%2C%20%5B34.078119%2C%20-81.153031%5D%2C%20%5B39.280167%2C%20-77.324556%5D%2C%20%5B36.435228%2C%20-121.339986%5D%2C%20%5B43.1448%2C%20-77.5557%5D%2C%20%5B34.359859%2C%20-119.041789%5D%2C%20%5B39.556446%2C%20-119.74783%5D%2C%20%5B41.11141%2C%20-73.54809%5D%2C%20%5B29.101294%2C%20-81.338233%5D%2C%20%5B33.774462%2C%20-118.055799%5D%2C%20%5B32.769901000000004%2C%20-117.206747%5D%2C%20%5B38.382468%2C%20-120.693541%5D%2C%20%5B32.76625%2C%20-96.85684%5D%2C%20%5B45.541553%2C%20-122.477318%5D%2C%20%5B29.85664%2C%20-95.56372%5D%2C%20%5B41.871591%2C%20-73.363878%5D%2C%20%5B37.8443%2C%20-122.29767%5D%2C%20%5B40.06617%2C%20-111.72214%5D%2C%20%5B45.210723%2C%20-93.583708%5D%2C%20%5B45.45374%2C%20-122.78462%5D%2C%20%5B32.257872%2C%20-110.89305%5D%2C%20%5B38.938291%2C%20-94.534781%5D%2C%20%5B33.859497%2C%20-118.290432%5D%2C%20%5B34.087475%2C%20-117.64571%5D%2C%20%5B41.238608%2C%20-78.548748%5D%2C%20%5B40.78111%2C%20-73.94405%5D%2C%20%5B39.754531%2C%20-84.253118%5D%2C%20%5B36.066456%2C%20-80.229019%5D%2C%20%5B44.951757%2C%20-93.172528%5D%2C%20%5B33.9851%2C%20-118.28266%5D%2C%20%5B34.197844%2C%20-117.4183%5D%2C%20%5B43.258287%2C%20-122.174591%5D%2C%20%5B32.572727%2C%20-96.670248%5D%2C%20%5B31.73783%2C%20-83.65341%5D%2C%20%5B34.03705%2C%20-118.31209%5D%2C%20%5B34.170794%2C%20-118.574521%5D%2C%20%5B32.981204%2C%20-117.08515%5D%2C%20%5B38.63776%2C%20-77.298245%5D%2C%20%5B34.808578000000004%2C%20-81.904787%5D%2C%20%5B32.817791%2C%20-83.72913199999998%5D%2C%20%5B35.087706%2C%20-81.336048%5D%2C%20%5B28.47258900000001%2C%20-81.39546899999998%5D%2C%20%5B37.70078%2C%20-122.02652%5D%2C%20%5B25.808772%2C%20-80.24969499999997%5D%2C%20%5B35.734688%2C%20-78.588291%5D%2C%20%5B26.547899%2C%20-81.85273199999997%5D%2C%20%5B30.52202%2C%20-81.63571%5D%2C%20%5B39.24096%2C%20-76.5884%5D%2C%20%5B39.413913%2C%20-76.789401%5D%2C%20%5B28.45317600000001%2C%20-81.400087%5D%2C%20%5B34.019387%2C%20-118.479446%5D%2C%20%5B35.836413%2C%20-78.65604300000003%5D%2C%20%5B38.614207%2C%20-121.532725%5D%2C%20%5B38.95096%2C%20-77.17737%5D%2C%20%5B36.083227%2C%20-94.198219%5D%2C%20%5B40.11473%2C%20-111.71701000000002%5D%2C%20%5B40.597819%2C%20-74.231797%5D%2C%20%5B40.75327%2C%20-74.21083%5D%2C%20%5B34.152405%2C%20-81.25354399999998%5D%2C%20%5B39.867212%2C%20-75.101045%5D%2C%20%5B44.46796%2C%20-93.29216%5D%2C%20%5B36.986998%2C%20-122.155303%5D%2C%20%5B28.258685%2C%20-81.436332%5D%2C%20%5B33.91635%2C%20-118.263368%5D%2C%20%5B41.86748%2C%20-87.6187%5D%2C%20%5B29.457575%2C%20-98.515745%5D%2C%20%5B27.102767%2C%20-80.257948%5D%2C%20%5B35.149605%2C%20-80.830292%5D%2C%20%5B34.667654%2C%20-120.122928%5D%2C%20%5B34.141296999999994%2C%20-80.964567%5D%2C%20%5B34.3233%2C%20-118.47508%5D%2C%20%5B39.16209%2C%20-84.50769%5D%2C%20%5B37.842906%2C%20-81.19373900000002%5D%2C%20%5B42.537893%2C%20-83.770623%5D%2C%20%5B30.464748%2C%20-91.058102%5D%2C%20%5B34.072216%2C%20-118.062719%5D%2C%20%5B29.70751%2C%20-95.10257%5D%2C%20%5B29.962447%2C%20-90.113622%5D%2C%20%5B38.251879%2C%20-81.5732%5D%2C%20%5B25.760882%2C%20-80.39381800000002%5D%2C%20%5B41.17519%2C%20-112.00889%5D%2C%20%5B25.885187%2C%20-80.16494200000002%5D%2C%20%5B32.732820000000004%2C%20-97.39661%5D%2C%20%5B38.975498%2C%20-77.42930799999998%5D%2C%20%5B42.824002%2C%20-78.79092299999998%5D%2C%20%5B37.521064%2C%20-122.267238%5D%2C%20%5B40.847582%2C%20-73.92505%5D%2C%20%5B38.709472%2C%20-76.87817700000002%5D%2C%20%5B27.09987000000001%2C%20-82.43363000000002%5D%2C%20%5B38.510814%2C%20-121.355032%5D%2C%20%5B33.999662%2C%20-117.929915%5D%2C%20%5B36.133288%2C%20-86.818947%5D%2C%20%5B35.83443%2C%20-78.668514%5D%2C%20%5B28.449913%2C%20-81.48089499999998%5D%2C%20%5B25.94225%2C%20-80.345474%5D%2C%20%5B45.777357%2C%20-122.672106%5D%2C%20%5B32.77381%2C%20-96.91586%5D%2C%20%5B39.818433%2C%20-76.134964%5D%2C%20%5B34.511712%2C%20-117.321903%5D%2C%20%5B34.0264%2C%20-118.27523%5D%2C%20%5B41.26296%2C%20-96.15994%5D%2C%20%5B47.507035%2C%20-97.090455%5D%2C%20%5B39.061449%2C%20-77.155727%5D%2C%20%5B44.948426%2C%20-92.897032%5D%2C%20%5B35.893962%2C%20-78.755033%5D%2C%20%5B37.7862%2C%20-122.39069%5D%2C%20%5B37.90299%2C%20-122.3121%5D%2C%20%5B34.074484000000005%2C%20-117.810858%5D%2C%20%5B47.25124%2C%20-122.33266%5D%2C%20%5B30.102834%2C%20-97.641076%5D%2C%20%5B43.115883%2C%20-71.479427%5D%2C%20%5B29.601053000000004%2C%20-98.556818%5D%2C%20%5B33.859955%2C%20-118.309318%5D%2C%20%5B41.05903%2C%20-73.838306%5D%2C%20%5B40.784479%2C%20-73.94199%5D%2C%20%5B42.913243%2C%20-85.583505%5D%2C%20%5B41.061476%2C%20-111.964727%5D%2C%20%5B40.760418%2C%20-74.003114%5D%2C%20%5B25.680822%2C%20-80.316221%5D%2C%20%5B34.145990000000005%2C%20-117.189456%5D%2C%20%5B25.92841%2C%20-80.20604200000002%5D%2C%20%5B25.797139%2C%20-80.20558299999998%5D%2C%20%5B44.862772%2C%20-93.211107%5D%2C%20%5B33.919078000000006%2C%20-117.434624%5D%2C%20%5B25.640917%2C%20-80.335406%5D%2C%20%5B38.40297%2C%20-75.61532%5D%2C%20%5B35.568119%2C%20-120.700639%5D%2C%20%5B33.775317%2C%20-117.873546%5D%2C%20%5B37.712183%2C%20-122.395821%5D%2C%20%5B44.84095%2C%20-93.24419%5D%2C%20%5B41.59211%2C%20-73.76478%5D%2C%20%5B28.639522%2C%20-81.38801600000002%5D%2C%20%5B28.538968%2C%20-81.31222199999998%5D%2C%20%5B33.98893%2C%20-117.36979%5D%2C%20%5B45.808111%2C%20-119.963236%5D%2C%20%5B27.937591%2C%20-82.29174300000003%5D%2C%20%5B29.659579%2C%20-82.420913%5D%2C%20%5B32.79006%2C%20-97.25266%5D%2C%20%5B45.58462%2C%20-122.54392%5D%2C%20%5B38.341625%2C%20-81.663216%5D%2C%20%5B33.523787%2C%20-112.043848%5D%2C%20%5B39.35811%2C%20-76.502778%5D%2C%20%5B45.208598%2C%20-123.197954%5D%2C%20%5B44.957331%2C%20-93.196216%5D%2C%20%5B36.014502%2C%20-86.619698%5D%2C%20%5B32.760326%2C%20-117.196578%5D%2C%20%5B44.66054000000001%2C%20-123.059697%5D%2C%20%5B45.453799%2C%20-122.716567%5D%2C%20%5B40.85306%2C%20-73.96011%5D%2C%20%5B38.65782%2C%20-121.36338%5D%2C%20%5B25.580293%2C%20-80.45245%5D%2C%20%5B30.435213%2C%20-87.271417%5D%2C%20%5B39.824541%2C%20-75.082071%5D%2C%20%5B26.61285100000001%2C%20-81.803383%5D%2C%20%5B40.83649000000001%2C%20-73.87673000000002%5D%2C%20%5B36.04656%2C%20-86.661262%5D%2C%20%5B28.53554%2C%20-81.38319%5D%2C%20%5B32.366183%2C%20-86.290456%5D%2C%20%5B28.442079%2C%20-81.40321999999998%5D%2C%20%5B34.23152%2C%20-93.011423%5D%2C%20%5B39.01796%2C%20-76.95491%5D%2C%20%5B41.78419%2C%20-72.66055%5D%2C%20%5B36.912764%2C%20-76.26325899999998%5D%2C%20%5B38.572351%2C%20-121.336525%5D%2C%20%5B39.22189%2C%20-76.66013000000002%5D%2C%20%5B34.058921999999995%2C%20-118.245114%5D%2C%20%5B25.899777%2C%20-80.21024399999997%5D%2C%20%5B45.03568%2C%20-92.95053%5D%2C%20%5B27.160917%2C%20-80.304361%5D%2C%20%5B44.38059000000001%2C%20-89.8171%5D%2C%20%5B41.804337%2C%20-124.143242%5D%2C%20%5B41.81906%2C%20-71.385038%5D%2C%20%5B43.206338%2C%20-83.754588%5D%2C%20%5B36.93587%2C%20-76.265139%5D%2C%20%5B34.500158%2C%20-117.373078%5D%2C%20%5B44.951722%2C%20-93.171554%5D%2C%20%5B39.02094500000001%2C%20-77.383411%5D%2C%20%5B44.40562%2C%20-123.91462%5D%2C%20%5B33.740048%2C%20-84.23064699999998%5D%2C%20%5B33.688708%2C%20-117.917475%5D%2C%20%5B33.621007%2C%20-85.59260400000002%5D%2C%20%5B36.06113%2C%20-80.222414%5D%2C%20%5B45.068203%2C%20-93.265224%5D%2C%20%5B40.736915%2C%20-73.930311%5D%2C%20%5B44.53883%2C%20-93.8485%5D%2C%20%5B40.608887%2C%20-111.890693%5D%2C%20%5B39.76646%2C%20-105.14298%5D%2C%20%5B38.124991%2C%20-112.632569%5D%2C%20%5B41.100744%2C%20-73.956924%5D%2C%20%5B45.883203%2C%20-123.153353%5D%2C%20%5B33.9218%2C%20-117.288713%5D%2C%20%5B38.531701%2C%20-77.358337%5D%2C%20%5B37.74292%2C%20-121.537115%5D%2C%20%5B29.652656%2C%20-95.352545%5D%2C%20%5B38.541206%2C%20-121.473732%5D%2C%20%5B36.091311%2C%20-86.77139100000002%5D%2C%20%5B25.933097%2C%20-80.121872%5D%2C%20%5B33.332251%2C%20-117.157934%5D%2C%20%5B34.661597%2C%20-84.987587%5D%2C%20%5B40.038846%2C%20-121.617032%5D%2C%20%5B40.68258%2C%20-73.66615%5D%2C%20%5B25.825009%2C%20-80.240921%5D%2C%20%5B35.136086%2C%20-80.737583%5D%2C%20%5B38.0022%2C%20-84.49595%5D%2C%20%5B34.035305%2C%20-118.369349%5D%2C%20%5B25.929361%2C%20-80.314599%5D%2C%20%5B45.07291%2C%20-122.68588%5D%2C%20%5B42.07365%2C%20-87.70665%5D%2C%20%5B34.976352%2C%20-81.008924%5D%2C%20%5B40.234841%2C%20-74.799288%5D%2C%20%5B38.424191%2C%20-121.395536%5D%2C%20%5B38.690605%2C%20-121.41985%5D%2C%20%5B35.209175%2C%20-118.80616299999998%5D%2C%20%5B38.968518%2C%20-92.32261%5D%2C%20%5B25.665336%2C%20-80.32404%5D%2C%20%5B36.82243%2C%20-119.904974%5D%2C%20%5B38.932746%2C%20-94.634095%5D%2C%20%5B32.771892%2C%20-117.131972%5D%2C%20%5B44.426224%2C%20-121.877945%5D%2C%20%5B43.022042%2C%20-83.654899%5D%2C%20%5B38.81754%2C%20-90.9596%5D%2C%20%5B28.193776%2C%20-82.39251999999998%5D%2C%20%5B30.469649%2C%20-97.67503%5D%2C%20%5B29.944514%2C%20-90.077666%5D%2C%20%5B44.86121%2C%20-93.31887%5D%2C%20%5B34.152894%2C%20-118.279931%5D%2C%20%5B33.912863%2C%20-117.284983%5D%2C%20%5B40.38804%2C%20-111.824809%5D%2C%20%5B28.559354%2C%20-81.475895%5D%2C%20%5B33.70545300000001%2C%20-117.954392%5D%2C%20%5B33.253578000000005%2C%20-80.528231%5D%2C%20%5B29.81392%2C%20-95.37013%5D%2C%20%5B40.789652%2C%20-73.821079%5D%2C%20%5B37.064801%2C%20-122.056834%5D%2C%20%5B45.7852%2C%20-122.87268%5D%2C%20%5B28.527851%2C%20-81.465114%5D%2C%20%5B43.05526%2C%20-76.16285%5D%2C%20%5B40.434486%2C%20-74.487262%5D%2C%20%5B30.24164600000001%2C%20-82.642511%5D%2C%20%5B36.157341%2C%20-86.78571%5D%2C%20%5B34.069988%2C%20-118.027077%5D%2C%20%5B34.222097%2C%20-118.236665%5D%2C%20%5B42.892438%2C%20-78.89206%5D%2C%20%5B37.806991%2C%20-122.47551%5D%2C%20%5B33.51945300000001%2C%20-86.85854300000004%5D%2C%20%5B33.46034%2C%20-80.73268%5D%2C%20%5B45.057277%2C%20-123.953543%5D%2C%20%5B47.01904%2C%20-114.278701%5D%2C%20%5B30.231812%2C%20-97.736177%5D%2C%20%5B29.677851%2C%20-95.496044%5D%2C%20%5B34.30291%2C%20-86.99667%5D%2C%20%5B31.776961%2C%20-106.425507%5D%2C%20%5B33.585099%2C%20-79.016082%5D%2C%20%5B40.031257%2C%20-76.486571%5D%2C%20%5B28.062803%2C%20-82.706307%5D%2C%20%5B25.761091%2C%20-80.44900200000002%5D%2C%20%5B38.65554%2C%20-87.12366999999998%5D%2C%20%5B45.09438%2C%20-93.29007%5D%2C%20%5B37.051497%2C%20-122.037681%5D%2C%20%5B38.728512%2C%20-90.329579%5D%2C%20%5B32.816389%2C%20-96.78883%5D%2C%20%5B33.525756%2C%20-117.16493%5D%2C%20%5B41.245111%2C%20-73.10241500000002%5D%2C%20%5B41.07128400000001%2C%20-73.909444%5D%2C%20%5B33.876962%2C%20-118.18236%5D%2C%20%5B35.0449%2C%20-85.16246%5D%2C%20%5B30.747867%2C%20-85.865095%5D%2C%20%5B25.890318%2C%20-80.163545%5D%2C%20%5B46.008032%2C%20-112.60555%5D%2C%20%5B40.6888%2C%20-73.80870999999998%5D%2C%20%5B32.272343%2C%20-111.00411%5D%2C%20%5B47.215687%2C%20-94.796637%5D%2C%20%5B33.859627%2C%20-118.290954%5D%2C%20%5B34.066984000000005%2C%20-117.453788%5D%2C%20%5B38.295548%2C%20-120.915997%5D%2C%20%5B30.350254%2C%20-97.718525%5D%2C%20%5B35.00138%2C%20-109.89679%5D%2C%20%5B34.55838%2C%20-118.132608%5D%2C%20%5B38.989103%2C%20-121.55167%5D%2C%20%5B34.05825%2C%20-118.244208%5D%2C%20%5B41.88246%2C%20-87.91957%5D%2C%20%5B28.340064%2C%20-81.59699300000003%5D%2C%20%5B42.32325%2C%20-122.86539%5D%2C%20%5B44.07402%2C%20-123.506954%5D%2C%20%5B33.873518%2C%20-118.248778%5D%2C%20%5B38.937713%2C%20-76.915194%5D%2C%20%5B32.82204%2C%20-96.878352%5D%2C%20%5B35.49321%2C%20-97.43283%5D%2C%20%5B47.62464%2C%20-122.33343%5D%2C%20%5B37.459784%2C%20-122.267845%5D%2C%20%5B35.227936%2C%20-80.812782%5D%2C%20%5B30.168532%2C%20-97.784897%5D%2C%20%5B25.866297%2C%20-80.24238199999998%5D%2C%20%5B40.52691%2C%20-74.329312%5D%2C%20%5B41.79733%2C%20-71.40356%5D%2C%20%5B32.810088%2C%20-96.805643%5D%2C%20%5B34.536344%2C%20-119.246867%5D%2C%20%5B38.105124%2C%20-122.229585%5D%2C%20%5B27.98686%2C%20-82.37684%5D%2C%20%5B25.73299500000001%2C%20-80.337037%5D%2C%20%5B34.809534%2C%20-92.318446%5D%2C%20%5B43.596736%2C%20-116.352482%5D%2C%20%5B33.762555%2C%20-117.264331%5D%2C%20%5B30.449964%2C%20-91.138967%5D%2C%20%5B39.75779%2C%20-75.12716999999998%5D%2C%20%5B32.485341%2C%20-93.774042%5D%2C%20%5B28.551689%2C%20-81.396029%5D%2C%20%5B36.125138%2C%20-86.733638%5D%2C%20%5B40.860651%2C%20-76.789303%5D%2C%20%5B38.83998%2C%20-77.2195%5D%2C%20%5B45.288581%2C%20-122.999778%5D%2C%20%5B38.964079%2C%20-94.358737%5D%2C%20%5B38.86300900000001%2C%20-77.382942%5D%2C%20%5B30.41538%2C%20-91.07327%5D%5D%2C%0A%20%20%20%20%20%20%20%20%20%20%20%20%20%20%20%20%7B%0A%20%20%20%20%20%20%20%20%20%20%20%20%20%20%20%20%20%20%20%20minOpacity%3A%200.5%2C%0A%20%20%20%20%20%20%20%20%20%20%20%20%20%20%20%20%20%20%20%20maxZoom%3A%2018%2C%0A%20%20%20%20%20%20%20%20%20%20%20%20%20%20%20%20%20%20%20%20max%3A%201.0%2C%0A%20%20%20%20%20%20%20%20%20%20%20%20%20%20%20%20%20%20%20%20radius%3A%2025%2C%0A%20%20%20%20%20%20%20%20%20%20%20%20%20%20%20%20%20%20%20%20blur%3A%2015%2C%0A%20%20%20%20%20%20%20%20%20%20%20%20%20%20%20%20%20%20%20%20gradient%3A%20null%0A%20%20%20%20%20%20%20%20%20%20%20%20%20%20%20%20%20%20%20%20%7D%29%0A%20%20%20%20%20%20%20%20%20%20%20%20%20%20%20%20.addTo%28map_dd9c33c4af914cb39aa7625d80b5b68f%29%3B%0A%20%20%20%20%20%20%20%20%0A%3C/script%3E onload=\"this.contentDocument.open();this.contentDocument.write(    decodeURIComponent(this.getAttribute('data-html')));this.contentDocument.close();\" allowfullscreen webkitallowfullscreen mozallowfullscreen></iframe></div></div>"
            ]
          },
          "metadata": {},
          "execution_count": 179
        }
      ]
    },
    {
      "cell_type": "code",
      "source": [
        ""
      ],
      "metadata": {
        "id": "apIaWDM7NLIc"
      },
      "execution_count": null,
      "outputs": []
    },
    {
      "cell_type": "code",
      "source": [
        ""
      ],
      "metadata": {
        "id": "JscwXwHjNLF1"
      },
      "execution_count": null,
      "outputs": []
    },
    {
      "cell_type": "markdown",
      "source": [
        "##Summary"
      ],
      "metadata": {
        "id": "ZBaSlaG2rywp"
      }
    },
    {
      "cell_type": "markdown",
      "source": [
        "- New York is not included as a part of the Dataset and therefore was not included in this analysis.\n",
        "- Less that 5% of cities have more than 1000 accidents.\n",
        "- Most cities, over 1000, have only reported 1 accident throughout the length of the data collection.\n",
        "- The number of accidents has an e^x progression in realtion to accidents. \n",
        "- The more the amount of people there are in an area, the higher the chance of a car accident. \n",
        "- Therefore population denisty, traffic, and car accidents are all proportional to eachother. "
      ],
      "metadata": {
        "id": "1EevwScNBitf"
      }
    },
    {
      "cell_type": "code",
      "source": [
        "jovian.commit()"
      ],
      "metadata": {
        "colab": {
          "base_uri": "https://localhost:8080/",
          "height": 89
        },
        "id": "FZ8m2vp8r0fs",
        "outputId": "413cb472-a9b0-4c81-e4ee-c5e6568a63f4"
      },
      "execution_count": 180,
      "outputs": [
        {
          "output_type": "stream",
          "name": "stdout",
          "text": [
            "[jovian] Detected Colab notebook...\u001b[0m\n",
            "[jovian] Uploading colab notebook to Jovian...\u001b[0m\n",
            "Committed successfully! https://jovian.ai/paulbilg/usa-accidents-analysis-report\n"
          ]
        },
        {
          "output_type": "execute_result",
          "data": {
            "text/plain": [
              "'https://jovian.ai/paulbilg/usa-accidents-analysis-report'"
            ],
            "application/vnd.google.colaboratory.intrinsic+json": {
              "type": "string"
            }
          },
          "metadata": {},
          "execution_count": 180
        }
      ]
    }
  ],
  "metadata": {
    "kernelspec": {
      "display_name": "Python 3",
      "language": "python",
      "name": "python3"
    },
    "language_info": {
      "codemirror_mode": {
        "name": "ipython",
        "version": 3
      },
      "file_extension": ".py",
      "mimetype": "text/x-python",
      "name": "python",
      "nbconvert_exporter": "python",
      "pygments_lexer": "ipython3",
      "version": "3.7.6"
    },
    "colab": {
      "name": "usa-accidents-analysis-report.ipynb",
      "provenance": []
    }
  },
  "nbformat": 4,
  "nbformat_minor": 0
}